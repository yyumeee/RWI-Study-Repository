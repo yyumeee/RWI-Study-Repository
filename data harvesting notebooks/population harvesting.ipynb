{
 "cells": [
  {
   "cell_type": "markdown",
   "id": "8d957979-5999-48b2-b8b3-0d672d12656d",
   "metadata": {},
   "source": [
    "The Population data is sourced from the Humanitarian Data Exchange Hub https://data.humdata.org/, a repository of humanitarian data from multiple sources, and uses mainly data from Meta, which developed a model to estimate population at an extremely granular level (you can read about it here https://dataforgood.facebook.com/dfg/tools/high-resolution-population-density-maps), with integration of data from Kontur, a free humanitarian geospatial data provider (https://www.kontur.io/) for countries not supported by the Meta model. It's important to note that the data is subsetted in countries, and we used that as an advantage to track all the quadkeys of interest and label them to each country."
   ]
  },
  {
   "cell_type": "code",
   "execution_count": 1,
   "id": "5895e106-49da-46ba-b0f3-a3a227d335cc",
   "metadata": {},
   "outputs": [],
   "source": [
    "import pandas as pd\n",
    "import os\n",
    "\n",
    "cart = 'C:\\\\Users\\\\Luca\\\\Downloads\\\\temp'"
   ]
  },
  {
   "cell_type": "markdown",
   "id": "e02e26a8-2dac-4af2-b422-05f7f15fd9d8",
   "metadata": {},
   "source": [
    "We're now going to illustrate the process of reading a Meta dataset for a random country, in this case Angola. The dataset consists of three columns: longitude, latitude, and the population, which is named as the country's ISO-3 code, followed by 'general', and the year in which the estimate took place. Since all the information is stored in the file's name, it's easy to iteratively find the population column's name, and then rename it as a more commonplace 'population'."
   ]
  },
  {
   "cell_type": "code",
   "execution_count": 2,
   "id": "f28db00b-5a3b-4ac4-a017-bea0c32c44a8",
   "metadata": {},
   "outputs": [
    {
     "data": {
      "text/html": [
       "<div>\n",
       "<style scoped>\n",
       "    .dataframe tbody tr th:only-of-type {\n",
       "        vertical-align: middle;\n",
       "    }\n",
       "\n",
       "    .dataframe tbody tr th {\n",
       "        vertical-align: top;\n",
       "    }\n",
       "\n",
       "    .dataframe thead th {\n",
       "        text-align: right;\n",
       "    }\n",
       "</style>\n",
       "<table border=\"1\" class=\"dataframe\">\n",
       "  <thead>\n",
       "    <tr style=\"text-align: right;\">\n",
       "      <th></th>\n",
       "      <th>longitude</th>\n",
       "      <th>latitude</th>\n",
       "      <th>ago_general_2020</th>\n",
       "    </tr>\n",
       "  </thead>\n",
       "  <tbody>\n",
       "    <tr>\n",
       "      <th>0</th>\n",
       "      <td>11.751806</td>\n",
       "      <td>-3.999861</td>\n",
       "      <td>7.292872</td>\n",
       "    </tr>\n",
       "    <tr>\n",
       "      <th>1</th>\n",
       "      <td>13.914028</td>\n",
       "      <td>-3.999861</td>\n",
       "      <td>11.271312</td>\n",
       "    </tr>\n",
       "    <tr>\n",
       "      <th>2</th>\n",
       "      <td>13.916806</td>\n",
       "      <td>-3.999861</td>\n",
       "      <td>11.271312</td>\n",
       "    </tr>\n",
       "    <tr>\n",
       "      <th>3</th>\n",
       "      <td>13.917639</td>\n",
       "      <td>-3.999861</td>\n",
       "      <td>11.271312</td>\n",
       "    </tr>\n",
       "    <tr>\n",
       "      <th>4</th>\n",
       "      <td>13.917917</td>\n",
       "      <td>-3.999861</td>\n",
       "      <td>11.271312</td>\n",
       "    </tr>\n",
       "    <tr>\n",
       "      <th>...</th>\n",
       "      <td>...</td>\n",
       "      <td>...</td>\n",
       "      <td>...</td>\n",
       "    </tr>\n",
       "    <tr>\n",
       "      <th>5687940</th>\n",
       "      <td>22.232361</td>\n",
       "      <td>-18.999028</td>\n",
       "      <td>3.144540</td>\n",
       "    </tr>\n",
       "    <tr>\n",
       "      <th>5687941</th>\n",
       "      <td>23.769583</td>\n",
       "      <td>-18.999306</td>\n",
       "      <td>3.126035</td>\n",
       "    </tr>\n",
       "    <tr>\n",
       "      <th>5687942</th>\n",
       "      <td>23.770139</td>\n",
       "      <td>-18.999306</td>\n",
       "      <td>3.126035</td>\n",
       "    </tr>\n",
       "    <tr>\n",
       "      <th>5687943</th>\n",
       "      <td>23.770417</td>\n",
       "      <td>-18.999306</td>\n",
       "      <td>3.126035</td>\n",
       "    </tr>\n",
       "    <tr>\n",
       "      <th>5687944</th>\n",
       "      <td>23.769861</td>\n",
       "      <td>-18.999583</td>\n",
       "      <td>3.126035</td>\n",
       "    </tr>\n",
       "  </tbody>\n",
       "</table>\n",
       "<p>5687945 rows × 3 columns</p>\n",
       "</div>"
      ],
      "text/plain": [
       "         longitude   latitude  ago_general_2020\n",
       "0        11.751806  -3.999861          7.292872\n",
       "1        13.914028  -3.999861         11.271312\n",
       "2        13.916806  -3.999861         11.271312\n",
       "3        13.917639  -3.999861         11.271312\n",
       "4        13.917917  -3.999861         11.271312\n",
       "...            ...        ...               ...\n",
       "5687940  22.232361 -18.999028          3.144540\n",
       "5687941  23.769583 -18.999306          3.126035\n",
       "5687942  23.770139 -18.999306          3.126035\n",
       "5687943  23.770417 -18.999306          3.126035\n",
       "5687944  23.769861 -18.999583          3.126035\n",
       "\n",
       "[5687945 rows x 3 columns]"
      ]
     },
     "execution_count": 2,
     "metadata": {},
     "output_type": "execute_result"
    }
   ],
   "source": [
    "ago = pd.read_csv(f'{cart}\\\\ago_general_2020.csv')\n",
    "ago"
   ]
  },
  {
   "cell_type": "code",
   "execution_count": 3,
   "id": "b38810cc-1070-457d-90b8-a4b359625365",
   "metadata": {},
   "outputs": [],
   "source": [
    "file = 'ago_general_2020.csv'\n",
    "country = file[0:3]\n",
    "anno = file[12:16]\n",
    "nome_var = country + '_general_' + anno\n",
    "\n",
    "ago = ago.rename(columns = {nome_var: 'population', 'latitude': 'lat', 'longitude': 'lon'})"
   ]
  },
  {
   "cell_type": "code",
   "execution_count": 4,
   "id": "547cffd5-7115-469e-b606-b8daa7575564",
   "metadata": {},
   "outputs": [
    {
     "data": {
      "text/html": [
       "<div>\n",
       "<style scoped>\n",
       "    .dataframe tbody tr th:only-of-type {\n",
       "        vertical-align: middle;\n",
       "    }\n",
       "\n",
       "    .dataframe tbody tr th {\n",
       "        vertical-align: top;\n",
       "    }\n",
       "\n",
       "    .dataframe thead th {\n",
       "        text-align: right;\n",
       "    }\n",
       "</style>\n",
       "<table border=\"1\" class=\"dataframe\">\n",
       "  <thead>\n",
       "    <tr style=\"text-align: right;\">\n",
       "      <th></th>\n",
       "      <th>lon</th>\n",
       "      <th>lat</th>\n",
       "      <th>population</th>\n",
       "    </tr>\n",
       "  </thead>\n",
       "  <tbody>\n",
       "    <tr>\n",
       "      <th>count</th>\n",
       "      <td>5.687945e+06</td>\n",
       "      <td>5.687945e+06</td>\n",
       "      <td>5.687945e+06</td>\n",
       "    </tr>\n",
       "    <tr>\n",
       "      <th>mean</th>\n",
       "      <td>1.763886e+01</td>\n",
       "      <td>-8.936835e+00</td>\n",
       "      <td>1.278684e+01</td>\n",
       "    </tr>\n",
       "    <tr>\n",
       "      <th>std</th>\n",
       "      <td>3.833931e+00</td>\n",
       "      <td>4.499281e+00</td>\n",
       "      <td>1.314782e+01</td>\n",
       "    </tr>\n",
       "    <tr>\n",
       "      <th>min</th>\n",
       "      <td>1.123764e+01</td>\n",
       "      <td>-1.899958e+01</td>\n",
       "      <td>0.000000e+00</td>\n",
       "    </tr>\n",
       "    <tr>\n",
       "      <th>25%</th>\n",
       "      <td>1.478986e+01</td>\n",
       "      <td>-1.254819e+01</td>\n",
       "      <td>5.726582e+00</td>\n",
       "    </tr>\n",
       "    <tr>\n",
       "      <th>50%</th>\n",
       "      <td>1.615236e+01</td>\n",
       "      <td>-7.005972e+00</td>\n",
       "      <td>9.237220e+00</td>\n",
       "    </tr>\n",
       "    <tr>\n",
       "      <th>75%</th>\n",
       "      <td>2.133736e+01</td>\n",
       "      <td>-5.227361e+00</td>\n",
       "      <td>1.478771e+01</td>\n",
       "    </tr>\n",
       "    <tr>\n",
       "      <th>max</th>\n",
       "      <td>2.499958e+01</td>\n",
       "      <td>-3.999861e+00</td>\n",
       "      <td>1.798801e+02</td>\n",
       "    </tr>\n",
       "  </tbody>\n",
       "</table>\n",
       "</div>"
      ],
      "text/plain": [
       "                lon           lat    population\n",
       "count  5.687945e+06  5.687945e+06  5.687945e+06\n",
       "mean   1.763886e+01 -8.936835e+00  1.278684e+01\n",
       "std    3.833931e+00  4.499281e+00  1.314782e+01\n",
       "min    1.123764e+01 -1.899958e+01  0.000000e+00\n",
       "25%    1.478986e+01 -1.254819e+01  5.726582e+00\n",
       "50%    1.615236e+01 -7.005972e+00  9.237220e+00\n",
       "75%    2.133736e+01 -5.227361e+00  1.478771e+01\n",
       "max    2.499958e+01 -3.999861e+00  1.798801e+02"
      ]
     },
     "execution_count": 4,
     "metadata": {},
     "output_type": "execute_result"
    }
   ],
   "source": [
    "ago.describe()"
   ]
  },
  {
   "cell_type": "markdown",
   "id": "88cbe124-1497-4794-a267-6c46e482463b",
   "metadata": {},
   "source": [
    "The assignment of each point to its own quadkey 14 tile is easily done thanks to pyquadkey2's quadkey.from_geo() function. In this case, there are 99,565 separate quadkeys for the country of Angola."
   ]
  },
  {
   "cell_type": "code",
   "execution_count": 5,
   "id": "61d262d5-63d7-4444-a746-75730c8548c5",
   "metadata": {},
   "outputs": [
    {
     "data": {
      "text/plain": [
       "99565"
      ]
     },
     "execution_count": 5,
     "metadata": {},
     "output_type": "execute_result"
    }
   ],
   "source": [
    "from pyquadkey2 import quadkey\n",
    "ago['quadkey'] = ago.apply(lambda x: str(quadkey.from_geo((x['lat'], x['lon']), 14)), axis=1)\n",
    "len(ago.quadkey.unique())"
   ]
  },
  {
   "cell_type": "markdown",
   "id": "d3e1586d-1371-4fb7-80ef-4fca0f2533dd",
   "metadata": {},
   "source": [
    "The 'population' value represents the estimated population density. We estimate the true value of the quadkey 14 tile to be the mean of all the points within the tile."
   ]
  },
  {
   "cell_type": "code",
   "execution_count": 6,
   "id": "cd7a957e-3fec-4cc5-8875-bd4e454e8b3c",
   "metadata": {},
   "outputs": [
    {
     "data": {
      "text/html": [
       "<div>\n",
       "<style scoped>\n",
       "    .dataframe tbody tr th:only-of-type {\n",
       "        vertical-align: middle;\n",
       "    }\n",
       "\n",
       "    .dataframe tbody tr th {\n",
       "        vertical-align: top;\n",
       "    }\n",
       "\n",
       "    .dataframe thead th {\n",
       "        text-align: right;\n",
       "    }\n",
       "</style>\n",
       "<table border=\"1\" class=\"dataframe\">\n",
       "  <thead>\n",
       "    <tr style=\"text-align: right;\">\n",
       "      <th></th>\n",
       "      <th>population</th>\n",
       "    </tr>\n",
       "  </thead>\n",
       "  <tbody>\n",
       "    <tr>\n",
       "      <th>count</th>\n",
       "      <td>99565.000000</td>\n",
       "    </tr>\n",
       "    <tr>\n",
       "      <th>mean</th>\n",
       "      <td>10.431596</td>\n",
       "    </tr>\n",
       "    <tr>\n",
       "      <th>std</th>\n",
       "      <td>6.949121</td>\n",
       "    </tr>\n",
       "    <tr>\n",
       "      <th>min</th>\n",
       "      <td>0.000000</td>\n",
       "    </tr>\n",
       "    <tr>\n",
       "      <th>25%</th>\n",
       "      <td>5.882450</td>\n",
       "    </tr>\n",
       "    <tr>\n",
       "      <th>50%</th>\n",
       "      <td>9.140633</td>\n",
       "    </tr>\n",
       "    <tr>\n",
       "      <th>75%</th>\n",
       "      <td>13.760512</td>\n",
       "    </tr>\n",
       "    <tr>\n",
       "      <th>max</th>\n",
       "      <td>95.530343</td>\n",
       "    </tr>\n",
       "  </tbody>\n",
       "</table>\n",
       "</div>"
      ],
      "text/plain": [
       "         population\n",
       "count  99565.000000\n",
       "mean      10.431596\n",
       "std        6.949121\n",
       "min        0.000000\n",
       "25%        5.882450\n",
       "50%        9.140633\n",
       "75%       13.760512\n",
       "max       95.530343"
      ]
     },
     "execution_count": 6,
     "metadata": {},
     "output_type": "execute_result"
    }
   ],
   "source": [
    "ago = ago.groupby('quadkey', as_index = False).population.mean()\n",
    "ago.describe()"
   ]
  },
  {
   "cell_type": "markdown",
   "id": "90a79178-9c05-48cc-a3c0-839521ebf501",
   "metadata": {},
   "source": [
    "The script is automated for the remaining countries"
   ]
  },
  {
   "cell_type": "code",
   "execution_count": null,
   "id": "6a3de80e-e185-4e4a-a8af-ce61e0e03c8b",
   "metadata": {},
   "outputs": [],
   "source": [
    "for file in lista:\n",
    "    df = pd.read_csv(path + '\\\\' + file)\n",
    "\n",
    "    country = file[0:3]\n",
    "    anno = file[12:16]\n",
    "    nome_var = country + '_general_' + anno\n",
    "\n",
    "    diz = {nome_var: 'Population', 'population_2020': 'Population', 'latitude': 'LATNUM', 'longitude': 'LONGNUM', 'Lat': 'LATNUM', 'Lon': 'LONGNUM'}\n",
    "    \n",
    "    df = df.rename(columns = diz)\n",
    "\n",
    "    print(f'getting quadkey for {country}...')\n",
    "    df['quadkey'] = df.apply(lambda x: str(quadkey.from_geo((x['LATNUM'], x['LONGNUM']), 14)), axis=1)\n",
    "    \n",
    "    print(f'grouping quadkeys for {country}...')\n",
    "    df_group = df.groupby('quadkey', as_index = False).mean()\n",
    "\n",
    "    print(f'exporting {country} to .csv...')\n",
    "    nome = path + '\\\\' + country + '_pop_quad.csv'\n",
    "    df_group.to_csv(nome, index = False)\n",
    "    print(f'{country} dataset finished')"
   ]
  },
  {
   "cell_type": "markdown",
   "id": "cf0217da-b949-4243-a28d-5edd44e7d3b0",
   "metadata": {},
   "source": [
    "Below is illustated how to read a Kontur dataset for a random country, in this case Denmark. As opposed to Meta pinpointing a value through the use of coordinates, Kontur uses an hexagonal structure, effectively using an area instead of a point. \n",
    "Lucky for us, the hexagonal structure, named h3, has a python package able to assign to each exagon a coordinate using the h3_to_geo() function. This way, its very easy to assing each value to a quadkey 14 tile using a combination of h3_to_geo() and quadkey.from_geo()."
   ]
  },
  {
   "cell_type": "code",
   "execution_count": 26,
   "id": "216ed983-77c2-4e05-9c59-8e403cc47370",
   "metadata": {},
   "outputs": [],
   "source": [
    "import geopandas as gpd\n",
    "\n",
    "den = gpd.read_file(\"C:\\\\Users\\\\Luca\\\\Downloads\\\\temp\\\\kontur_population_DK_20231101.gpkg\")"
   ]
  },
  {
   "cell_type": "code",
   "execution_count": 27,
   "id": "501d2189-a755-4f4e-a62a-863d1d9afd85",
   "metadata": {},
   "outputs": [
    {
     "data": {
      "text/html": [
       "<div>\n",
       "<style scoped>\n",
       "    .dataframe tbody tr th:only-of-type {\n",
       "        vertical-align: middle;\n",
       "    }\n",
       "\n",
       "    .dataframe tbody tr th {\n",
       "        vertical-align: top;\n",
       "    }\n",
       "\n",
       "    .dataframe thead th {\n",
       "        text-align: right;\n",
       "    }\n",
       "</style>\n",
       "<table border=\"1\" class=\"dataframe\">\n",
       "  <thead>\n",
       "    <tr style=\"text-align: right;\">\n",
       "      <th></th>\n",
       "      <th>h3</th>\n",
       "      <th>population</th>\n",
       "      <th>geometry</th>\n",
       "    </tr>\n",
       "  </thead>\n",
       "  <tbody>\n",
       "    <tr>\n",
       "      <th>0</th>\n",
       "      <td>881f35bb63fffff</td>\n",
       "      <td>1.0</td>\n",
       "      <td>POLYGON ((923924.606 7559317.455, 923707.754 7...</td>\n",
       "    </tr>\n",
       "    <tr>\n",
       "      <th>1</th>\n",
       "      <td>881f35bb5dfffff</td>\n",
       "      <td>4.0</td>\n",
       "      <td>POLYGON ((926715.764 7563979.651, 926498.606 7...</td>\n",
       "    </tr>\n",
       "    <tr>\n",
       "      <th>2</th>\n",
       "      <td>881f35bb5bfffff</td>\n",
       "      <td>23.0</td>\n",
       "      <td>POLYGON ((929275.976 7564909.693, 929058.599 7...</td>\n",
       "    </tr>\n",
       "    <tr>\n",
       "      <th>3</th>\n",
       "      <td>881f35bb59fffff</td>\n",
       "      <td>38.0</td>\n",
       "      <td>POLYGON ((927786.353 7565098.193, 927569.090 7...</td>\n",
       "    </tr>\n",
       "    <tr>\n",
       "      <th>4</th>\n",
       "      <td>881f35bb57fffff</td>\n",
       "      <td>6.0</td>\n",
       "      <td>POLYGON ((928623.941 7562484.495, 928406.661 7...</td>\n",
       "    </tr>\n",
       "    <tr>\n",
       "      <th>...</th>\n",
       "      <td>...</td>\n",
       "      <td>...</td>\n",
       "      <td>...</td>\n",
       "    </tr>\n",
       "    <tr>\n",
       "      <th>67262</th>\n",
       "      <td>8809926c85fffff</td>\n",
       "      <td>4.0</td>\n",
       "      <td>POLYGON ((907873.466 7649182.867, 907656.217 7...</td>\n",
       "    </tr>\n",
       "    <tr>\n",
       "      <th>67263</th>\n",
       "      <td>8809926c83fffff</td>\n",
       "      <td>3.0</td>\n",
       "      <td>POLYGON ((908525.410 7651618.515, 908308.063 7...</td>\n",
       "    </tr>\n",
       "    <tr>\n",
       "      <th>67264</th>\n",
       "      <td>8809926c81fffff</td>\n",
       "      <td>1.0</td>\n",
       "      <td>POLYGON ((907449.670 7650491.725, 907232.429 7...</td>\n",
       "    </tr>\n",
       "    <tr>\n",
       "      <th>67265</th>\n",
       "      <td>8809926c27fffff</td>\n",
       "      <td>2.0</td>\n",
       "      <td>POLYGON ((903770.712 7639624.610, 903553.965 7...</td>\n",
       "    </tr>\n",
       "    <tr>\n",
       "      <th>67266</th>\n",
       "      <td>88099269b7fffff</td>\n",
       "      <td>1.0</td>\n",
       "      <td>POLYGON ((903909.298 7616997.503, 903692.960 7...</td>\n",
       "    </tr>\n",
       "  </tbody>\n",
       "</table>\n",
       "<p>67267 rows × 3 columns</p>\n",
       "</div>"
      ],
      "text/plain": [
       "                    h3  population  \\\n",
       "0      881f35bb63fffff         1.0   \n",
       "1      881f35bb5dfffff         4.0   \n",
       "2      881f35bb5bfffff        23.0   \n",
       "3      881f35bb59fffff        38.0   \n",
       "4      881f35bb57fffff         6.0   \n",
       "...                ...         ...   \n",
       "67262  8809926c85fffff         4.0   \n",
       "67263  8809926c83fffff         3.0   \n",
       "67264  8809926c81fffff         1.0   \n",
       "67265  8809926c27fffff         2.0   \n",
       "67266  88099269b7fffff         1.0   \n",
       "\n",
       "                                                geometry  \n",
       "0      POLYGON ((923924.606 7559317.455, 923707.754 7...  \n",
       "1      POLYGON ((926715.764 7563979.651, 926498.606 7...  \n",
       "2      POLYGON ((929275.976 7564909.693, 929058.599 7...  \n",
       "3      POLYGON ((927786.353 7565098.193, 927569.090 7...  \n",
       "4      POLYGON ((928623.941 7562484.495, 928406.661 7...  \n",
       "...                                                  ...  \n",
       "67262  POLYGON ((907873.466 7649182.867, 907656.217 7...  \n",
       "67263  POLYGON ((908525.410 7651618.515, 908308.063 7...  \n",
       "67264  POLYGON ((907449.670 7650491.725, 907232.429 7...  \n",
       "67265  POLYGON ((903770.712 7639624.610, 903553.965 7...  \n",
       "67266  POLYGON ((903909.298 7616997.503, 903692.960 7...  \n",
       "\n",
       "[67267 rows x 3 columns]"
      ]
     },
     "execution_count": 27,
     "metadata": {},
     "output_type": "execute_result"
    }
   ],
   "source": [
    "den"
   ]
  },
  {
   "cell_type": "code",
   "execution_count": 28,
   "id": "07f36b85-b4bb-4128-8161-21b81088e689",
   "metadata": {},
   "outputs": [
    {
     "data": {
      "text/plain": [
       "count    67267.000000\n",
       "mean        87.888623\n",
       "std        602.893352\n",
       "min          1.000000\n",
       "25%          7.000000\n",
       "50%         15.000000\n",
       "75%         36.000000\n",
       "max      28072.000000\n",
       "Name: population, dtype: float64"
      ]
     },
     "execution_count": 28,
     "metadata": {},
     "output_type": "execute_result"
    }
   ],
   "source": [
    "den.population.describe()"
   ]
  },
  {
   "cell_type": "markdown",
   "id": "456362a9-5208-4332-8d9b-b1f1eb3f5df6",
   "metadata": {},
   "source": [
    "Kontur dataset express population in term of number of people in a single hexagon, whereas we want it to be people per squared kilometre. To have the actual population density we thus need both the population and the area in each exagon. Fortunately, the h3 package still comes in handy as its built_in function cell_area() takes in input the h3 string identifier and returns the relative area in squared kilometres. After that, it's easy to calculate the population density as the ratio between the population and the area."
   ]
  },
  {
   "cell_type": "code",
   "execution_count": 29,
   "id": "8132163f-9557-4e76-a4ec-4c69459b6957",
   "metadata": {},
   "outputs": [
    {
     "name": "stdout",
     "output_type": "stream",
     "text": [
      "elapsed time: 0.915780782699585s\n"
     ]
    }
   ],
   "source": [
    "import time\n",
    "import h3\n",
    "start = time.time()\n",
    "den['area'] = den.apply(lambda x: h3.cell_area(x['h3'], unit='km^2'), axis = 1)\n",
    "end = time.time()\n",
    "print(f'elapsed time: {end-start}s')"
   ]
  },
  {
   "cell_type": "code",
   "execution_count": 47,
   "id": "da0f6fee-696b-4a4d-8d03-3d327e016f2d",
   "metadata": {},
   "outputs": [
    {
     "data": {
      "text/plain": [
       "count    67267.000000\n",
       "mean       147.668990\n",
       "std       1000.822609\n",
       "min          1.607817\n",
       "25%         11.588974\n",
       "50%         25.705845\n",
       "75%         61.575524\n",
       "max      46416.735189\n",
       "Name: pop_dens, dtype: float64"
      ]
     },
     "execution_count": 47,
     "metadata": {},
     "output_type": "execute_result"
    }
   ],
   "source": [
    "den['pop_dens'] = den.apply(lambda x: x['population'] / x['area'], axis = 1)\n",
    "den.pop_dens.describe()"
   ]
  },
  {
   "cell_type": "markdown",
   "id": "dd54c882-4bf2-4bb4-9ad3-910f27343e87",
   "metadata": {},
   "source": [
    "It's time to assign the population density value to the quadkey 14 tiles. With the aforementioned nested function we can establish all the tiles in Denmark, and then use the mean of the hexagons inside the tile as an estimate of the true value of the tile. There are 24,109 different quadkeys in Denmark."
   ]
  },
  {
   "cell_type": "code",
   "execution_count": 48,
   "id": "94524737-d223-4392-a7cb-621e7a38be41",
   "metadata": {},
   "outputs": [
    {
     "data": {
      "text/plain": [
       "24109"
      ]
     },
     "execution_count": 48,
     "metadata": {},
     "output_type": "execute_result"
    }
   ],
   "source": [
    "from pyquadkey2 import quadkey\n",
    "den['quadkey'] = den.apply(lambda x: str(quadkey.from_geo(h3.h3_to_geo(x['h3']), 14)), axis = 1)\n",
    "den = den.groupby('quadkey', as_index = False).pop_dens.mean()\n",
    "len(den)"
   ]
  },
  {
   "cell_type": "code",
   "execution_count": 35,
   "id": "2b57a144-dfd9-493c-b01f-404324ec92ae",
   "metadata": {},
   "outputs": [],
   "source": [
    "iso2_to3 = {'AT': 'aut', 'BE': 'bel', 'BI': 'bdi', 'CH': 'che', 'CM': 'cmr', 'CZ': 'cze', 'DE': 'deu', 'DK': 'den',\n",
    "            'ES': 'esp', 'FI': 'fin', 'FR': 'fra', 'GR': 'grc', 'IN': 'ind', 'IT': 'ita', 'MM': 'mmr', 'NL': 'nld',\n",
    "            'PK': 'pak', 'PT': 'prt', 'SE': 'swe', 'SZ': 'swz'}"
   ]
  },
  {
   "cell_type": "markdown",
   "id": "21397359-782b-484e-9970-0fb1981443a8",
   "metadata": {},
   "source": [
    "We can now iterate over all the other countries."
   ]
  },
  {
   "cell_type": "code",
   "execution_count": 42,
   "id": "70c5389f-18b0-4ade-8682-8ec48c33d2c5",
   "metadata": {},
   "outputs": [
    {
     "name": "stdout",
     "output_type": "stream",
     "text": [
      "(86915, 3)\n",
      "aut: (1.3368188009138215, 142.38129697386236, 11732.329906647901)\n",
      "29398 unique quadkeys\n",
      "------------------------\n",
      "(40991, 3)\n",
      "bel: (1.5144828642426102, 452.0052608610119, 33111.70124367208)\n",
      "12684 unique quadkeys\n",
      "------------------------\n",
      "(27425, 3)\n",
      "bdi: (1.165287170228583, 570.5466244415105, 45995.57410169283)\n",
      "4291 unique quadkeys\n",
      "------------------------\n",
      "(41959, 3)\n",
      "che: (1.3738461960656514, 301.4360284057041, 20535.589233428007)\n",
      "13193 unique quadkeys\n",
      "------------------------\n",
      "(107455, 3)\n",
      "cmr: (1.2876812531273332, 395.8360657595759, 40920.43850694487)\n",
      "31451 unique quadkeys\n",
      "------------------------\n",
      "(80168, 3)\n",
      "cze: (1.3810865179537741, 187.34734752643266, 11668.423193623279)\n",
      "30266 unique quadkeys\n",
      "------------------------\n",
      "(363550, 3)\n",
      "deu: (1.3765224166689387, 346.4506141655887, 29838.79029955791)\n",
      "137340 unique quadkeys\n",
      "------------------------\n",
      "(67267, 3)\n",
      "den: (1.6078168953564669, 147.66899041616549, 46416.73518910256)\n",
      "24109 unique quadkeys\n",
      "------------------------\n",
      "(286702, 3)\n",
      "esp: (1.1637451505804757, 220.416548632097, 32481.14594466406)\n",
      "111484 unique quadkeys\n",
      "------------------------\n",
      "(261427, 3)\n",
      "fin: (1.6315038661650638, 37.64650064372224, 12035.783043204769)\n",
      "148713 unique quadkeys\n",
      "------------------------\n",
      "(611392, 3)\n",
      "fra: (1.1542405009846888, 162.16851435001652, 46344.70190895165)\n",
      "189019 unique quadkeys\n",
      "------------------------\n",
      "(108125, 3)\n",
      "grc: (1.1474155243868058, 113.38329111197216, 29650.88128160326)\n",
      "34996 unique quadkeys\n",
      "------------------------\n",
      "(2086471, 3)\n",
      "ind: (1.1290411349131155, 914.7469925775914, 46136.20240393379)\n",
      "491807 unique quadkeys\n",
      "------------------------\n",
      "(312901, 3)\n",
      "ita: (1.1858836098808945, 244.36044922578813, 32216.503724550643)\n",
      "90527 unique quadkeys\n",
      "------------------------\n",
      "(212821, 3)\n",
      "mmr: (1.126134258287954, 303.5485550860751, 46050.66520509219)\n",
      "60148 unique quadkeys\n",
      "------------------------\n",
      "(51445, 3)\n",
      "nld: (1.5515064383509611, 556.3429483278105, 18246.6164795645)\n",
      "16307 unique quadkeys\n",
      "------------------------\n",
      "(380718, 3)\n",
      "pak: (1.169090049687391, 803.1827835998671, 46106.722172039474)\n",
      "111020 unique quadkeys\n",
      "------------------------\n",
      "(88728, 3)\n",
      "prt: (1.1275550051961245, 144.71514470481054, 20528.02007732601)\n",
      "25530 unique quadkeys\n",
      "------------------------\n",
      "(286945, 3)\n",
      "swe: (1.630497964352935, 66.25187403650409, 26357.62196676633)\n",
      "149998 unique quadkeys\n",
      "------------------------\n",
      "(15735, 3)\n",
      "swz: (1.2105991893270343, 94.95848329371707, 2893.851294914657)\n",
      "3523 unique quadkeys\n",
      "------------------------\n"
     ]
    }
   ],
   "source": [
    "cart = 'C:\\\\Users\\\\Luca\\\\Downloads\\\\temp'\n",
    "sav = \"C:\\\\Users\\\\Luca\\\\Downloads\\\\RWI\\\\pop_dens\"\n",
    "\n",
    "for file in os.listdir(cart):\n",
    "    country = iso2_to3[file[-16:-14]]\n",
    "\n",
    "    df = gpd.read_file(f'{cart}\\\\{file}')\n",
    "    print(df.shape)\n",
    "    df['area'] = df.apply(lambda x: h3.cell_area(x['h3'], unit='km^2'), axis = 1)\n",
    "    df['pop_dens'] = df.apply(lambda x: x['population'] / x['area'], axis = 1)\n",
    "\n",
    "    print(f'{country}: {df.pop_dens.min(), df.pop_dens.mean(), df.pop_dens.max()}')\n",
    "\n",
    "    df['quadkey'] = df.apply(lambda x: str(quadkey.from_geo(h3.h3_to_geo(x['h3']), 14)), axis = 1)\n",
    "    df = df.groupby('quadkey', as_index = False).pop_dens.mean()\n",
    "    print(f'{len(df)} unique quadkeys')\n",
    "    df.to_csv(f'{sav}\\\\{country}_pop_quad.csv', index = False)\n",
    "    print('-'*24)"
   ]
  },
  {
   "cell_type": "markdown",
   "id": "d834a6b0-d285-43a4-af53-e4f84bf426bb",
   "metadata": {},
   "source": [
    "Whoops, looks like we forgot to add the Great Britain! Lucky for us, it's just a matter of a few minutes."
   ]
  },
  {
   "cell_type": "code",
   "execution_count": 52,
   "id": "29c78045-964e-4098-9b57-bade21442ae1",
   "metadata": {},
   "outputs": [
    {
     "name": "stdout",
     "output_type": "stream",
     "text": [
      "(224522, 3)\n",
      "gbr: (1.381416194904864, 457.96517651696405, 26184.621513304402)\n",
      "95738 unique quadkeys\n"
     ]
    }
   ],
   "source": [
    "import geopandas as gpd\n",
    "import h3\n",
    "from pyquadkey2 import quadkey\n",
    "\n",
    "cart = 'C:\\\\Users\\\\Luca\\\\Downloads\\\\temp'\n",
    "sav = \"C:\\\\Users\\\\Luca\\\\Downloads\\\\RWI\\\\pop_dens\"\n",
    "\n",
    "df = gpd.read_file(f'{cart}\\\\kontur_population_GB_20231101.gpkg')\n",
    "print(df.shape)\n",
    "df['area'] = df.apply(lambda x: h3.cell_area(x['h3'], unit='km^2'), axis = 1)\n",
    "df['pop_dens'] = df.apply(lambda x: x['population'] / x['area'], axis = 1)\n",
    "\n",
    "print(f'gbr: {df.pop_dens.min(), df.pop_dens.mean(), df.pop_dens.max()}')\n",
    "\n",
    "df['quadkey'] = df.apply(lambda x: str(quadkey.from_geo(h3.h3_to_geo(x['h3']), 14)), axis = 1)\n",
    "df = df.groupby('quadkey', as_index = False).pop_dens.mean()\n",
    "print(f'{len(df)} unique quadkeys')\n",
    "df.to_csv(f'{sav}\\\\gbr_pop_quad.csv', index = False)"
   ]
  },
  {
   "cell_type": "markdown",
   "id": "9205b6e8-1d80-4eab-91f2-fd22b4c08db1",
   "metadata": {},
   "source": [
    "We now use the datasets to extract a list of all the quadkey 14 tiles we will use in the study."
   ]
  },
  {
   "cell_type": "code",
   "execution_count": null,
   "id": "068410ff-9ce7-4ef3-b829-f6866302a91a",
   "metadata": {},
   "outputs": [],
   "source": [
    "import os\n",
    "import pandas as pd\n",
    "\n",
    "sav = \"C:\\\\Users\\\\Luca\\\\Downloads\\\\RWI\\\\pop_dens\"\n",
    "list_quads = []\n",
    "\n",
    "for file in os.listdir(sav):\n",
    "    temp = pd.read_csv(f'{sav}\\\\{file}')\n",
    "    qs = list(temp.quadkeys.unique())\n",
    "\n",
    "    list_quads += qs\n",
    "\n",
    "list_quads = list(set(list_quads))\n",
    "\n",
    "with open('quad_paesi2.txt', 'w') as file:\n",
    "    file.write(','.join(list_quads))"
   ]
  }
 ],
 "metadata": {
  "kernelspec": {
   "display_name": "Python 3 (ipykernel)",
   "language": "python",
   "name": "python3"
  },
  "language_info": {
   "codemirror_mode": {
    "name": "ipython",
    "version": 3
   },
   "file_extension": ".py",
   "mimetype": "text/x-python",
   "name": "python",
   "nbconvert_exporter": "python",
   "pygments_lexer": "ipython3",
   "version": "3.10.5"
  }
 },
 "nbformat": 4,
 "nbformat_minor": 5
}

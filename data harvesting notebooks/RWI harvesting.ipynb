{
 "cells": [
  {
   "cell_type": "markdown",
   "id": "ddc9b2a8-e5cd-4fa2-9efd-e786ef7f89be",
   "metadata": {},
   "source": [
    "This notebook treats the harvesting of the DHS cluster's average RWI values. It should be noted that, due to the confidentiality of the survey, it is not allowed to show the datasets raw data to people not directly specified by the notebook's owner beforehand. As such, this notebook will only show the script used to obtain the results, without showing outputs. "
   ]
  },
  {
   "cell_type": "markdown",
   "id": "7cc49b99-1abd-4646-8796-11528195379d",
   "metadata": {},
   "source": [
    "The data, comprising of both survey data and location, is available per request at https://www.dhsprogram.com/.\n",
    "The first part of the dataset construction, which binds the survey data with the location (as the datasets are separate) can be done in R and the script to do so is directly provided on the DHS site.\n",
    "The output dataset will have the variables hhid (household identifier; used for joining the datasets, but will not be used in the study), DHSCLUST (the DHS cluster of the household partaking in the surveym which we will use as the train data's statistical unit), wealth index (our RWI), URBAN_RURA (dicotomic variable showing if the area is urban or rural, which we will use for the spatial join), LATNUM and LONGNUM (coordinates, which we will also use for the spatial join), country, plus minor variables that could be of interest such as wealth index quintile."
   ]
  },
  {
   "cell_type": "code",
   "execution_count": null,
   "id": "d69de5b4-0e9b-4360-9af7-d60d732c541f",
   "metadata": {},
   "outputs": [],
   "source": [
    "import pandas as pd\n",
    "import os"
   ]
  },
  {
   "cell_type": "markdown",
   "id": "6a7b3372-1b44-4a5c-a5f1-fba954ac56cc",
   "metadata": {},
   "source": [
    "We will show how the single country's dataset is incorporated in the main dataset. We will take the country of Zimbabwe's."
   ]
  },
  {
   "cell_type": "code",
   "execution_count": null,
   "id": "1a407b52-853d-4fb7-8dde-bebcfc7b6d1c",
   "metadata": {},
   "outputs": [],
   "source": [
    "path = \"C:\\\\Users\\\\Luca\\\\Downloads\\\\WI + Geo\"\n",
    "\n",
    "os.listdir(path)"
   ]
  },
  {
   "cell_type": "markdown",
   "id": "451af1af-8f32-4467-bfdb-ab6087144286",
   "metadata": {},
   "source": [
    "The missing values are coded as 9999 in the dataset; also the RWI values are incorrectly stored as a million times bigger than they should, so we will correct it."
   ]
  },
  {
   "cell_type": "code",
   "execution_count": null,
   "id": "724535e0-8cd3-46e8-b961-724080ee9b81",
   "metadata": {},
   "outputs": [],
   "source": [
    "nome = os.listdir(path)[len(os.listdir(path))-1]\n",
    "zw = pd.read_csv(path + '\\\\' + nome, na_values = 9999)"
   ]
  },
  {
   "cell_type": "code",
   "execution_count": null,
   "id": "8b5ce534-d1a2-4b93-897a-b89a7d85ca6d",
   "metadata": {},
   "outputs": [],
   "source": [
    "cols = zw.columns"
   ]
  },
  {
   "cell_type": "code",
   "execution_count": null,
   "id": "3f34b8cf-5ec6-4376-8f56-957fbd8c772c",
   "metadata": {},
   "outputs": [],
   "source": [
    "zw['wealth index'] = zw['wealth index'] / 1000000"
   ]
  },
  {
   "cell_type": "code",
   "execution_count": null,
   "id": "e409a770-0ecc-45b6-b7f5-872b5e4154ad",
   "metadata": {},
   "outputs": [],
   "source": [
    "zw.sample()"
   ]
  },
  {
   "cell_type": "markdown",
   "id": "1c5eb57b-73b5-41e6-a959-3283f65e3655",
   "metadata": {},
   "source": [
    "Initially, we included the altitude variable, measured in either GPS or DEM, and used the GPS measure as default. We did not use it in the actual study though, so feel free to not include it in the dataset during the R manipulation and remove the script addressing it from this notebook."
   ]
  },
  {
   "cell_type": "code",
   "execution_count": null,
   "id": "959d0c61-53d5-4801-b696-96db9791f889",
   "metadata": {},
   "outputs": [],
   "source": [
    "zw['ALT'] = zw.ALT_GPS.fillna(zw.ALT_DEM)"
   ]
  },
  {
   "cell_type": "code",
   "execution_count": null,
   "id": "ed8d7a95-d520-403f-9552-2ce9e39f726a",
   "metadata": {},
   "outputs": [],
   "source": [
    "zw.drop(['ALT_GPS', 'ALT_DEM'], axis = 1, inplace = True)"
   ]
  },
  {
   "cell_type": "code",
   "execution_count": null,
   "id": "ddeb5e37-fbd7-4aea-8f86-8d946a41b539",
   "metadata": {},
   "outputs": [],
   "source": [
    "df = pd.DataFrame(columns = cols)\n",
    "df.drop(['ALT_GPS', 'ALT_DEM'], axis = 1, inplace = True)"
   ]
  },
  {
   "cell_type": "markdown",
   "id": "6f3d19c3-543e-4559-9fd0-338df7ce4274",
   "metadata": {},
   "source": [
    "The import of each dataset, its treatment and consequent appendage to the main dataset is automated."
   ]
  },
  {
   "cell_type": "code",
   "execution_count": null,
   "id": "1c68a3a1-de73-4abf-85b2-022c4670fd3c",
   "metadata": {},
   "outputs": [],
   "source": [
    "for file in os.listdir(path):\n",
    "    country = file[0:2]\n",
    "    temp = pd.read_csv(path + '\\\\' + file, na_values = 9999)\n",
    "\n",
    "    print(f'{country}: {temp.shape}')\n",
    "    \n",
    "    temp['wealth index'] = temp['wealth index'] / 1000000\n",
    "\n",
    "    temp['ALT'] = temp.ALT_GPS.fillna(temp.ALT_DEM)\n",
    "    temp.drop(['ALT_GPS', 'ALT_DEM'], axis = 1, inplace = True)\n",
    "\n",
    "    df = pd.concat([df, temp], ignore_index = True)\n",
    "    print(f'{country} appendage finished')"
   ]
  },
  {
   "cell_type": "markdown",
   "id": "5026f543-56c7-4a23-ac42-e5a0b5ec0820",
   "metadata": {},
   "source": [
    "The dataset consists of 1,713,316 different households, divided in 68,184 different clusters. We will group the observations by creating an unique identifier consisting of the country's code and the DHS cluster number internal to the country, then group for this identifier and take the average of the RWI values inside the cluster."
   ]
  },
  {
   "cell_type": "code",
   "execution_count": null,
   "id": "587ef9ec-4ecc-4daa-b496-ea15db9f8552",
   "metadata": {},
   "outputs": [],
   "source": [
    "len(df)"
   ]
  },
  {
   "cell_type": "code",
   "execution_count": null,
   "id": "d029168a-3cb3-4121-91b3-b0b08b17e74b",
   "metadata": {},
   "outputs": [],
   "source": [
    "def create_mix_column(df, key_1_col, key_2_col):\n",
    "    df['country_cluster'] = df[key_1_col] + df[key_2_col].astype(str)\n",
    "    return df"
   ]
  },
  {
   "cell_type": "code",
   "execution_count": null,
   "id": "18aeda28-4cb7-4bfe-a120-e609f4479ea8",
   "metadata": {},
   "outputs": [],
   "source": [
    "df_fin = create_mix_column(df, 'country', 'DHSCLUST')\n",
    "\n",
    "df_fin.sample(5)"
   ]
  },
  {
   "cell_type": "code",
   "execution_count": null,
   "id": "246b8c0a-adc2-4c0f-9beb-a88ed35543ab",
   "metadata": {},
   "outputs": [],
   "source": [
    "len(df_fin.country_cluster.unique())"
   ]
  },
  {
   "cell_type": "markdown",
   "id": "a83749b2-661d-497e-b838-4c454b458d4f",
   "metadata": {},
   "source": [
    "We create the dataset of RWI averages and then join it to the dataset containing only the clusters's information (dropping the household id variable)."
   ]
  },
  {
   "cell_type": "code",
   "execution_count": null,
   "id": "46fc49ef-a6f9-4bee-8afd-e99378407249",
   "metadata": {},
   "outputs": [],
   "source": [
    "medie_clust = df_fin.groupby('country_cluster', as_index = False)['wealth index'].mean()"
   ]
  },
  {
   "cell_type": "code",
   "execution_count": null,
   "id": "c7a93478-5445-428e-95ec-bf6933bd4088",
   "metadata": {},
   "outputs": [],
   "source": [
    "medie_clust.sample(5)"
   ]
  },
  {
   "cell_type": "code",
   "execution_count": null,
   "id": "15bf3cb5-7a5b-4943-82fe-df33d1c81243",
   "metadata": {},
   "outputs": [],
   "source": [
    "tenere = ['country', 'DHSCLUST', 'URBAN_RURA', 'LATNUM', 'LONGNUM', 'ALT', 'country_cluster']\n",
    "df_loc = df_fin[tenere]\n",
    "df_loc.drop_duplicates(inplace = True)\n",
    "len(df_loc)"
   ]
  },
  {
   "cell_type": "code",
   "execution_count": null,
   "id": "201cfd0f-3f38-4309-aa27-5d80a8d11f03",
   "metadata": {},
   "outputs": [],
   "source": [
    "medie_clust = medie_clust.merge(df_loc, on = 'country_cluster')"
   ]
  },
  {
   "cell_type": "code",
   "execution_count": null,
   "id": "b6b59de4-f1ce-4bd3-bfdf-24cc7947e032",
   "metadata": {},
   "outputs": [],
   "source": [
    "medie_clust['wealth index'] = medie_clust['wealth index'].round(5)\n",
    "medie_clust"
   ]
  },
  {
   "cell_type": "code",
   "execution_count": null,
   "id": "1629a60d-b8c9-44da-8a03-80d1b527b94c",
   "metadata": {},
   "outputs": [],
   "source": [
    "medie_clust.to_csv('WI_per_clusters.csv', index = False)"
   ]
  }
 ],
 "metadata": {
  "kernelspec": {
   "display_name": "Python 3 (ipykernel)",
   "language": "python",
   "name": "python3"
  },
  "language_info": {
   "codemirror_mode": {
    "name": "ipython",
    "version": 3
   },
   "file_extension": ".py",
   "mimetype": "text/x-python",
   "name": "python",
   "nbconvert_exporter": "python",
   "pygments_lexer": "ipython3",
   "version": "3.10.5"
  }
 },
 "nbformat": 4,
 "nbformat_minor": 5
}

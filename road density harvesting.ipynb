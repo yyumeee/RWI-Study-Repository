{
 "cells": [
  {
   "cell_type": "markdown",
   "id": "f3abd513-efb8-41bb-8df3-3566f56a4569",
   "metadata": {},
   "source": [
    "Road density is one of the hardest covariates to harvest, as there exist no online dataset available and as such the data has to be, albeit fairly easily, derived from the OpenStreetMap site. \n",
    "This notebook uses OSM's Python API osmnx to get the data we need."
   ]
  },
  {
   "cell_type": "code",
   "execution_count": 1,
   "id": "a1edbfef-553d-4c42-87c7-3e2a08f02818",
   "metadata": {},
   "outputs": [],
   "source": [
    "import pandas as pd\n",
    "import osmnx as ox\n",
    "from pyquadkey2 import quadkey\n",
    "from pyquadkey2.quadkey import QuadKey\n",
    "from pyquadkey2.quadkey import TileAnchor\n",
    "from shapely.geometry import box"
   ]
  },
  {
   "cell_type": "markdown",
   "id": "6611ade7-43ed-437f-adbe-3e16ec10f76b",
   "metadata": {},
   "source": [
    "Due to the enormous amount of computational time used to get the road data, it's important to limit the harvesting to the sole tiles of interest of the study. \n",
    "Since osmnx retrieves a geodataframe of a given area, to reduce the number of access we aim to request data from a bigger area, and then work on the proper quadkey 14 tiles as subsets of the geodataframe. The easier method to assign a bigger area to each quadkey is simply to have it be a parent quadkey of a lower level. We choose the parent level to be 9 as its the biggest area to not put a strain on the hard drive. The relation parent-child tiles is stored in a dictionary of 9962 keys."
   ]
  },
  {
   "cell_type": "code",
   "execution_count": 2,
   "id": "d44067b9-dda5-4865-91c0-48dbd4d161f4",
   "metadata": {},
   "outputs": [],
   "source": [
    "with open('quad_paesi2.txt', 'r') as file:\n",
    "    list_quads = file.read()\n",
    "    list_quads = list_quads.split(',')"
   ]
  },
  {
   "cell_type": "code",
   "execution_count": 3,
   "id": "b8d51327-9101-47db-bbc9-d4df2c9fe55b",
   "metadata": {},
   "outputs": [],
   "source": [
    "diz = {}\n",
    "\n",
    "for quad in list_quads:\n",
    "    parent = quadkey.from_str(quad).parent().parent().parent().parent().parent()\n",
    "    if parent not in diz.keys():\n",
    "        diz[parent] = [quad]\n",
    "    else:\n",
    "        diz[parent].append(quad)"
   ]
  },
  {
   "cell_type": "code",
   "execution_count": 4,
   "id": "f0b647c1-eca7-407b-b551-44a6ec8a7d00",
   "metadata": {},
   "outputs": [
    {
     "data": {
      "text/plain": [
       "9962"
      ]
     },
     "execution_count": 4,
     "metadata": {},
     "output_type": "execute_result"
    }
   ],
   "source": [
    "len(diz.keys())"
   ]
  },
  {
   "cell_type": "code",
   "execution_count": 5,
   "id": "69a4c1f8-ba6c-4738-8d38-217379f2e84e",
   "metadata": {},
   "outputs": [
    {
     "data": {
      "text/plain": [
       "3839219"
      ]
     },
     "execution_count": 5,
     "metadata": {},
     "output_type": "execute_result"
    }
   ],
   "source": [
    "len(list_quads)"
   ]
  },
  {
   "cell_type": "markdown",
   "id": "c46695d8-b92d-4a49-9b3f-6f65cf57e5c8",
   "metadata": {},
   "source": [
    "We're now going to illustrate how the process work for a single quadkey 9 tile area: using pyquadkey2's to_geo() function we get the boundings of the area and feed it to osmnx's graph_from_bbox, which retrieves a graph diagram of nodes and edges representing the road network of the area, with the edges being the streets. We specify the network type to include only roads where its allowed to drive a vehicle in.\n",
    "The next function, graph_to_gdfs creates a geodataframe from the graph diagram, excluding the nodes as they are no interest to us. As we can see, the retrieval process time is reasonable, albeit pretty long.\n",
    "We replicated the process twice, one without using a caching system and one using it; since each tile 14 is strictly bound to its tile 9 parent, once an iteration is completed there is no need to reuse the data, so not caching is a reasonable action, especially after witnessing it not resulting in an increased runtime."
   ]
  },
  {
   "cell_type": "code",
   "execution_count": 6,
   "id": "4ac6d3fd-3f73-4963-a79c-184e195196de",
   "metadata": {},
   "outputs": [
    {
     "data": {
      "text/plain": [
       "300122333"
      ]
     },
     "execution_count": 6,
     "metadata": {},
     "output_type": "execute_result"
    }
   ],
   "source": [
    "parent = list(diz.keys())[1]\n",
    "parent"
   ]
  },
  {
   "cell_type": "code",
   "execution_count": 7,
   "id": "0152a3b1-d196-4668-b637-56d268e4d63a",
   "metadata": {},
   "outputs": [
    {
     "data": {
      "text/plain": [
       "(-21.28937435586, -21.943045533438, 28.125, 27.421875)"
      ]
     },
     "execution_count": 7,
     "metadata": {},
     "output_type": "execute_result"
    }
   ],
   "source": [
    "n,w = parent.to_geo()\n",
    "s,e = parent.to_geo(anchor = TileAnchor.ANCHOR_SE)\n",
    "\n",
    "(n,s,e,w)"
   ]
  },
  {
   "cell_type": "code",
   "execution_count": 8,
   "id": "f6c6ff56-0bfb-45c0-b49c-888318a11084",
   "metadata": {},
   "outputs": [
    {
     "name": "stdout",
     "output_type": "stream",
     "text": [
      "elapsed time: 16.33259129524231s\n"
     ]
    }
   ],
   "source": [
    "import time\n",
    "start = time.time()\n",
    "ox.settings.use_cache = False\n",
    "gdf_edges = ox.graph_from_bbox(bbox = (n,s,e,w), network_type='drive')\n",
    "gdf_edges = ox.graph_to_gdfs(gdf_edges, nodes=False)\n",
    "end = time.time()\n",
    "print(f'elapsed time: {end-start}s')"
   ]
  },
  {
   "cell_type": "code",
   "execution_count": 9,
   "id": "a6a58691-4df3-4bb6-8453-a9cb39502bae",
   "metadata": {},
   "outputs": [
    {
     "name": "stdout",
     "output_type": "stream",
     "text": [
      "elapsed time: 17.238303422927856s\n"
     ]
    }
   ],
   "source": [
    "import time\n",
    "start = time.time()\n",
    "ox.settings.use_cache = True\n",
    "gdf_edges = ox.graph_from_bbox(bbox = (n,s,e,w), network_type='drive')\n",
    "gdf_edges = ox.graph_to_gdfs(gdf_edges, nodes=False)\n",
    "end = time.time()\n",
    "print(f'elapsed time: {end-start}s')"
   ]
  },
  {
   "cell_type": "code",
   "execution_count": 10,
   "id": "1f49f550-f877-4b72-a015-841d5418a14c",
   "metadata": {},
   "outputs": [
    {
     "data": {
      "text/plain": [
       "19104"
      ]
     },
     "execution_count": 10,
     "metadata": {},
     "output_type": "execute_result"
    }
   ],
   "source": [
    "len(gdf_edges)"
   ]
  },
  {
   "cell_type": "code",
   "execution_count": 11,
   "id": "ed0491b7-b7f3-4508-bbfd-1694cecdc78a",
   "metadata": {},
   "outputs": [
    {
     "data": {
      "text/plain": [
       "544"
      ]
     },
     "execution_count": 11,
     "metadata": {},
     "output_type": "execute_result"
    }
   ],
   "source": [
    "len(diz[parent])"
   ]
  },
  {
   "cell_type": "markdown",
   "id": "850f5058-d4d3-4d2c-8238-b2c9d4374bca",
   "metadata": {},
   "source": [
    "Once the geodataframe is ready, we can get the road density data for all the child tiles 14. The operation is easy: after assigning to each tile 14 its bounding box, a subset of roads only intersecting the smaller area is taken. The road density is then calculated as the ratio between the total length of the roads (in kilometers) and the area (in squared kilometers. Since the quadkey object as a built-in function to retrieve its area, we can take a shortcut from calculating it properly from its boundaries.). The whole operation is very fast, taking only 10 seconds to calculate the road density for all 544 child tiles."
   ]
  },
  {
   "cell_type": "code",
   "execution_count": 12,
   "id": "ef9cf495-cc40-40c8-9f6f-afa017b9643f",
   "metadata": {},
   "outputs": [
    {
     "name": "stdout",
     "output_type": "stream",
     "text": [
      "50\n",
      "100\n",
      "150\n",
      "200\n",
      "250\n",
      "300\n",
      "350\n",
      "400\n",
      "450\n",
      "500\n",
      "elapsed time: 10.459198713302612s\n"
     ]
    }
   ],
   "source": [
    "import warnings\n",
    "df = []\n",
    "i = 0\n",
    "start = time.time()\n",
    "for child in diz[parent]:\n",
    "    i +=1\n",
    "    warnings.simplefilter(\"ignore\")\n",
    "    q = quadkey.from_str(child)\n",
    "    no,we = q.to_geo()\n",
    "    so,ea = q.to_geo(anchor = TileAnchor.ANCHOR_SE)\n",
    "    area = q.area() / 1000000\n",
    "    bbox = box(we,so,ea,no)\n",
    "    rd_length = (gdf_edges[gdf_edges.intersects(bbox)].length.sum())/1000\n",
    "    df.append({'quadkey': child, 'road_density': rd_length/area})\n",
    "    if i%50 == 0:\n",
    "        print(i)\n",
    "end = time.time()\n",
    "print(f'elapsed time: {end-start}s')"
   ]
  },
  {
   "cell_type": "code",
   "execution_count": 13,
   "id": "179f7a46-4648-4fe4-bd0d-8556f39676cc",
   "metadata": {},
   "outputs": [
    {
     "data": {
      "text/plain": [
       "[{'quadkey': '30012233321231', 'road_density': 0.0},\n",
       " {'quadkey': '30012233302122', 'road_density': 1.8483818028690114e-05},\n",
       " {'quadkey': '30012233302121', 'road_density': 1.768249738680087e-05},\n",
       " {'quadkey': '30012233323212', 'road_density': 0.0},\n",
       " {'quadkey': '30012233313321', 'road_density': 0.0},\n",
       " {'quadkey': '30012233322013', 'road_density': 0.0},\n",
       " {'quadkey': '30012233300023', 'road_density': 8.545735808112624e-05},\n",
       " {'quadkey': '30012233302123', 'road_density': 5.7448544786898545e-05},\n",
       " {'quadkey': '30012233323231', 'road_density': 0.0},\n",
       " {'quadkey': '30012233303310', 'road_density': 0.0},\n",
       " {'quadkey': '30012233333211', 'road_density': 0.0},\n",
       " {'quadkey': '30012233302320', 'road_density': 0.0},\n",
       " {'quadkey': '30012233303321', 'road_density': 3.8100591864276994e-05},\n",
       " {'quadkey': '30012233320132', 'road_density': 0.0},\n",
       " {'quadkey': '30012233300203', 'road_density': 0.00012241011207257481},\n",
       " {'quadkey': '30012233322222', 'road_density': 0.0},\n",
       " {'quadkey': '30012233302333', 'road_density': 0.0},\n",
       " {'quadkey': '30012233323210', 'road_density': 0.0},\n",
       " {'quadkey': '30012233321221', 'road_density': 0.0},\n",
       " {'quadkey': '30012233300202', 'road_density': 0.00014725054147949343},\n",
       " {'quadkey': '30012233322232', 'road_density': 0.0},\n",
       " {'quadkey': '30012233302213', 'road_density': 0.0},\n",
       " {'quadkey': '30012233302100', 'road_density': 5.888758123373828e-05},\n",
       " {'quadkey': '30012233302223', 'road_density': 0.0},\n",
       " {'quadkey': '30012233321122', 'road_density': 0.0},\n",
       " {'quadkey': '30012233322322', 'road_density': 0.0},\n",
       " {'quadkey': '30012233312202', 'road_density': 0.0},\n",
       " {'quadkey': '30012233331230', 'road_density': 0.0},\n",
       " {'quadkey': '30012233331202', 'road_density': 0.0},\n",
       " {'quadkey': '30012233321321', 'road_density': 0.0},\n",
       " {'quadkey': '30012233311030', 'road_density': 0.0},\n",
       " {'quadkey': '30012233333022', 'road_density': 0.0},\n",
       " {'quadkey': '30012233313223', 'road_density': 1.4906582865452757e-05},\n",
       " {'quadkey': '30012233320011', 'road_density': 0.0},\n",
       " {'quadkey': '30012233302023', 'road_density': 0.0},\n",
       " {'quadkey': '30012233333213', 'road_density': 6.97222568561988e-05},\n",
       " {'quadkey': '30012233311312', 'road_density': 0.0},\n",
       " {'quadkey': '30012233302103', 'road_density': 2.518855994772597e-05},\n",
       " {'quadkey': '30012233333320', 'road_density': 0.00011109921596861982},\n",
       " {'quadkey': '30012233332312', 'road_density': 5.742604343370132e-05},\n",
       " {'quadkey': '30012233311212', 'road_density': 0.0},\n",
       " {'quadkey': '30012233323113', 'road_density': 2.9351182535519774e-05},\n",
       " {'quadkey': '30012233322030', 'road_density': 0.0},\n",
       " {'quadkey': '30012233332200', 'road_density': 3.395744449966686e-05},\n",
       " {'quadkey': '30012233302022', 'road_density': 2.7549163704960385e-05},\n",
       " {'quadkey': '30012233332330', 'road_density': 0.0},\n",
       " {'quadkey': '30012233311222', 'road_density': 5.8492382004377405e-05},\n",
       " {'quadkey': '30012233332013', 'road_density': 0.0},\n",
       " {'quadkey': '30012233320000', 'road_density': 0.0},\n",
       " {'quadkey': '30012233300230', 'road_density': 5.250897769658723e-05},\n",
       " {'quadkey': '30012233333131', 'road_density': 0.0},\n",
       " {'quadkey': '30012233320003', 'road_density': 0.0},\n",
       " {'quadkey': '30012233303312', 'road_density': 0.0},\n",
       " {'quadkey': '30012233303212', 'road_density': 0.0},\n",
       " {'quadkey': '30012233301000', 'road_density': 0.0},\n",
       " {'quadkey': '30012233320030', 'road_density': 0.0},\n",
       " {'quadkey': '30012233303203', 'road_density': 1.7953102372081863e-05},\n",
       " {'quadkey': '30012233302221', 'road_density': 0.0},\n",
       " {'quadkey': '30012233301232', 'road_density': 0.0},\n",
       " {'quadkey': '30012233302130', 'road_density': 3.285104414361445e-05},\n",
       " {'quadkey': '30012233332313', 'road_density': 5.742604343370132e-05},\n",
       " {'quadkey': '30012233302312', 'road_density': 3.129463190807723e-05},\n",
       " {'quadkey': '30012233303323', 'road_density': 0.0},\n",
       " {'quadkey': '30012233311033', 'road_density': 0.0},\n",
       " {'quadkey': '30012233331231', 'road_density': 0.0},\n",
       " {'quadkey': '30012233333202', 'road_density': 5.742604343370132e-05},\n",
       " {'quadkey': '30012233321211', 'road_density': 0.0},\n",
       " {'quadkey': '30012233333310', 'road_density': 2.5305772791949057e-05},\n",
       " {'quadkey': '30012233320233', 'road_density': 0.0},\n",
       " {'quadkey': '30012233332000', 'road_density': 2.9351182535519774e-05},\n",
       " {'quadkey': '30012233320213', 'road_density': 0.0},\n",
       " {'quadkey': '30012233332003', 'road_density': 0.0},\n",
       " {'quadkey': '30012233311011', 'road_density': 0.0},\n",
       " {'quadkey': '30012233321333', 'road_density': 0.0},\n",
       " {'quadkey': '30012233331111', 'road_density': 0.0},\n",
       " {'quadkey': '30012233330301', 'road_density': 0.0},\n",
       " {'quadkey': '30012233312203', 'road_density': 0.0},\n",
       " {'quadkey': '30012233332020', 'road_density': 0.0},\n",
       " {'quadkey': '30012233322132', 'road_density': 0.0},\n",
       " {'quadkey': '30012233303130', 'road_density': 3.7476920340387625e-05},\n",
       " {'quadkey': '30012233302311', 'road_density': 0.0},\n",
       " {'quadkey': '30012233320033', 'road_density': 0.0},\n",
       " {'quadkey': '30012233301012', 'road_density': 0.0},\n",
       " {'quadkey': '30012233302101', 'road_density': 7.523645189845122e-05},\n",
       " {'quadkey': '30012233330220', 'road_density': 0.00011384058243030481},\n",
       " {'quadkey': '30012233333121', 'road_density': 5.8251090017527735e-05},\n",
       " {'quadkey': '30012233301033', 'road_density': 4.3351995943863965e-05},\n",
       " {'quadkey': '30012233310010', 'road_density': 0.0},\n",
       " {'quadkey': '30012233302313', 'road_density': 3.129463190807723e-05},\n",
       " {'quadkey': '30012233300332', 'road_density': 2.1625995283475204e-05},\n",
       " {'quadkey': '30012233321233', 'road_density': 0.0},\n",
       " {'quadkey': '30012233310121', 'road_density': 3.081556760283824e-05},\n",
       " {'quadkey': '30012233322312', 'road_density': 0.0},\n",
       " {'quadkey': '30012233313031', 'road_density': 0.0},\n",
       " {'quadkey': '30012233322121', 'road_density': 0.0},\n",
       " {'quadkey': '30012233300321', 'road_density': 1.0323973203900069e-05},\n",
       " {'quadkey': '30012233302200', 'road_density': 2.7549163704960385e-05},\n",
       " {'quadkey': '30012233312231', 'road_density': 0.0},\n",
       " {'quadkey': '30012233323203', 'road_density': 0.0},\n",
       " {'quadkey': '30012233323121', 'road_density': 0.0},\n",
       " {'quadkey': '30012233313133', 'road_density': 0.0},\n",
       " {'quadkey': '30012233320010', 'road_density': 0.0},\n",
       " {'quadkey': '30012233300032', 'road_density': 3.368601255727819e-05},\n",
       " {'quadkey': '30012233322201', 'road_density': 0.0},\n",
       " {'quadkey': '30012233333222', 'road_density': 0.0},\n",
       " {'quadkey': '30012233320312', 'road_density': 0.0},\n",
       " {'quadkey': '30012233302010', 'road_density': 0.0001660700462645044},\n",
       " {'quadkey': '30012233331010', 'road_density': 6.428973397375858e-05},\n",
       " {'quadkey': '30012233333023', 'road_density': 0.0},\n",
       " {'quadkey': '30012233332130', 'road_density': 0.0},\n",
       " {'quadkey': '30012233303201', 'road_density': 0.0},\n",
       " {'quadkey': '30012233321123', 'road_density': 0.0},\n",
       " {'quadkey': '30012233322023', 'road_density': 0.0},\n",
       " {'quadkey': '30012233300200', 'road_density': 0.00013967468767320324},\n",
       " {'quadkey': '30012233332333', 'road_density': 0.0},\n",
       " {'quadkey': '30012233321223', 'road_density': 0.0},\n",
       " {'quadkey': '30012233332231', 'road_density': 3.8238680291822084e-05},\n",
       " {'quadkey': '30012233322031', 'road_density': 0.0},\n",
       " {'quadkey': '30012233320301', 'road_density': 0.0},\n",
       " {'quadkey': '30012233313203', 'road_density': 3.466557193242567e-05},\n",
       " {'quadkey': '30012233300010', 'road_density': 0.00011866205359737943},\n",
       " {'quadkey': '30012233321201', 'road_density': 0.0},\n",
       " {'quadkey': '30012233302003', 'road_density': 5.021923550114709e-05},\n",
       " {'quadkey': '30012233332203', 'road_density': 2.7263829017236474e-05},\n",
       " {'quadkey': '30012233333322', 'road_density': 7.372159090584325e-06},\n",
       " {'quadkey': '30012233301213', 'road_density': 2.4354687835742107e-05},\n",
       " {'quadkey': '30012233322120', 'road_density': 0.0},\n",
       " {'quadkey': '30012233303033', 'road_density': 1.787640572399668e-05},\n",
       " {'quadkey': '30012233333323', 'road_density': 0.0},\n",
       " {'quadkey': '30012233321030', 'road_density': 0.0},\n",
       " {'quadkey': '30012233312321', 'road_density': 0.00011384058243030481},\n",
       " {'quadkey': '30012233313011', 'road_density': 0.0},\n",
       " {'quadkey': '30012233311323', 'road_density': 0.0},\n",
       " {'quadkey': '30012233330202', 'road_density': 0.00011384058243030481},\n",
       " {'quadkey': '30012233322231', 'road_density': 0.0},\n",
       " {'quadkey': '30012233332320', 'road_density': 7.73758082559583e-05},\n",
       " {'quadkey': '30012233300030', 'road_density': 4.842712018453957e-05},\n",
       " {'quadkey': '30012233333332', 'road_density': 0.0},\n",
       " {'quadkey': '30012233321302', 'road_density': 0.0},\n",
       " {'quadkey': '30012233320311', 'road_density': 0.0},\n",
       " {'quadkey': '30012233313231', 'road_density': 0.0},\n",
       " {'quadkey': '30012233302302', 'road_density': 0.0},\n",
       " {'quadkey': '30012233302133', 'road_density': 0.0},\n",
       " {'quadkey': '30012233323302', 'road_density': 0.0},\n",
       " {'quadkey': '30012233302212', 'road_density': 0.0},\n",
       " {'quadkey': '30012233320300', 'road_density': 0.0},\n",
       " {'quadkey': '30012233302131', 'road_density': 4.335463561406827e-06},\n",
       " {'quadkey': '30012233311301', 'road_density': 0.0},\n",
       " {'quadkey': '30012233303230', 'road_density': 3.8100591864276994e-05},\n",
       " {'quadkey': '30012233333230', 'road_density': 0.0},\n",
       " {'quadkey': '30012233332012', 'road_density': 0.0},\n",
       " {'quadkey': '30012233323221', 'road_density': 0.0},\n",
       " {'quadkey': '30012233332232', 'road_density': 2.1042256834504408e-05},\n",
       " {'quadkey': '30012233323122', 'road_density': 0.0},\n",
       " {'quadkey': '30012233321012', 'road_density': 0.0},\n",
       " {'quadkey': '30012233333201', 'road_density': 5.742604343370132e-05},\n",
       " {'quadkey': '30012233321131', 'road_density': 0.0},\n",
       " {'quadkey': '30012233302210', 'road_density': 0.0},\n",
       " {'quadkey': '30012233303032', 'road_density': 1.787640572399668e-05},\n",
       " {'quadkey': '30012233313103', 'road_density': 0.0},\n",
       " {'quadkey': '30012233331331', 'road_density': 0.00010648820288870418},\n",
       " {'quadkey': '30012233301022', 'road_density': 4.3351995943863965e-05},\n",
       " {'quadkey': '30012233302232', 'road_density': 0.0},\n",
       " {'quadkey': '30012233302113', 'road_density': 7.2911731303808865e-06},\n",
       " {'quadkey': '30012233301303', 'road_density': 3.9248166158882966e-05},\n",
       " {'quadkey': '30012233302310', 'road_density': 3.129463190807723e-05},\n",
       " {'quadkey': '30012233302021', 'road_density': 2.7549163704960385e-05},\n",
       " {'quadkey': '30012233303302', 'road_density': 0.0},\n",
       " {'quadkey': '30012233312230', 'road_density': 0.0},\n",
       " {'quadkey': '30012233331002', 'road_density': 0.0},\n",
       " {'quadkey': '30012233303021', 'road_density': 0.0},\n",
       " {'quadkey': '30012233321330', 'road_density': 0.0},\n",
       " {'quadkey': '30012233333132', 'road_density': 0.0},\n",
       " {'quadkey': '30012233303301', 'road_density': 3.8100591864276994e-05},\n",
       " {'quadkey': '30012233311131', 'road_density': 0.0},\n",
       " {'quadkey': '30012233302331', 'road_density': 0.0},\n",
       " {'quadkey': '30012233303313', 'road_density': 0.0},\n",
       " {'quadkey': '30012233330300', 'road_density': 7.072247674764878e-05},\n",
       " {'quadkey': '30012233302011', 'road_density': 3.4133546883990343e-05},\n",
       " {'quadkey': '30012233313010', 'road_density': 0.0},\n",
       " {'quadkey': '30012233311123', 'road_density': 0.0},\n",
       " {'quadkey': '30012233311300', 'road_density': 0.0},\n",
       " {'quadkey': '30012233332021', 'road_density': 0.0},\n",
       " {'quadkey': '30012233311101', 'road_density': 0.0},\n",
       " {'quadkey': '30012233321120', 'road_density': 0.0},\n",
       " {'quadkey': '30012233332322', 'road_density': 1.1214986264989321e-05},\n",
       " {'quadkey': '30012233321301', 'road_density': 0.0},\n",
       " {'quadkey': '30012233311230', 'road_density': 0.0},\n",
       " {'quadkey': '30012233323201', 'road_density': 0.0},\n",
       " {'quadkey': '30012233300001', 'road_density': 9.096238831595628e-05},\n",
       " {'quadkey': '30012233330112', 'road_density': 7.072247674764878e-05},\n",
       " {'quadkey': '30012233330222', 'road_density': 0.00021391424171347337},\n",
       " {'quadkey': '30012233310013', 'road_density': 5.005397502984446e-05},\n",
       " {'quadkey': '30012233333032', 'road_density': 0.0},\n",
       " {'quadkey': '30012233313113', 'road_density': 0.0},\n",
       " {'quadkey': '30012233331021', 'road_density': 0.0},\n",
       " {'quadkey': '30012233323310', 'road_density': 0.00020531434579204702},\n",
       " {'quadkey': '30012233332101', 'road_density': 0.0},\n",
       " {'quadkey': '30012233313110', 'road_density': 0.0},\n",
       " {'quadkey': '30012233323111', 'road_density': 2.9351182535519774e-05},\n",
       " {'quadkey': '30012233300310', 'road_density': 3.99927717731299e-05},\n",
       " {'quadkey': '30012233311121', 'road_density': 0.0},\n",
       " {'quadkey': '30012233333210', 'road_density': 5.742604343370132e-05},\n",
       " {'quadkey': '30012233300330', 'road_density': 1.6341553615727817e-05},\n",
       " {'quadkey': '30012233333111', 'road_density': 5.8251090017527735e-05},\n",
       " {'quadkey': '30012233330221', 'road_density': 7.072247674764878e-05},\n",
       " {'quadkey': '30012233323330', 'road_density': 6.9684228314103735e-06},\n",
       " {'quadkey': '30012233320110', 'road_density': 0.0},\n",
       " {'quadkey': '30012233311110', 'road_density': 0.0},\n",
       " {'quadkey': '30012233321212', 'road_density': 0.0},\n",
       " {'quadkey': '30012233301203', 'road_density': 0.0},\n",
       " {'quadkey': '30012233321202', 'road_density': 0.0},\n",
       " {'quadkey': '30012233322000', 'road_density': 0.0},\n",
       " {'quadkey': '30012233330013', 'road_density': 0.0},\n",
       " {'quadkey': '30012233321130', 'road_density': 0.0},\n",
       " {'quadkey': '30012233332032', 'road_density': 0.0},\n",
       " {'quadkey': '30012233332011', 'road_density': 0.0},\n",
       " {'quadkey': '30012233333231', 'road_density': 1.4956327311981203e-05},\n",
       " {'quadkey': '30012233330122', 'road_density': 7.072247674764878e-05},\n",
       " {'quadkey': '30012233302203', 'road_density': 0.0},\n",
       " {'quadkey': '30012233331000', 'road_density': 1.4906582865452757e-05},\n",
       " {'quadkey': '30012233323232', 'road_density': 0.0},\n",
       " {'quadkey': '30012233302332', 'road_density': 0.0},\n",
       " {'quadkey': '30012233323213', 'road_density': 0.0},\n",
       " {'quadkey': '30012233312103', 'road_density': 0.0},\n",
       " {'quadkey': '30012233331201', 'road_density': 0.0},\n",
       " {'quadkey': '30012233301001', 'road_density': 0.0},\n",
       " {'quadkey': '30012233302323', 'road_density': 0.0},\n",
       " {'quadkey': '30012233321322', 'road_density': 0.0},\n",
       " {'quadkey': '30012233330323', 'road_density': 0.0},\n",
       " {'quadkey': '30012233333212', 'road_density': 5.742604343370132e-05},\n",
       " {'quadkey': '30012233312110', 'road_density': 0.0},\n",
       " {'quadkey': '30012233320211', 'road_density': 0.0},\n",
       " {'quadkey': '30012233311310', 'road_density': 0.0},\n",
       " {'quadkey': '30012233321230', 'road_density': 0.0},\n",
       " {'quadkey': '30012233300220', 'road_density': 0.00013426412584098565},\n",
       " {'quadkey': '30012233300003', 'road_density': 2.9046016284440758e-05},\n",
       " {'quadkey': '30012233322230', 'road_density': 0.0},\n",
       " {'quadkey': '30012233332030', 'road_density': 0.0},\n",
       " {'quadkey': '30012233313130', 'road_density': 0.0},\n",
       " {'quadkey': '30012233300322', 'road_density': 8.322798117431822e-06},\n",
       " {'quadkey': '30012233311031', 'road_density': 0.0},\n",
       " {'quadkey': '30012233303320', 'road_density': 3.8100591864276994e-05},\n",
       " {'quadkey': '30012233303210', 'road_density': 1.787640572399668e-05},\n",
       " {'quadkey': '30012233321313', 'road_density': 0.0},\n",
       " {'quadkey': '30012233303022', 'road_density': 0.0},\n",
       " {'quadkey': '30012233302032', 'road_density': 0.0},\n",
       " {'quadkey': '30012233310102', 'road_density': 5.488601168209509e-06},\n",
       " {'quadkey': '30012233332202', 'road_density': 1.975328961749839e-05},\n",
       " {'quadkey': '30012233330303', 'road_density': 0.0},\n",
       " {'quadkey': '30012233313230', 'road_density': 6.428973397375858e-05},\n",
       " {'quadkey': '30012233300020', 'road_density': 1.5980663081064868e-05},\n",
       " {'quadkey': '30012233323313', 'road_density': 8.273719653073613e-05},\n",
       " {'quadkey': '30012233322212', 'road_density': 0.0},\n",
       " {'quadkey': '30012233330320', 'road_density': 0.0},\n",
       " {'quadkey': '30012233312222', 'road_density': 0.0},\n",
       " {'quadkey': '30012233312111', 'road_density': 0.0},\n",
       " {'quadkey': '30012233332220', 'road_density': 1.5174866281690566e-06},\n",
       " {'quadkey': '30012233330131', 'road_density': 0.0},\n",
       " {'quadkey': '30012233300222', 'road_density': 8.421285610912314e-05},\n",
       " {'quadkey': '30012233310002', 'road_density': 0.0},\n",
       " {'quadkey': '30012233323030', 'road_density': 0.0},\n",
       " {'quadkey': '30012233303110', 'road_density': 0.0},\n",
       " {'quadkey': '30012233312320', 'road_density': 0.0},\n",
       " {'quadkey': '30012233301123', 'road_density': 0.0},\n",
       " {'quadkey': '30012233330003', 'road_density': 0.0},\n",
       " {'quadkey': '30012233333303', 'road_density': 2.5305772791949057e-05},\n",
       " {'quadkey': '30012233333300', 'road_density': 5.8251090017527735e-05},\n",
       " {'quadkey': '30012233333033', 'road_density': 0.0},\n",
       " {'quadkey': '30012233302120', 'road_density': 1.786685277077183e-05},\n",
       " {'quadkey': '30012233332103', 'road_density': 0.0},\n",
       " {'quadkey': '30012233320210', 'road_density': 0.0},\n",
       " {'quadkey': '30012233301103', 'road_density': 1.931404216859432e-05},\n",
       " {'quadkey': '30012233321203', 'road_density': 0.0},\n",
       " {'quadkey': '30012233323311', 'road_density': 0.00024353664871004386},\n",
       " {'quadkey': '30012233302322', 'road_density': 0.0},\n",
       " {'quadkey': '30012233330203', 'road_density': 0.00011384058243030481},\n",
       " {'quadkey': '30012233322221', 'road_density': 0.0},\n",
       " {'quadkey': '30012233332001', 'road_density': 0.0},\n",
       " {'quadkey': '30012233303020', 'road_density': 0.0},\n",
       " {'quadkey': '30012233311122', 'road_density': 0.0},\n",
       " {'quadkey': '30012233331003', 'road_density': 0.0},\n",
       " {'quadkey': '30012233302112', 'road_density': 3.7732618266637035e-05},\n",
       " {'quadkey': '30012233310103', 'road_density': 5.343887374951902e-05},\n",
       " {'quadkey': '30012233320212', 'road_density': 0.0},\n",
       " {'quadkey': '30012233302000', 'road_density': 4.3023675719195256e-05},\n",
       " {'quadkey': '30012233323012', 'road_density': 0.0},\n",
       " {'quadkey': '30012233321121', 'road_density': 0.0},\n",
       " {'quadkey': '30012233322033', 'road_density': 0.0},\n",
       " {'quadkey': '30012233321132', 'road_density': 0.0},\n",
       " {'quadkey': '30012233323331', 'road_density': 2.224818995336675e-05},\n",
       " {'quadkey': '30012233331311', 'road_density': 0.0},\n",
       " {'quadkey': '30012233323312', 'road_density': 0.00019830331252353634},\n",
       " {'quadkey': '30012233333220', 'road_density': 0.0},\n",
       " {'quadkey': '30012233312002', 'road_density': 0.00010524518069011757},\n",
       " {'quadkey': '30012233321220', 'road_density': 0.0},\n",
       " {'quadkey': '30012233300012', 'road_density': 4.207579281413911e-05},\n",
       " {'quadkey': '30012233333123', 'road_density': 5.8251090017527735e-05},\n",
       " {'quadkey': '30012233320012', 'road_density': 0.0},\n",
       " {'quadkey': '30012233332303', 'road_density': 5.742604343370132e-05},\n",
       " {'quadkey': '30012233310220', 'road_density': 3.104134211923825e-05},\n",
       " {'quadkey': '30012233310132', 'road_density': 6.28218362895387e-05},\n",
       " {'quadkey': '30012233331212', 'road_density': 0.0},\n",
       " {'quadkey': '30012233313311', 'road_density': 0.0},\n",
       " {'quadkey': '30012233323021', 'road_density': 0.0},\n",
       " {'quadkey': '30012233331121', 'road_density': 0.0},\n",
       " {'quadkey': '30012233333313', 'road_density': 0.0},\n",
       " {'quadkey': '30012233331301', 'road_density': 6.428973397375858e-05},\n",
       " {'quadkey': '30012233331203', 'road_density': 0.0},\n",
       " {'quadkey': '30012233300221', 'road_density': 0.00019029111146871193},\n",
       " {'quadkey': '30012233311133', 'road_density': 0.0},\n",
       " {'quadkey': '30012233320201', 'road_density': 0.0},\n",
       " {'quadkey': '30012233330000', 'road_density': 0.0},\n",
       " {'quadkey': '30012233303202', 'road_density': 5.71434573845903e-05},\n",
       " {'quadkey': '30012233310310', 'road_density': 6.28218362895387e-05},\n",
       " {'quadkey': '30012233310012', 'road_density': 2.682108767741982e-05},\n",
       " {'quadkey': '30012233322122', 'road_density': 0.0},\n",
       " {'quadkey': '30012233330233', 'road_density': 0.0},\n",
       " {'quadkey': '30012233332210', 'road_density': 0.0},\n",
       " {'quadkey': '30012233302230', 'road_density': 0.0},\n",
       " {'quadkey': '30012233333002', 'road_density': 0.0},\n",
       " {'quadkey': '30012233311321', 'road_density': 0.0},\n",
       " {'quadkey': '30012233311330', 'road_density': 0.0},\n",
       " {'quadkey': '30012233302201', 'road_density': 0.0},\n",
       " {'quadkey': '30012233311132', 'road_density': 0.0},\n",
       " {'quadkey': '30012233313121', 'road_density': 0.0},\n",
       " {'quadkey': '30012233320111', 'road_density': 0.0},\n",
       " {'quadkey': '30012233322203', 'road_density': 0.0},\n",
       " {'quadkey': '30012233333020', 'road_density': 0.0},\n",
       " {'quadkey': '30012233300232', 'road_density': 0.00019807179549868322},\n",
       " {'quadkey': '30012233322313', 'road_density': 0.0},\n",
       " {'quadkey': '30012233332131', 'road_density': 0.0},\n",
       " {'quadkey': '30012233323301', 'road_density': 6.676022250626277e-06},\n",
       " {'quadkey': '30012233310123', 'road_density': 0.0},\n",
       " {'quadkey': '30012233320331', 'road_density': 0.0},\n",
       " {'quadkey': '30012233332323', 'road_density': 0.0},\n",
       " {'quadkey': '30012233311332', 'road_density': 0.0},\n",
       " {'quadkey': '30012233313132', 'road_density': 0.0},\n",
       " {'quadkey': '30012233312030', 'road_density': 4.2141653783157815e-05},\n",
       " {'quadkey': '30012233313232', 'road_density': 6.428973397375858e-05},\n",
       " {'quadkey': '30012233330031', 'road_density': 0.0},\n",
       " {'quadkey': '30012233300000', 'road_density': 2.9345073053691376e-05},\n",
       " {'quadkey': '30012233312102', 'road_density': 0.0},\n",
       " {'quadkey': '30012233323300', 'road_density': 0.0},\n",
       " {'quadkey': '30012233330223', 'road_density': 7.072247674764878e-05},\n",
       " {'quadkey': '30012233333302', 'road_density': 9.772141449495922e-05},\n",
       " {'quadkey': '30012233300311', 'road_density': 7.223025244553989e-05},\n",
       " {'quadkey': '30012233332321', 'road_density': 5.742604343370132e-05},\n",
       " {'quadkey': '30012233322223', 'road_density': 0.0},\n",
       " {'quadkey': '30012233323101', 'road_density': 0.0},\n",
       " {'quadkey': '30012233331113', 'road_density': 0.0},\n",
       " {'quadkey': '30012233323332', 'road_density': 0.0},\n",
       " {'quadkey': '30012233321200', 'road_density': 0.0},\n",
       " {'quadkey': '30012233301302', 'road_density': 2.863948588174937e-05},\n",
       " {'quadkey': '30012233303111', 'road_density': 0.0},\n",
       " {'quadkey': '30012233303200', 'road_density': 0.0},\n",
       " {'quadkey': '30012233302001', 'road_density': 0.00015062104836126191},\n",
       " {'quadkey': '30012233332331', 'road_density': 0.0},\n",
       " {'quadkey': '30012233321133', 'road_density': 0.0},\n",
       " {'quadkey': '30012233311111', 'road_density': 0.0},\n",
       " {'quadkey': '30012233330232', 'road_density': 0.0},\n",
       " {'quadkey': '30012233332121', 'road_density': 0.0},\n",
       " {'quadkey': '30012233302110', 'road_density': 5.9118560504268025e-05},\n",
       " {'quadkey': '30012233311201', 'road_density': 0.0},\n",
       " {'quadkey': '30012233310130', 'road_density': 6.28218362895387e-05},\n",
       " {'quadkey': '30012233322021', 'road_density': 0.0},\n",
       " {'quadkey': '30012233320222', 'road_density': 0.0},\n",
       " {'quadkey': '30012233333221', 'road_density': 0.0},\n",
       " {'quadkey': '30012233303113', 'road_density': 4.4605382152786125e-05},\n",
       " {'quadkey': '30012233302303', 'road_density': 0.0},\n",
       " {'quadkey': '30012233310011', 'road_density': 3.576161360606018e-05},\n",
       " {'quadkey': '30012233330212', 'road_density': 7.072247674764878e-05},\n",
       " {'quadkey': '30012233301210', 'road_density': 4.3351995943863965e-05},\n",
       " {'quadkey': '30012233331310', 'road_density': 6.428973397375858e-05},\n",
       " {'quadkey': '30012233323220', 'road_density': 0.0},\n",
       " {'quadkey': '30012233323020', 'road_density': 0.0},\n",
       " {'quadkey': '30012233311113', 'road_density': 0.0},\n",
       " {'quadkey': '30012233320310', 'road_density': 0.0},\n",
       " {'quadkey': '30012233300323', 'road_density': 2.669182112796284e-06},\n",
       " {'quadkey': '30012233302030', 'road_density': 0.0},\n",
       " {'quadkey': '30012233303303', 'road_density': 3.8100591864276994e-05},\n",
       " {'quadkey': '30012233303330', 'road_density': 0.0},\n",
       " {'quadkey': '30012233300021', 'road_density': 4.227898521742214e-05},\n",
       " {'quadkey': '30012233313331', 'road_density': 0.0},\n",
       " {'quadkey': '30012233322320', 'road_density': 0.0},\n",
       " {'quadkey': '30012233330312', 'road_density': 0.0},\n",
       " {'quadkey': '30012233321331', 'road_density': 0.0},\n",
       " {'quadkey': '30012233323022', 'road_density': 0.0},\n",
       " {'quadkey': '30012233331313', 'road_density': 8.725930019983381e-05},\n",
       " {'quadkey': '30012233332302', 'road_density': 0.0},\n",
       " {'quadkey': '30012233333200', 'road_density': 0.0},\n",
       " {'quadkey': '30012233313012', 'road_density': 0.0},\n",
       " {'quadkey': '30012233300002', 'road_density': 2.6337776395464353e-05},\n",
       " {'quadkey': '30012233302031', 'road_density': 0.0},\n",
       " {'quadkey': '30012233302222', 'road_density': 0.0},\n",
       " {'quadkey': '30012233333301', 'road_density': 2.5305772791949057e-05},\n",
       " {'quadkey': '30012233321003', 'road_density': 0.0},\n",
       " {'quadkey': '30012233303333', 'road_density': 0.0},\n",
       " {'quadkey': '30012233320002', 'road_density': 0.0},\n",
       " {'quadkey': '30012233310020', 'road_density': 0.0001437502089225966},\n",
       " {'quadkey': '30012233333331', 'road_density': 0.0},\n",
       " {'quadkey': '30012233313112', 'road_density': 0.0},\n",
       " {'quadkey': '30012233300233', 'road_density': 1.9123497155806174e-05},\n",
       " {'quadkey': '30012233302012', 'road_density': 2.5919475415106588e-05},\n",
       " {'quadkey': '30012233303213', 'road_density': 0.0},\n",
       " {'quadkey': '30012233332300', 'road_density': 0.0},\n",
       " {'quadkey': '30012233323200', 'road_density': 0.0},\n",
       " {'quadkey': '30012233313000', 'road_density': 2.4097943407489776e-05},\n",
       " {'quadkey': '30012233303222', 'road_density': 0.0},\n",
       " {'quadkey': '30012233321323', 'road_density': 0.0},\n",
       " {'quadkey': '30012233333311', 'road_density': 2.5305772791949057e-05},\n",
       " {'quadkey': '30012233310333', 'road_density': 1.671213008412765e-05},\n",
       " {'quadkey': '30012233302211', 'road_density': 0.0},\n",
       " {'quadkey': '30012233302020', 'road_density': 2.7549163704960385e-05},\n",
       " {'quadkey': '30012233323133', 'road_density': 2.320977164098385e-05},\n",
       " {'quadkey': '30012233331312', 'road_density': 7.621782829740875e-05},\n",
       " {'quadkey': '30012233321303', 'road_density': 0.0},\n",
       " {'quadkey': '30012233322202', 'road_density': 0.0},\n",
       " {'quadkey': '30012233311232', 'road_density': 0.0},\n",
       " {'quadkey': '30012233302233', 'road_density': 0.0},\n",
       " {'quadkey': '30012233332221', 'road_density': 1.6279689692700318e-05},\n",
       " {'quadkey': '30012233313221', 'road_density': 0.0001325973382632783},\n",
       " {'quadkey': '30012233311103', 'road_density': 0.0},\n",
       " {'quadkey': '30012233302202', 'road_density': 2.7549163704960385e-05},\n",
       " {'quadkey': '30012233303300', 'road_density': 0.0},\n",
       " {'quadkey': '30012233310100', 'road_density': 6.848461178224321e-05},\n",
       " {'quadkey': '30012233321232', 'road_density': 0.0},\n",
       " {'quadkey': '30012233332201', 'road_density': 0.0},\n",
       " {'quadkey': '30012233323323', 'road_density': 0.0},\n",
       " {'quadkey': '30012233323321', 'road_density': 0.0},\n",
       " {'quadkey': '30012233321103', 'road_density': 0.0},\n",
       " {'quadkey': '30012233320200', 'road_density': 0.0},\n",
       " {'quadkey': '30012233332211', 'road_density': 0.0},\n",
       " {'quadkey': '30012233311210', 'road_density': 0.0},\n",
       " {'quadkey': '30012233302301', 'road_density': 3.6452905664700715e-05},\n",
       " {'quadkey': '30012233322133', 'road_density': 0.0},\n",
       " {'quadkey': '30012233300303', 'road_density': 1.0323973203900069e-05},\n",
       " {'quadkey': '30012233321312', 'road_density': 0.0},\n",
       " {'quadkey': '30012233332332', 'road_density': 0.0},\n",
       " {'quadkey': '30012233302033', 'road_density': 0.0},\n",
       " {'quadkey': '30012233312120', 'road_density': 4.2141653783157815e-05},\n",
       " {'quadkey': '30012233311200', 'road_density': 0.0},\n",
       " {'quadkey': '30012233300223', 'road_density': 0.0002496261382064457},\n",
       " {'quadkey': '30012233332311', 'road_density': 0.0},\n",
       " {'quadkey': '30012233313212', 'road_density': 0.0},\n",
       " {'quadkey': '30012233311302', 'road_density': 0.0},\n",
       " {'quadkey': '30012233313013', 'road_density': 0.0},\n",
       " {'quadkey': '30012233320023', 'road_density': 0.0},\n",
       " {'quadkey': '30012233301020', 'road_density': 0.0},\n",
       " {'quadkey': '30012233311120', 'road_density': 0.0},\n",
       " {'quadkey': '30012233321102', 'road_density': 0.0},\n",
       " {'quadkey': '30012233331321', 'road_density': 1.1928094323650173e-05},\n",
       " {'quadkey': '30012233311203', 'road_density': 0.0},\n",
       " {'quadkey': '30012233302102', 'road_density': 4.7296218954511635e-05},\n",
       " {'quadkey': '30012233311130', 'road_density': 0.0},\n",
       " {'quadkey': '30012233330011', 'road_density': 0.00011384058243030481},\n",
       " {'quadkey': '30012233322032', 'road_density': 0.0},\n",
       " {'quadkey': '30012233330010', 'road_density': 0.00011384058243030481},\n",
       " {'quadkey': '30012233330211', 'road_density': 7.072247674764878e-05},\n",
       " {'quadkey': '30012233320303', 'road_density': 0.0},\n",
       " {'quadkey': '30012233313320', 'road_density': 0.0},\n",
       " {'quadkey': '30012233333122', 'road_density': 5.8251090017527735e-05},\n",
       " {'quadkey': '30012233300231', 'road_density': 1.4915665371122645e-05},\n",
       " {'quadkey': '30012233311013', 'road_density': 0.0},\n",
       " {'quadkey': '30012233311303', 'road_density': 0.0},\n",
       " {'quadkey': '30012233302002', 'road_density': 5.44448988000838e-06},\n",
       " {'quadkey': '30012233323211', 'road_density': 0.0},\n",
       " {'quadkey': '30012233331133', 'road_density': 0.0},\n",
       " {'quadkey': '30012233323132', 'road_density': 4.3841175081992784e-05},\n",
       " {'quadkey': '30012233333233', 'road_density': 0.0},\n",
       " {'quadkey': '30012233322310', 'road_density': 0.0},\n",
       " {'quadkey': '30012233302231', 'road_density': 0.0},\n",
       " {'quadkey': '30012233310031', 'road_density': 1.707524440629338e-05},\n",
       " {'quadkey': '30012233332010', 'road_density': 0.0},\n",
       " {'quadkey': '30012233323023', 'road_density': 0.0},\n",
       " {'quadkey': '30012233301212', 'road_density': 2.4354687835742107e-05},\n",
       " {'quadkey': '30012233333321', 'road_density': 0.0},\n",
       " {'quadkey': '30012233312333', 'road_density': 1.7928948019470043e-05},\n",
       " {'quadkey': '30012233310001', 'road_density': 0.0},\n",
       " {'quadkey': '30012233323233', 'road_density': 0.0},\n",
       " {'quadkey': '30012233310112', 'road_density': 3.200626868670046e-05},\n",
       " {'quadkey': '30012233332233', 'road_density': 5.748504523942042e-05},\n",
       " {'quadkey': '30012233300312', 'road_density': 4.959200681209383e-05},\n",
       " {'quadkey': '30012233332022', 'road_density': 6.374871374663551e-06},\n",
       " {'quadkey': '30012233322022', 'road_density': 0.0},\n",
       " {'quadkey': '30012233323230', 'road_density': 0.0},\n",
       " {'quadkey': '30012233302321', 'road_density': 0.0},\n",
       " {'quadkey': '30012233303332', 'road_density': 0.0},\n",
       " {'quadkey': '30012233330113', 'road_density': 7.072247674764878e-05},\n",
       " {'quadkey': '30012233323322', 'road_density': 0.0},\n",
       " {'quadkey': '30012233302300', 'road_density': 0.0},\n",
       " {'quadkey': '30012233303121', 'road_density': 3.7476920340387625e-05},\n",
       " {'quadkey': '30012233323103', 'road_density': 0.0},\n",
       " {'quadkey': '30012233333203', 'road_density': 5.742604343370132e-05},\n",
       " {'quadkey': '30012233332301', 'road_density': 0.0},\n",
       " {'quadkey': '30012233323131', 'road_density': 3.532013980852424e-05},\n",
       " {'quadkey': '30012233313222', 'road_density': 1.4906582865452757e-05},\n",
       " {'quadkey': '30012233323110', 'road_density': 0.0},\n",
       " {'quadkey': '30012233332110', 'road_density': 0.0},\n",
       " {'quadkey': '30012233322123', 'road_density': 0.0},\n",
       " {'quadkey': '30012233300022', 'road_density': 3.3655328606336175e-05},\n",
       " {'quadkey': '30012233321332', 'road_density': 0.0},\n",
       " {'quadkey': '30012233333130', 'road_density': 5.8251090017527735e-05},\n",
       " {'quadkey': '30012233303023', 'road_density': 0.0},\n",
       " {'quadkey': '30012233321213', 'road_density': 0.0},\n",
       " {'quadkey': '30012233332222', 'road_density': 0.0},\n",
       " {'quadkey': '30012233302013', 'road_density': 1.4673735025965789e-05},\n",
       " {'quadkey': '30012233312010', 'road_density': 0.0},\n",
       " {'quadkey': '30012233333133', 'road_density': 0.0},\n",
       " {'quadkey': '30012233323333', 'road_density': 1.3394724349411275e-05},\n",
       " {'quadkey': '30012233322311', 'road_density': 0.0},\n",
       " {'quadkey': '30012233332023', 'road_density': 0.0},\n",
       " {'quadkey': '30012233320302', 'road_density': 0.0},\n",
       " {'quadkey': '30012233310101', 'road_density': 9.570777583959055e-05},\n",
       " {'quadkey': '30012233300313', 'road_density': 0.0},\n",
       " {'quadkey': '30012233330230', 'road_density': 7.072247674764878e-05},\n",
       " {'quadkey': '30012233301323', 'road_density': 0.0},\n",
       " {'quadkey': '30012233322130', 'road_density': 0.0},\n",
       " {'quadkey': '30012233322220', 'road_density': 0.0},\n",
       " {'quadkey': '30012233321021', 'road_density': 0.0},\n",
       " {'quadkey': '30012233320022', 'road_density': 0.0},\n",
       " {'quadkey': '30012233323303', 'road_density': 1.4906929215945692e-05},\n",
       " {'quadkey': '30012233301122', 'road_density': 5.0360009130709114e-05},\n",
       " {'quadkey': '30012233322102', 'road_density': 0.0},\n",
       " {'quadkey': '30012233323112', 'road_density': 0.0},\n",
       " {'quadkey': '30012233332213', 'road_density': 0.0},\n",
       " {'quadkey': '30012233302330', 'road_density': 0.0},\n",
       " {'quadkey': '30012233320101', 'road_density': 0.0},\n",
       " {'quadkey': '30012233310201', 'road_density': 9.803300388886264e-05},\n",
       " {'quadkey': '30012233303231', 'road_density': 3.8100591864276994e-05},\n",
       " {'quadkey': '30012233313101', 'road_density': 0.0},\n",
       " {'quadkey': '30012233301032', 'road_density': 5.119032933548699e-05},\n",
       " {'quadkey': '30012233312233', 'road_density': 0.00011384058243030481},\n",
       " {'quadkey': '30012233303220', 'road_density': 7.895723104431206e-06},\n",
       " {'quadkey': '30012233311112', 'road_density': 0.0},\n",
       " {'quadkey': '30012233323320', 'road_density': 0.0},\n",
       " {'quadkey': '30012233300201', 'road_density': 8.440239703225657e-05},\n",
       " {'quadkey': '30012233323033', 'road_density': 0.0},\n",
       " {'quadkey': '30012233320032', 'road_density': 0.0},\n",
       " {'quadkey': '30012233301111', 'road_density': 0.0},\n",
       " {'quadkey': '30012233330033', 'road_density': 0.0},\n",
       " {'quadkey': '30012233331023', 'road_density': 0.0},\n",
       " {'quadkey': '30012233303211', 'road_density': 0.0},\n",
       " {'quadkey': '30012233323130', 'road_density': 0.0}]"
      ]
     },
     "execution_count": 13,
     "metadata": {},
     "output_type": "execute_result"
    }
   ],
   "source": [
    "df"
   ]
  },
  {
   "cell_type": "code",
   "execution_count": 14,
   "id": "a0e47bf1-3e5b-4614-a939-f805de71536a",
   "metadata": {},
   "outputs": [
    {
     "data": {
      "text/html": [
       "<div>\n",
       "<style scoped>\n",
       "    .dataframe tbody tr th:only-of-type {\n",
       "        vertical-align: middle;\n",
       "    }\n",
       "\n",
       "    .dataframe tbody tr th {\n",
       "        vertical-align: top;\n",
       "    }\n",
       "\n",
       "    .dataframe thead th {\n",
       "        text-align: right;\n",
       "    }\n",
       "</style>\n",
       "<table border=\"1\" class=\"dataframe\">\n",
       "  <thead>\n",
       "    <tr style=\"text-align: right;\">\n",
       "      <th></th>\n",
       "      <th>quadkey</th>\n",
       "      <th>road_density</th>\n",
       "    </tr>\n",
       "  </thead>\n",
       "  <tbody>\n",
       "    <tr>\n",
       "      <th>0</th>\n",
       "      <td>30012233321231</td>\n",
       "      <td>0.000000</td>\n",
       "    </tr>\n",
       "    <tr>\n",
       "      <th>1</th>\n",
       "      <td>30012233302122</td>\n",
       "      <td>0.000018</td>\n",
       "    </tr>\n",
       "    <tr>\n",
       "      <th>2</th>\n",
       "      <td>30012233302121</td>\n",
       "      <td>0.000018</td>\n",
       "    </tr>\n",
       "    <tr>\n",
       "      <th>3</th>\n",
       "      <td>30012233323212</td>\n",
       "      <td>0.000000</td>\n",
       "    </tr>\n",
       "    <tr>\n",
       "      <th>4</th>\n",
       "      <td>30012233313321</td>\n",
       "      <td>0.000000</td>\n",
       "    </tr>\n",
       "    <tr>\n",
       "      <th>...</th>\n",
       "      <td>...</td>\n",
       "      <td>...</td>\n",
       "    </tr>\n",
       "    <tr>\n",
       "      <th>539</th>\n",
       "      <td>30012233301111</td>\n",
       "      <td>0.000000</td>\n",
       "    </tr>\n",
       "    <tr>\n",
       "      <th>540</th>\n",
       "      <td>30012233330033</td>\n",
       "      <td>0.000000</td>\n",
       "    </tr>\n",
       "    <tr>\n",
       "      <th>541</th>\n",
       "      <td>30012233331023</td>\n",
       "      <td>0.000000</td>\n",
       "    </tr>\n",
       "    <tr>\n",
       "      <th>542</th>\n",
       "      <td>30012233303211</td>\n",
       "      <td>0.000000</td>\n",
       "    </tr>\n",
       "    <tr>\n",
       "      <th>543</th>\n",
       "      <td>30012233323130</td>\n",
       "      <td>0.000000</td>\n",
       "    </tr>\n",
       "  </tbody>\n",
       "</table>\n",
       "<p>544 rows × 2 columns</p>\n",
       "</div>"
      ],
      "text/plain": [
       "            quadkey  road_density\n",
       "0    30012233321231      0.000000\n",
       "1    30012233302122      0.000018\n",
       "2    30012233302121      0.000018\n",
       "3    30012233323212      0.000000\n",
       "4    30012233313321      0.000000\n",
       "..              ...           ...\n",
       "539  30012233301111      0.000000\n",
       "540  30012233330033      0.000000\n",
       "541  30012233331023      0.000000\n",
       "542  30012233303211      0.000000\n",
       "543  30012233323130      0.000000\n",
       "\n",
       "[544 rows x 2 columns]"
      ]
     },
     "execution_count": 14,
     "metadata": {},
     "output_type": "execute_result"
    }
   ],
   "source": [
    "data = pd.DataFrame(df)\n",
    "data"
   ]
  },
  {
   "cell_type": "code",
   "execution_count": 15,
   "id": "58601cbe-26b0-4b98-8452-94aff4282512",
   "metadata": {},
   "outputs": [
    {
     "data": {
      "text/plain": [
       "count    544.000000\n",
       "mean       0.000019\n",
       "std        0.000038\n",
       "min        0.000000\n",
       "25%        0.000000\n",
       "50%        0.000000\n",
       "75%        0.000027\n",
       "max        0.000250\n",
       "Name: road_density, dtype: float64"
      ]
     },
     "execution_count": 15,
     "metadata": {},
     "output_type": "execute_result"
    }
   ],
   "source": [
    "data.road_density.describe()"
   ]
  },
  {
   "cell_type": "markdown",
   "id": "3e9e7201-7caa-4dd5-b451-6c317a4b9844",
   "metadata": {},
   "source": [
    "To better automate the process, we create the functions dens_from_quadkey(); which takes in input a quadkey and a geodataframe, and returns its road density; and get_road_data(); which inputs a quadkey and returns a geodataframe containing all the roads of the area. Since there happens to be quadkeys were no road data is available, the function graph_from_bbox could fail. In that case, we can assume that no road is present in the area and all of the child tiles will have no roads and thus no density."
   ]
  },
  {
   "cell_type": "code",
   "execution_count": 16,
   "id": "b0dd4314-e7fd-4932-bbf3-a00478e0b9bd",
   "metadata": {},
   "outputs": [
    {
     "data": {
      "text/plain": [
       "'30012233321231'"
      ]
     },
     "execution_count": 16,
     "metadata": {},
     "output_type": "execute_result"
    }
   ],
   "source": [
    "child = diz[parent][0]\n",
    "child"
   ]
  },
  {
   "cell_type": "code",
   "execution_count": 17,
   "id": "19fcc4d7-7228-45e3-b918-e0d5c0a07f6c",
   "metadata": {},
   "outputs": [],
   "source": [
    "no,we = quadkey.from_str(child).to_geo()\n",
    "so,ea = quadkey.from_str(child).to_geo(anchor = TileAnchor.ANCHOR_SE)"
   ]
  },
  {
   "cell_type": "code",
   "execution_count": 4,
   "id": "6718670a-f441-425b-b0cd-caa645b5059c",
   "metadata": {},
   "outputs": [],
   "source": [
    "def dens_from_quadkey(quad: str, data):\n",
    "    '''\n",
    "    Get the road density for a given quadkey.\n",
    "\n",
    "    Args:\n",
    "    quad (str): quadkey identifier as string value\n",
    "    data (gdf): pandas geodataframe containing all roads in a given bigger area than the required quadkey\n",
    "    \n",
    "    Returns:\n",
    "    road_density (float)\n",
    "    '''\n",
    "    q = quadkey.from_str(quad)\n",
    "    n,w = q.to_geo()\n",
    "    s,e = q.to_geo(anchor = TileAnchor.ANCHOR_SE)\n",
    "    \n",
    "    ##area/10^6 since its supposed to be in km^2\n",
    "    area = q.area() / 1000000  \n",
    "    bbox = box(w,s,e,n)\n",
    "\n",
    "    ##rd_length/1000 since its supposed to be in km\n",
    "    rd_length = (data[data.intersects(bbox)].length.sum())/1000\n",
    "\n",
    "    return rd_length/area"
   ]
  },
  {
   "cell_type": "code",
   "execution_count": 5,
   "id": "f836391a-a911-4bcf-bf72-ce372dbe24e0",
   "metadata": {},
   "outputs": [],
   "source": [
    "def get_road_data(quad):\n",
    "    '''\n",
    "    Gets the road data from OpenStreetMap for a given, generally low res quadkey\n",
    "\n",
    "    Args:\n",
    "    quad (quadkey): quadkey\n",
    "\n",
    "    Returns:\n",
    "    gdf_edges (gdf): pandas geodataframe containing all roads for the given area.\n",
    "                     it has only length and geometry values as to render the following \n",
    "                     slicing process quicker\n",
    "    '''\n",
    "    n,w = parent.to_geo()\n",
    "    s,e = parent.to_geo(anchor = TileAnchor.ANCHOR_SE)\n",
    "    succ = False\n",
    "    try: \n",
    "        gdf_edges = ox.graph_from_bbox(bbox = (n,s,e,w), network_type='drive')\n",
    "        if gdf_edges is None:\n",
    "            raise Exception(\"La funzione secondaria ha fallito\")\n",
    "        gdf_edges = ox.graph_to_gdfs(gdf_edges, nodes=False)\n",
    "        succ = True\n",
    "\n",
    "    except Exception as e:\n",
    "        # Se la funzione secondaria fallisce, gestisci l'eccezione\n",
    "        #print(\"Errore:\", e)\n",
    "        \n",
    "        # Assegna un output arbitrario\n",
    "        output = []\n",
    "\n",
    "    if succ == True:\n",
    "        return gdf_edges[['length', 'geometry']]\n",
    "    else:\n",
    "        return output"
   ]
  },
  {
   "cell_type": "markdown",
   "id": "3f74c9be-fd78-4e1c-ba0d-051ab7e12fc8",
   "metadata": {},
   "source": [
    "As we can see, not caching should only cost around 1 second of additional runtime for each tile 9."
   ]
  },
  {
   "cell_type": "code",
   "execution_count": 20,
   "id": "6f56a115-de08-4811-bb28-20f2cce71b97",
   "metadata": {},
   "outputs": [
    {
     "name": "stdout",
     "output_type": "stream",
     "text": [
      "1\n",
      "2\n",
      "3\n",
      "elapsed time: 88.36677837371826s\n"
     ]
    }
   ],
   "source": [
    "df = []\n",
    "i = 0\n",
    "ox.settings.use_cache = False\n",
    "start = time.time()\n",
    "for parent, childlist in diz.items():\n",
    "    gdf_edges = get_road_data(parent)\n",
    "\n",
    "    if len(gdf_edges) == 0:\n",
    "        for child in childlist:\n",
    "            df.append({'quadkey': child, 'road_density': 0})\n",
    "    else:\n",
    "        for child in childlist:\n",
    "            dens = dens_from_quadkey(child, gdf_edges)\n",
    "            df.append({'quadkey': child, 'road_density': dens})\n",
    "    i += 1\n",
    "    print(i)\n",
    "    if i == 3:\n",
    "        break\n",
    "\n",
    "end = time.time()\n",
    "print(f'elapsed time: {end-start}s')"
   ]
  },
  {
   "cell_type": "code",
   "execution_count": 21,
   "id": "6e8288e4-200d-48df-88b9-7e64367b0d01",
   "metadata": {},
   "outputs": [
    {
     "name": "stdout",
     "output_type": "stream",
     "text": [
      "1\n",
      "2\n",
      "3\n",
      "elapsed time: 85.31292819976807s\n"
     ]
    }
   ],
   "source": [
    "df = []\n",
    "i = 0\n",
    "ox.settings.use_cache = True\n",
    "start = time.time()\n",
    "for parent, childlist in diz.items():\n",
    "    gdf_edges = get_road_data(parent)\n",
    "\n",
    "    if len(gdf_edges) == 0:\n",
    "        for child in childlist:\n",
    "            df.append({'quadkey': child, 'road_density': 0})\n",
    "    else:\n",
    "        for child in childlist:\n",
    "            dens = dens_from_quadkey(child, gdf_edges)\n",
    "            df.append({'quadkey': child, 'road_density': dens})\n",
    "    i += 1\n",
    "    print(i)\n",
    "    if i == 3:\n",
    "        break\n",
    "\n",
    "end = time.time()\n",
    "print(f'elapsed time: {end-start}s')"
   ]
  },
  {
   "cell_type": "code",
   "execution_count": 22,
   "id": "e4439699-8bef-4223-a36b-ad28f2d96f9e",
   "metadata": {},
   "outputs": [
    {
     "data": {
      "text/plain": [
       "2278"
      ]
     },
     "execution_count": 22,
     "metadata": {},
     "output_type": "execute_result"
    }
   ],
   "source": [
    "df = pd.DataFrame(df)\n",
    "len(df)"
   ]
  },
  {
   "cell_type": "code",
   "execution_count": 23,
   "id": "a9cacba9-bce1-4ea7-8e3e-de0de5ca3f39",
   "metadata": {},
   "outputs": [
    {
     "data": {
      "text/html": [
       "<div>\n",
       "<style scoped>\n",
       "    .dataframe tbody tr th:only-of-type {\n",
       "        vertical-align: middle;\n",
       "    }\n",
       "\n",
       "    .dataframe tbody tr th {\n",
       "        vertical-align: top;\n",
       "    }\n",
       "\n",
       "    .dataframe thead th {\n",
       "        text-align: right;\n",
       "    }\n",
       "</style>\n",
       "<table border=\"1\" class=\"dataframe\">\n",
       "  <thead>\n",
       "    <tr style=\"text-align: right;\">\n",
       "      <th></th>\n",
       "      <th>road_density</th>\n",
       "    </tr>\n",
       "  </thead>\n",
       "  <tbody>\n",
       "    <tr>\n",
       "      <th>count</th>\n",
       "      <td>2278.000000</td>\n",
       "    </tr>\n",
       "    <tr>\n",
       "      <th>mean</th>\n",
       "      <td>0.000014</td>\n",
       "    </tr>\n",
       "    <tr>\n",
       "      <th>std</th>\n",
       "      <td>0.000027</td>\n",
       "    </tr>\n",
       "    <tr>\n",
       "      <th>min</th>\n",
       "      <td>0.000000</td>\n",
       "    </tr>\n",
       "    <tr>\n",
       "      <th>25%</th>\n",
       "      <td>0.000000</td>\n",
       "    </tr>\n",
       "    <tr>\n",
       "      <th>50%</th>\n",
       "      <td>0.000000</td>\n",
       "    </tr>\n",
       "    <tr>\n",
       "      <th>75%</th>\n",
       "      <td>0.000021</td>\n",
       "    </tr>\n",
       "    <tr>\n",
       "      <th>max</th>\n",
       "      <td>0.000254</td>\n",
       "    </tr>\n",
       "  </tbody>\n",
       "</table>\n",
       "</div>"
      ],
      "text/plain": [
       "       road_density\n",
       "count   2278.000000\n",
       "mean       0.000014\n",
       "std        0.000027\n",
       "min        0.000000\n",
       "25%        0.000000\n",
       "50%        0.000000\n",
       "75%        0.000021\n",
       "max        0.000254"
      ]
     },
     "execution_count": 23,
     "metadata": {},
     "output_type": "execute_result"
    }
   ],
   "source": [
    "df.describe()"
   ]
  },
  {
   "cell_type": "code",
   "execution_count": 24,
   "id": "00eeae02-5e9c-44a9-ade1-d3c9ce8cd7c3",
   "metadata": {},
   "outputs": [
    {
     "data": {
      "text/plain": [
       "1524"
      ]
     },
     "execution_count": 24,
     "metadata": {},
     "output_type": "execute_result"
    }
   ],
   "source": [
    "len(df[df.road_density == 0])"
   ]
  },
  {
   "cell_type": "markdown",
   "id": "2c092aad-ae05-4927-8b68-c6d0aa85ccf8",
   "metadata": {},
   "source": [
    "Due to the high runtime, the operation was subsetted into multiple machines; this single machine only got the first 1245 tile 9s; either way, below its illustrated how the work had been divided."
   ]
  },
  {
   "cell_type": "code",
   "execution_count": 25,
   "id": "8db53de4-b37d-43a9-afdd-1fca7ec6e2e6",
   "metadata": {},
   "outputs": [
    {
     "data": {
      "text/plain": [
       "9962"
      ]
     },
     "execution_count": 25,
     "metadata": {},
     "output_type": "execute_result"
    }
   ],
   "source": [
    "len(diz.keys())"
   ]
  },
  {
   "cell_type": "code",
   "execution_count": 26,
   "id": "687f7cbe-4333-4a71-8441-b02533a64da2",
   "metadata": {},
   "outputs": [
    {
     "data": {
      "text/plain": [
       "4981"
      ]
     },
     "execution_count": 26,
     "metadata": {},
     "output_type": "execute_result"
    }
   ],
   "source": [
    "9962//2"
   ]
  },
  {
   "cell_type": "markdown",
   "id": "14d758e0-391b-40c7-86de-999db77202ae",
   "metadata": {},
   "source": [
    "The list of quadkey 9 tiles is split; then we decide an arbitrary number of batches and work with each batch.\n",
    "Due to time constraints, even the first (and only) batch treated with this machine had to be split into multiple datasets, but its concatenation is trivial and had no impact on the work. The whole process took around 10 hours to retrieve 855k quadkey 14 tiles."
   ]
  },
  {
   "cell_type": "code",
   "execution_count": 6,
   "id": "6b0c2050-92ab-40d3-96e9-a519bc0bb2b9",
   "metadata": {},
   "outputs": [],
   "source": [
    "lista_uso = list(diz.keys())[:4981]"
   ]
  },
  {
   "cell_type": "code",
   "execution_count": 7,
   "id": "a194435b-412b-463b-9152-dcafa7981967",
   "metadata": {},
   "outputs": [
    {
     "data": {
      "text/plain": [
       "[0, 1245, 2490, 3735, 4981]"
      ]
     },
     "execution_count": 7,
     "metadata": {},
     "output_type": "execute_result"
    }
   ],
   "source": [
    "import numpy as np\n",
    "steps = np.linspace(0, 4981, 5)\n",
    "steps = [int(s) for s in steps]\n",
    "steps"
   ]
  },
  {
   "cell_type": "code",
   "execution_count": 9,
   "id": "990ac2db-b41b-467d-b8a5-6f56cc8f8c8b",
   "metadata": {},
   "outputs": [],
   "source": [
    "import warnings\n",
    "df = []\n",
    "i = 536\n",
    "\n",
    "for parent in lista_uso[536:steps[1]]:\n",
    "    warnings.simplefilter(\"ignore\")\n",
    "    gdf_edges = get_road_data(parent)\n",
    "    childlist = diz[parent]\n",
    "\n",
    "    if len(gdf_edges) == 0:\n",
    "        for child in childlist:\n",
    "            df.append({'quadkey': child, 'road_density': 0})\n",
    "    else:\n",
    "        for child in childlist:\n",
    "            dens = dens_from_quadkey(child, gdf_edges)\n",
    "            df.append({'quadkey': child, 'road_density': dens})\n",
    "    i += 1"
   ]
  },
  {
   "cell_type": "code",
   "execution_count": 10,
   "id": "d5238883-0e08-4138-8076-a3e33ac2e729",
   "metadata": {},
   "outputs": [
    {
     "data": {
      "text/html": [
       "<div>\n",
       "<style scoped>\n",
       "    .dataframe tbody tr th:only-of-type {\n",
       "        vertical-align: middle;\n",
       "    }\n",
       "\n",
       "    .dataframe tbody tr th {\n",
       "        vertical-align: top;\n",
       "    }\n",
       "\n",
       "    .dataframe thead th {\n",
       "        text-align: right;\n",
       "    }\n",
       "</style>\n",
       "<table border=\"1\" class=\"dataframe\">\n",
       "  <thead>\n",
       "    <tr style=\"text-align: right;\">\n",
       "      <th></th>\n",
       "      <th>quadkey</th>\n",
       "      <th>road_density</th>\n",
       "    </tr>\n",
       "  </thead>\n",
       "  <tbody>\n",
       "    <tr>\n",
       "      <th>0</th>\n",
       "      <td>12213232222133</td>\n",
       "      <td>1.471658e-05</td>\n",
       "    </tr>\n",
       "    <tr>\n",
       "      <th>1</th>\n",
       "      <td>12213232220210</td>\n",
       "      <td>0.000000e+00</td>\n",
       "    </tr>\n",
       "    <tr>\n",
       "      <th>2</th>\n",
       "      <td>12213232221202</td>\n",
       "      <td>9.930837e-05</td>\n",
       "    </tr>\n",
       "    <tr>\n",
       "      <th>3</th>\n",
       "      <td>12213232222131</td>\n",
       "      <td>6.784457e-05</td>\n",
       "    </tr>\n",
       "    <tr>\n",
       "      <th>4</th>\n",
       "      <td>12213232220303</td>\n",
       "      <td>6.656877e-05</td>\n",
       "    </tr>\n",
       "    <tr>\n",
       "      <th>...</th>\n",
       "      <td>...</td>\n",
       "      <td>...</td>\n",
       "    </tr>\n",
       "    <tr>\n",
       "      <th>213866</th>\n",
       "      <td>21003130231002</td>\n",
       "      <td>7.408945e-06</td>\n",
       "    </tr>\n",
       "    <tr>\n",
       "      <th>213867</th>\n",
       "      <td>21003130212212</td>\n",
       "      <td>7.374538e-05</td>\n",
       "    </tr>\n",
       "    <tr>\n",
       "      <th>213868</th>\n",
       "      <td>21003130211230</td>\n",
       "      <td>8.953491e-07</td>\n",
       "    </tr>\n",
       "    <tr>\n",
       "      <th>213869</th>\n",
       "      <td>21003130221130</td>\n",
       "      <td>6.507240e-05</td>\n",
       "    </tr>\n",
       "    <tr>\n",
       "      <th>213870</th>\n",
       "      <td>21003130213210</td>\n",
       "      <td>4.262007e-05</td>\n",
       "    </tr>\n",
       "  </tbody>\n",
       "</table>\n",
       "<p>213871 rows × 2 columns</p>\n",
       "</div>"
      ],
      "text/plain": [
       "               quadkey  road_density\n",
       "0       12213232222133  1.471658e-05\n",
       "1       12213232220210  0.000000e+00\n",
       "2       12213232221202  9.930837e-05\n",
       "3       12213232222131  6.784457e-05\n",
       "4       12213232220303  6.656877e-05\n",
       "...                ...           ...\n",
       "213866  21003130231002  7.408945e-06\n",
       "213867  21003130212212  7.374538e-05\n",
       "213868  21003130211230  8.953491e-07\n",
       "213869  21003130221130  6.507240e-05\n",
       "213870  21003130213210  4.262007e-05\n",
       "\n",
       "[213871 rows x 2 columns]"
      ]
     },
     "execution_count": 10,
     "metadata": {},
     "output_type": "execute_result"
    }
   ],
   "source": [
    "df = pd.DataFrame(df)\n",
    "df"
   ]
  },
  {
   "cell_type": "code",
   "execution_count": 11,
   "id": "15159dc9-cc84-44ac-ba1d-59428f8c0074",
   "metadata": {},
   "outputs": [],
   "source": [
    "cart = \"C:\\\\Users\\\\Luca\\\\Downloads\\\\RWI\\\\road_dens\"\n",
    "df = df.groupby('quadkey', as_index = False).mean()\n",
    "df.to_csv(cart + '\\\\road_density_pt4.csv', index = False)"
   ]
  },
  {
   "cell_type": "code",
   "execution_count": 11,
   "id": "1f561516-17b5-4c9d-95d3-99c243c1e9cc",
   "metadata": {},
   "outputs": [
    {
     "name": "stdout",
     "output_type": "stream",
     "text": [
      "725\n",
      "750\n",
      "775\n",
      "800\n",
      "825\n",
      "850\n",
      "875\n",
      "900\n",
      "925\n",
      "950\n",
      "975\n",
      "1000\n",
      "1025\n",
      "1050\n",
      "1075\n",
      "1100\n",
      "1125\n",
      "1150\n",
      "1175\n",
      "1200\n",
      "1225\n",
      "356077\n",
      "elapsed time: 21200.815188884735s\n"
     ]
    }
   ],
   "source": [
    "import time\n",
    "import warnings\n",
    "start = time.time()\n",
    "path2 = \"C:\\\\Users\\\\Luca\\\\Downloads\\\\RWI\\\\road_dens\\\\road_density_pt3.csv\"\n",
    "\n",
    "# Scrivere le righe\n",
    "i = 712\n",
    "ox.settings.use_cache = False\n",
    "df = []\n",
    "for parent in lista_uso[712:steps[1]]:\n",
    "    warnings.simplefilter(\"ignore\")\n",
    "    gdf_edges = get_road_data(parent)\n",
    "    #print('geodf ready')\n",
    "    childlist = diz[parent]\n",
    "    \n",
    "    if len(gdf_edges) == 0:\n",
    "        for child in childlist:\n",
    "            df.append({'quadkey': child, 'road_density': 0})\n",
    "    else:\n",
    "        for child in childlist:\n",
    "            dens = dens_from_quadkey(child, gdf_edges)\n",
    "            df.append({'quadkey': child, 'road_density': dens})\n",
    "    i += 1\n",
    "    if i%25 == 0:\n",
    "        print(i)\n",
    "\n",
    "df = pd.DataFrame(df)\n",
    "print(len(df))\n",
    "df.to_csv(path2, index = False)\n",
    "end = time.time()\n",
    "print(f'elapsed time: {end-start}s')"
   ]
  },
  {
   "cell_type": "code",
   "execution_count": 13,
   "id": "36a36aea-77e8-4d35-a1f8-bc7ede2ad682",
   "metadata": {},
   "outputs": [
    {
     "data": {
      "text/plain": [
       "855527"
      ]
     },
     "execution_count": 13,
     "metadata": {},
     "output_type": "execute_result"
    }
   ],
   "source": [
    "usati = []\n",
    "\n",
    "for parent in lista_uso[:steps[1]]:\n",
    "    usati += diz[parent]\n",
    "\n",
    "len(usati)"
   ]
  },
  {
   "cell_type": "code",
   "execution_count": 15,
   "id": "2c42efd7-b80e-4905-a0ed-c9573f792683",
   "metadata": {},
   "outputs": [
    {
     "name": "stdout",
     "output_type": "stream",
     "text": [
      "road_density_pt1.csv: (47375, 2)\n",
      "road_density_pt2.csv: (452556, 2)\n",
      "road_density_pt3.csv: (356077, 2)\n"
     ]
    },
    {
     "data": {
      "text/html": [
       "<div>\n",
       "<style scoped>\n",
       "    .dataframe tbody tr th:only-of-type {\n",
       "        vertical-align: middle;\n",
       "    }\n",
       "\n",
       "    .dataframe tbody tr th {\n",
       "        vertical-align: top;\n",
       "    }\n",
       "\n",
       "    .dataframe thead th {\n",
       "        text-align: right;\n",
       "    }\n",
       "</style>\n",
       "<table border=\"1\" class=\"dataframe\">\n",
       "  <thead>\n",
       "    <tr style=\"text-align: right;\">\n",
       "      <th></th>\n",
       "      <th>quadkey</th>\n",
       "      <th>road_density</th>\n",
       "    </tr>\n",
       "  </thead>\n",
       "  <tbody>\n",
       "    <tr>\n",
       "      <th>0</th>\n",
       "      <td>3311123010003</td>\n",
       "      <td>0.0</td>\n",
       "    </tr>\n",
       "    <tr>\n",
       "      <th>1</th>\n",
       "      <td>3311123000100</td>\n",
       "      <td>0.0</td>\n",
       "    </tr>\n",
       "    <tr>\n",
       "      <th>2</th>\n",
       "      <td>3311123001210</td>\n",
       "      <td>0.0</td>\n",
       "    </tr>\n",
       "    <tr>\n",
       "      <th>3</th>\n",
       "      <td>3311123011311</td>\n",
       "      <td>0.0</td>\n",
       "    </tr>\n",
       "    <tr>\n",
       "      <th>4</th>\n",
       "      <td>3311123021220</td>\n",
       "      <td>0.0</td>\n",
       "    </tr>\n",
       "    <tr>\n",
       "      <th>...</th>\n",
       "      <td>...</td>\n",
       "      <td>...</td>\n",
       "    </tr>\n",
       "    <tr>\n",
       "      <th>856003</th>\n",
       "      <td>3331212110021</td>\n",
       "      <td>0.0</td>\n",
       "    </tr>\n",
       "    <tr>\n",
       "      <th>856004</th>\n",
       "      <td>3331212131311</td>\n",
       "      <td>0.0</td>\n",
       "    </tr>\n",
       "    <tr>\n",
       "      <th>856005</th>\n",
       "      <td>3331212101110</td>\n",
       "      <td>0.0</td>\n",
       "    </tr>\n",
       "    <tr>\n",
       "      <th>856006</th>\n",
       "      <td>3331212103132</td>\n",
       "      <td>0.0</td>\n",
       "    </tr>\n",
       "    <tr>\n",
       "      <th>856007</th>\n",
       "      <td>3331212101122</td>\n",
       "      <td>0.0</td>\n",
       "    </tr>\n",
       "  </tbody>\n",
       "</table>\n",
       "<p>856008 rows × 2 columns</p>\n",
       "</div>"
      ],
      "text/plain": [
       "              quadkey  road_density\n",
       "0       3311123010003           0.0\n",
       "1       3311123000100           0.0\n",
       "2       3311123001210           0.0\n",
       "3       3311123011311           0.0\n",
       "4       3311123021220           0.0\n",
       "...               ...           ...\n",
       "856003  3331212110021           0.0\n",
       "856004  3331212131311           0.0\n",
       "856005  3331212101110           0.0\n",
       "856006  3331212103132           0.0\n",
       "856007  3331212101122           0.0\n",
       "\n",
       "[856008 rows x 2 columns]"
      ]
     },
     "execution_count": 15,
     "metadata": {},
     "output_type": "execute_result"
    }
   ],
   "source": [
    "import os\n",
    "cart = \"C:\\\\Users\\\\Luca\\\\Downloads\\\\RWI\\\\road_dens\"\n",
    "\n",
    "newdf = pd.DataFrame(columns = ['quadkey', 'road_density'])\n",
    "\n",
    "for file in os.listdir(cart):\n",
    "    temp = pd.read_csv(f'{cart}\\\\{file}')\n",
    "\n",
    "    print(f'{file}: {temp.shape}')\n",
    "    newdf = pd.concat([newdf, temp], ignore_index = True)\n",
    "\n",
    "newdf"
   ]
  },
  {
   "cell_type": "code",
   "execution_count": 16,
   "id": "cb4a8c08-c5b3-4721-874c-c5810f893d7d",
   "metadata": {},
   "outputs": [
    {
     "data": {
      "text/html": [
       "<div>\n",
       "<style scoped>\n",
       "    .dataframe tbody tr th:only-of-type {\n",
       "        vertical-align: middle;\n",
       "    }\n",
       "\n",
       "    .dataframe tbody tr th {\n",
       "        vertical-align: top;\n",
       "    }\n",
       "\n",
       "    .dataframe thead th {\n",
       "        text-align: right;\n",
       "    }\n",
       "</style>\n",
       "<table border=\"1\" class=\"dataframe\">\n",
       "  <thead>\n",
       "    <tr style=\"text-align: right;\">\n",
       "      <th></th>\n",
       "      <th>road_density</th>\n",
       "    </tr>\n",
       "  </thead>\n",
       "  <tbody>\n",
       "    <tr>\n",
       "      <th>count</th>\n",
       "      <td>856008.000000</td>\n",
       "    </tr>\n",
       "    <tr>\n",
       "      <th>mean</th>\n",
       "      <td>0.000021</td>\n",
       "    </tr>\n",
       "    <tr>\n",
       "      <th>std</th>\n",
       "      <td>0.000031</td>\n",
       "    </tr>\n",
       "    <tr>\n",
       "      <th>min</th>\n",
       "      <td>0.000000</td>\n",
       "    </tr>\n",
       "    <tr>\n",
       "      <th>25%</th>\n",
       "      <td>0.000000</td>\n",
       "    </tr>\n",
       "    <tr>\n",
       "      <th>50%</th>\n",
       "      <td>0.000009</td>\n",
       "    </tr>\n",
       "    <tr>\n",
       "      <th>75%</th>\n",
       "      <td>0.000035</td>\n",
       "    </tr>\n",
       "    <tr>\n",
       "      <th>max</th>\n",
       "      <td>0.000522</td>\n",
       "    </tr>\n",
       "  </tbody>\n",
       "</table>\n",
       "</div>"
      ],
      "text/plain": [
       "        road_density\n",
       "count  856008.000000\n",
       "mean        0.000021\n",
       "std         0.000031\n",
       "min         0.000000\n",
       "25%         0.000000\n",
       "50%         0.000009\n",
       "75%         0.000035\n",
       "max         0.000522"
      ]
     },
     "execution_count": 16,
     "metadata": {},
     "output_type": "execute_result"
    }
   ],
   "source": [
    "newdf.describe()"
   ]
  },
  {
   "cell_type": "code",
   "execution_count": 20,
   "id": "da47b8e0-d472-410f-ac77-355b46b9fa27",
   "metadata": {},
   "outputs": [],
   "source": [
    "newdf = newdf.astype({'quadkey': 'str'})"
   ]
  },
  {
   "cell_type": "code",
   "execution_count": 23,
   "id": "71decac4-2d0d-463f-a90b-e2bb5aa28ab7",
   "metadata": {},
   "outputs": [],
   "source": [
    "newdf.drop_duplicates(inplace = True)"
   ]
  },
  {
   "cell_type": "code",
   "execution_count": 24,
   "id": "6a7871f5-e1bb-4a5c-90d3-924c09cd679a",
   "metadata": {},
   "outputs": [
    {
     "data": {
      "text/plain": [
       "855527"
      ]
     },
     "execution_count": 24,
     "metadata": {},
     "output_type": "execute_result"
    }
   ],
   "source": [
    "len(newdf[newdf.quadkey.isin(usati)])"
   ]
  },
  {
   "cell_type": "code",
   "execution_count": 25,
   "id": "48ce1b76-5b30-4a7d-ba19-2bbaae7023b8",
   "metadata": {},
   "outputs": [
    {
     "data": {
      "text/plain": [
       "451441"
      ]
     },
     "execution_count": 25,
     "metadata": {},
     "output_type": "execute_result"
    }
   ],
   "source": [
    "len(newdf[newdf.road_density > 0])"
   ]
  },
  {
   "cell_type": "code",
   "execution_count": 27,
   "id": "dc9d6d28-fb60-45ae-9ab4-004838e50e40",
   "metadata": {},
   "outputs": [
    {
     "data": {
      "text/plain": [
       "4.4882091515504944e-08"
      ]
     },
     "execution_count": 27,
     "metadata": {},
     "output_type": "execute_result"
    }
   ],
   "source": [
    "newdf[newdf.road_density > 0].road_density.min()"
   ]
  },
  {
   "cell_type": "code",
   "execution_count": 28,
   "id": "26e95174-d31c-41c8-bec4-2b008d0e46ef",
   "metadata": {},
   "outputs": [
    {
     "data": {
      "text/plain": [
       "quadkey         10223223102333\n",
       "road_density               0.0\n",
       "dtype: object"
      ]
     },
     "execution_count": 28,
     "metadata": {},
     "output_type": "execute_result"
    }
   ],
   "source": [
    "newdf[newdf.road_density > 0].min()"
   ]
  },
  {
   "cell_type": "code",
   "execution_count": 30,
   "id": "50532bde-9a68-4779-a59d-8c48028f2996",
   "metadata": {},
   "outputs": [],
   "source": [
    "newdf.to_csv(f'{cart}\\\\road_density_pt4.csv', index = False)"
   ]
  },
  {
   "cell_type": "markdown",
   "id": "6fb4bacc-b046-4296-9bde-9551c798055c",
   "metadata": {},
   "source": [
    "Below is shown the concatenation of the entire road density data."
   ]
  },
  {
   "cell_type": "code",
   "execution_count": 3,
   "id": "399f4f44-3948-4d19-8872-f4badd1367d4",
   "metadata": {},
   "outputs": [
    {
     "name": "stdout",
     "output_type": "stream",
     "text": [
      "1\n",
      "(549793, 2)\n",
      "(1118397, 2)\n",
      "0\n",
      "(855527, 2)\n",
      "(1973924, 2)\n",
      "2\n",
      "(509783, 2)\n",
      "(2483707, 2)\n",
      "3\n",
      "(444355, 2)\n",
      "(2928062, 2)\n",
      "4\n",
      "(383490, 2)\n",
      "(3311552, 2)\n",
      "5\n",
      "(272483, 2)\n",
      "(3584035, 2)\n",
      "6\n",
      "(147679, 2)\n",
      "(3731714, 2)\n",
      "7\n",
      "(70126, 2)\n",
      "(3801840, 2)\n",
      "8\n",
      "(30173, 2)\n",
      "(3832013, 2)\n",
      "9\n",
      "(7205, 2)\n",
      "(3839218, 2)\n"
     ]
    },
    {
     "data": {
      "text/html": [
       "<div>\n",
       "<style scoped>\n",
       "    .dataframe tbody tr th:only-of-type {\n",
       "        vertical-align: middle;\n",
       "    }\n",
       "\n",
       "    .dataframe tbody tr th {\n",
       "        vertical-align: top;\n",
       "    }\n",
       "\n",
       "    .dataframe thead th {\n",
       "        text-align: right;\n",
       "    }\n",
       "</style>\n",
       "<table border=\"1\" class=\"dataframe\">\n",
       "  <thead>\n",
       "    <tr style=\"text-align: right;\">\n",
       "      <th></th>\n",
       "      <th>quadkey</th>\n",
       "      <th>road_density</th>\n",
       "    </tr>\n",
       "  </thead>\n",
       "  <tbody>\n",
       "    <tr>\n",
       "      <th>0</th>\n",
       "      <td>12220322013131</td>\n",
       "      <td>0.000000</td>\n",
       "    </tr>\n",
       "    <tr>\n",
       "      <th>1</th>\n",
       "      <td>12220322012313</td>\n",
       "      <td>0.000018</td>\n",
       "    </tr>\n",
       "    <tr>\n",
       "      <th>2</th>\n",
       "      <td>12220322032322</td>\n",
       "      <td>0.000014</td>\n",
       "    </tr>\n",
       "    <tr>\n",
       "      <th>3</th>\n",
       "      <td>12220322033312</td>\n",
       "      <td>0.000000</td>\n",
       "    </tr>\n",
       "    <tr>\n",
       "      <th>4</th>\n",
       "      <td>12220322032013</td>\n",
       "      <td>0.000035</td>\n",
       "    </tr>\n",
       "    <tr>\n",
       "      <th>...</th>\n",
       "      <td>...</td>\n",
       "      <td>...</td>\n",
       "    </tr>\n",
       "    <tr>\n",
       "      <th>3839213</th>\n",
       "      <td>12220113313330</td>\n",
       "      <td>0.000000</td>\n",
       "    </tr>\n",
       "    <tr>\n",
       "      <th>3839214</th>\n",
       "      <td>13222110100033</td>\n",
       "      <td>0.000000</td>\n",
       "    </tr>\n",
       "    <tr>\n",
       "      <th>3839215</th>\n",
       "      <td>12220132300200</td>\n",
       "      <td>0.000016</td>\n",
       "    </tr>\n",
       "    <tr>\n",
       "      <th>3839216</th>\n",
       "      <td>3331030333230</td>\n",
       "      <td>0.000000</td>\n",
       "    </tr>\n",
       "    <tr>\n",
       "      <th>3839217</th>\n",
       "      <td>3331102110233</td>\n",
       "      <td>0.000000</td>\n",
       "    </tr>\n",
       "  </tbody>\n",
       "</table>\n",
       "<p>3839218 rows × 2 columns</p>\n",
       "</div>"
      ],
      "text/plain": [
       "                quadkey  road_density\n",
       "0        12220322013131      0.000000\n",
       "1        12220322012313      0.000018\n",
       "2        12220322032322      0.000014\n",
       "3        12220322033312      0.000000\n",
       "4        12220322032013      0.000035\n",
       "...                 ...           ...\n",
       "3839213  12220113313330      0.000000\n",
       "3839214  13222110100033      0.000000\n",
       "3839215  12220132300200      0.000016\n",
       "3839216   3331030333230      0.000000\n",
       "3839217   3331102110233      0.000000\n",
       "\n",
       "[3839218 rows x 2 columns]"
      ]
     },
     "execution_count": 3,
     "metadata": {},
     "output_type": "execute_result"
    }
   ],
   "source": [
    "import pandas as pd\n",
    "import os\n",
    "\n",
    "repo = \"C:\\\\Users\\\\Luca\\\\Downloads\\\\ROAD DENSITY\"\n",
    "\n",
    "df = pd.read_csv(f'{repo}\\\\{os.listdir(repo)[0]}')\n",
    "\n",
    "for file in os.listdir(repo)[1:]:\n",
    "    print(file[-5])\n",
    "    temp = pd.read_csv(f'{repo}\\\\{file}')\n",
    "    print(temp.shape)\n",
    "\n",
    "    df = pd.concat([df, temp], ignore_index = True)\n",
    "    print(df.shape)\n",
    "\n",
    "df"
   ]
  },
  {
   "cell_type": "markdown",
   "id": "4c68acf7-5c14-4282-97a6-5a3f32d57657",
   "metadata": {},
   "source": [
    "The check guarantees that all the quadkeys required for the study are accounted for."
   ]
  },
  {
   "cell_type": "code",
   "execution_count": 4,
   "id": "d3e5836e-1daf-4511-82f1-791c1ccabf1d",
   "metadata": {},
   "outputs": [],
   "source": [
    "with open('quad_paesi2.txt', 'r') as file:\n",
    "    list_quads = file.read()\n",
    "    list_quads = list_quads.split(',')"
   ]
  },
  {
   "cell_type": "code",
   "execution_count": 5,
   "id": "a6bd6dac-1591-4024-b3ef-88d87ad60572",
   "metadata": {},
   "outputs": [],
   "source": [
    "df = df.astype({'quadkey': 'str'})"
   ]
  },
  {
   "cell_type": "code",
   "execution_count": 6,
   "id": "623e433f-e88c-4743-8f2d-ced5e27f9b10",
   "metadata": {},
   "outputs": [
    {
     "data": {
      "text/plain": [
       "3839219"
      ]
     },
     "execution_count": 6,
     "metadata": {},
     "output_type": "execute_result"
    }
   ],
   "source": [
    "len(list_quads)"
   ]
  },
  {
   "cell_type": "code",
   "execution_count": 7,
   "id": "0f486b71-d1f2-4bd4-b908-526ac26ac640",
   "metadata": {},
   "outputs": [
    {
     "data": {
      "text/plain": [
       "3839218"
      ]
     },
     "execution_count": 7,
     "metadata": {},
     "output_type": "execute_result"
    }
   ],
   "source": [
    "len(df[df.quadkey.isin(list_quads)])"
   ]
  },
  {
   "cell_type": "code",
   "execution_count": 8,
   "id": "cba021af-88d1-4c59-b97f-e041883ef580",
   "metadata": {},
   "outputs": [
    {
     "data": {
      "text/plain": [
       "3839218"
      ]
     },
     "execution_count": 8,
     "metadata": {},
     "output_type": "execute_result"
    }
   ],
   "source": [
    "len(df.quadkey.unique())"
   ]
  },
  {
   "cell_type": "code",
   "execution_count": 9,
   "id": "ef215631-7b57-4997-ad5f-d8ad6529d58b",
   "metadata": {},
   "outputs": [
    {
     "data": {
      "text/html": [
       "<div>\n",
       "<style scoped>\n",
       "    .dataframe tbody tr th:only-of-type {\n",
       "        vertical-align: middle;\n",
       "    }\n",
       "\n",
       "    .dataframe tbody tr th {\n",
       "        vertical-align: top;\n",
       "    }\n",
       "\n",
       "    .dataframe thead th {\n",
       "        text-align: right;\n",
       "    }\n",
       "</style>\n",
       "<table border=\"1\" class=\"dataframe\">\n",
       "  <thead>\n",
       "    <tr style=\"text-align: right;\">\n",
       "      <th></th>\n",
       "      <th>road_density</th>\n",
       "    </tr>\n",
       "  </thead>\n",
       "  <tbody>\n",
       "    <tr>\n",
       "      <th>count</th>\n",
       "      <td>3.839218e+06</td>\n",
       "    </tr>\n",
       "    <tr>\n",
       "      <th>mean</th>\n",
       "      <td>2.130730e-05</td>\n",
       "    </tr>\n",
       "    <tr>\n",
       "      <th>std</th>\n",
       "      <td>3.158068e-05</td>\n",
       "    </tr>\n",
       "    <tr>\n",
       "      <th>min</th>\n",
       "      <td>0.000000e+00</td>\n",
       "    </tr>\n",
       "    <tr>\n",
       "      <th>25%</th>\n",
       "      <td>0.000000e+00</td>\n",
       "    </tr>\n",
       "    <tr>\n",
       "      <th>50%</th>\n",
       "      <td>6.705920e-06</td>\n",
       "    </tr>\n",
       "    <tr>\n",
       "      <th>75%</th>\n",
       "      <td>3.431291e-05</td>\n",
       "    </tr>\n",
       "    <tr>\n",
       "      <th>max</th>\n",
       "      <td>6.689970e-04</td>\n",
       "    </tr>\n",
       "  </tbody>\n",
       "</table>\n",
       "</div>"
      ],
      "text/plain": [
       "       road_density\n",
       "count  3.839218e+06\n",
       "mean   2.130730e-05\n",
       "std    3.158068e-05\n",
       "min    0.000000e+00\n",
       "25%    0.000000e+00\n",
       "50%    6.705920e-06\n",
       "75%    3.431291e-05\n",
       "max    6.689970e-04"
      ]
     },
     "execution_count": 9,
     "metadata": {},
     "output_type": "execute_result"
    }
   ],
   "source": [
    "df.describe()"
   ]
  },
  {
   "cell_type": "code",
   "execution_count": 10,
   "id": "2b9412dd-60d0-4162-b902-7423c8c51de3",
   "metadata": {},
   "outputs": [],
   "source": [
    "df.to_csv(\"C:\\\\Users\\\\Luca\\\\Downloads\\\\RWI\\\\road_dens\\\\road_density_quadkey_utili.csv\", index = False)"
   ]
  },
  {
   "cell_type": "code",
   "execution_count": null,
   "id": "2ce30bd9-c279-455f-aaac-f1852226b533",
   "metadata": {},
   "outputs": [],
   "source": []
  }
 ],
 "metadata": {
  "kernelspec": {
   "display_name": "Python 3 (ipykernel)",
   "language": "python",
   "name": "python3"
  },
  "language_info": {
   "codemirror_mode": {
    "name": "ipython",
    "version": 3
   },
   "file_extension": ".py",
   "mimetype": "text/x-python",
   "name": "python",
   "nbconvert_exporter": "python",
   "pygments_lexer": "ipython3",
   "version": "3.10.5"
  }
 },
 "nbformat": 4,
 "nbformat_minor": 5
}

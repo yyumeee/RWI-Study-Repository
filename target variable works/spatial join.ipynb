{
 "cells": [
  {
   "cell_type": "markdown",
   "id": "5ec3119d-aa65-416c-971a-60c9d40f35b6",
   "metadata": {},
   "source": [
    "To ensure the privacy of the respondents, the DHS Survey randomly may scatter the true response location by around 2 km in any direction for urban areas, and 5 km in any direction for rural areas.\n",
    "Due to this, a respondent cluster's true location may not lie within the quadkey 14 tile we would expect it to be and we must take measures to account for it in our calculations.\n",
    "This notebook shows the steps towards definining the spatial join decided in the original study: for urban areas, all covariates are calculated as the average of the tiles forming the 2x2 grid closer to the (alleged) cluster centroid location, whereas for rural areas the grid is 4x4. \n",
    "We limit ourselves to just constructing a dataset of clusters and a list of all quadkeys we need to take values from."
   ]
  },
  {
   "cell_type": "code",
   "execution_count": 1,
   "id": "4a1cb911-ac62-4aec-8dc5-17cea60f9128",
   "metadata": {},
   "outputs": [
    {
     "data": {
      "text/html": [
       "<div>\n",
       "<style scoped>\n",
       "    .dataframe tbody tr th:only-of-type {\n",
       "        vertical-align: middle;\n",
       "    }\n",
       "\n",
       "    .dataframe tbody tr th {\n",
       "        vertical-align: top;\n",
       "    }\n",
       "\n",
       "    .dataframe thead th {\n",
       "        text-align: right;\n",
       "    }\n",
       "</style>\n",
       "<table border=\"1\" class=\"dataframe\">\n",
       "  <thead>\n",
       "    <tr style=\"text-align: right;\">\n",
       "      <th></th>\n",
       "      <th>country_cluster</th>\n",
       "      <th>wealth index</th>\n",
       "      <th>country</th>\n",
       "      <th>DHSCLUST</th>\n",
       "      <th>URBAN_RURA</th>\n",
       "      <th>LATNUM</th>\n",
       "      <th>LONGNUM</th>\n",
       "      <th>ALT</th>\n",
       "    </tr>\n",
       "  </thead>\n",
       "  <tbody>\n",
       "    <tr>\n",
       "      <th>0</th>\n",
       "      <td>AL1</td>\n",
       "      <td>0.07209</td>\n",
       "      <td>AL</td>\n",
       "      <td>1</td>\n",
       "      <td>U</td>\n",
       "      <td>40.710440</td>\n",
       "      <td>19.946651</td>\n",
       "      <td>33.8</td>\n",
       "    </tr>\n",
       "    <tr>\n",
       "      <th>1</th>\n",
       "      <td>AL10</td>\n",
       "      <td>0.05673</td>\n",
       "      <td>AL</td>\n",
       "      <td>10</td>\n",
       "      <td>U</td>\n",
       "      <td>40.703271</td>\n",
       "      <td>19.976494</td>\n",
       "      <td>94.9</td>\n",
       "    </tr>\n",
       "    <tr>\n",
       "      <th>2</th>\n",
       "      <td>AL100</td>\n",
       "      <td>-0.06155</td>\n",
       "      <td>AL</td>\n",
       "      <td>100</td>\n",
       "      <td>R</td>\n",
       "      <td>41.645007</td>\n",
       "      <td>19.925487</td>\n",
       "      <td>276.5</td>\n",
       "    </tr>\n",
       "    <tr>\n",
       "      <th>3</th>\n",
       "      <td>AL101</td>\n",
       "      <td>-0.06966</td>\n",
       "      <td>AL</td>\n",
       "      <td>101</td>\n",
       "      <td>R</td>\n",
       "      <td>41.664977</td>\n",
       "      <td>20.045771</td>\n",
       "      <td>250.1</td>\n",
       "    </tr>\n",
       "    <tr>\n",
       "      <th>4</th>\n",
       "      <td>AL102</td>\n",
       "      <td>-0.08978</td>\n",
       "      <td>AL</td>\n",
       "      <td>102</td>\n",
       "      <td>R</td>\n",
       "      <td>41.529707</td>\n",
       "      <td>20.064258</td>\n",
       "      <td>245.4</td>\n",
       "    </tr>\n",
       "    <tr>\n",
       "      <th>...</th>\n",
       "      <td>...</td>\n",
       "      <td>...</td>\n",
       "      <td>...</td>\n",
       "      <td>...</td>\n",
       "      <td>...</td>\n",
       "      <td>...</td>\n",
       "      <td>...</td>\n",
       "      <td>...</td>\n",
       "    </tr>\n",
       "    <tr>\n",
       "      <th>68179</th>\n",
       "      <td>ZW95</td>\n",
       "      <td>0.79165</td>\n",
       "      <td>ZW</td>\n",
       "      <td>95</td>\n",
       "      <td>U</td>\n",
       "      <td>-18.341095</td>\n",
       "      <td>29.890007</td>\n",
       "      <td>1151.0</td>\n",
       "    </tr>\n",
       "    <tr>\n",
       "      <th>68180</th>\n",
       "      <td>ZW96</td>\n",
       "      <td>1.03499</td>\n",
       "      <td>ZW</td>\n",
       "      <td>96</td>\n",
       "      <td>U</td>\n",
       "      <td>-21.357135</td>\n",
       "      <td>30.645874</td>\n",
       "      <td>504.0</td>\n",
       "    </tr>\n",
       "    <tr>\n",
       "      <th>68181</th>\n",
       "      <td>ZW97</td>\n",
       "      <td>0.88336</td>\n",
       "      <td>ZW</td>\n",
       "      <td>97</td>\n",
       "      <td>U</td>\n",
       "      <td>-19.452031</td>\n",
       "      <td>29.773865</td>\n",
       "      <td>1412.0</td>\n",
       "    </tr>\n",
       "    <tr>\n",
       "      <th>68182</th>\n",
       "      <td>ZW98</td>\n",
       "      <td>0.93091</td>\n",
       "      <td>ZW</td>\n",
       "      <td>98</td>\n",
       "      <td>U</td>\n",
       "      <td>-20.131983</td>\n",
       "      <td>28.513421</td>\n",
       "      <td>1388.0</td>\n",
       "    </tr>\n",
       "    <tr>\n",
       "      <th>68183</th>\n",
       "      <td>ZW99</td>\n",
       "      <td>0.96939</td>\n",
       "      <td>ZW</td>\n",
       "      <td>99</td>\n",
       "      <td>U</td>\n",
       "      <td>-20.940917</td>\n",
       "      <td>29.031395</td>\n",
       "      <td>1009.0</td>\n",
       "    </tr>\n",
       "  </tbody>\n",
       "</table>\n",
       "<p>68184 rows × 8 columns</p>\n",
       "</div>"
      ],
      "text/plain": [
       "      country_cluster  wealth index country  DHSCLUST URBAN_RURA     LATNUM  \\\n",
       "0                 AL1       0.07209      AL         1          U  40.710440   \n",
       "1                AL10       0.05673      AL        10          U  40.703271   \n",
       "2               AL100      -0.06155      AL       100          R  41.645007   \n",
       "3               AL101      -0.06966      AL       101          R  41.664977   \n",
       "4               AL102      -0.08978      AL       102          R  41.529707   \n",
       "...               ...           ...     ...       ...        ...        ...   \n",
       "68179            ZW95       0.79165      ZW        95          U -18.341095   \n",
       "68180            ZW96       1.03499      ZW        96          U -21.357135   \n",
       "68181            ZW97       0.88336      ZW        97          U -19.452031   \n",
       "68182            ZW98       0.93091      ZW        98          U -20.131983   \n",
       "68183            ZW99       0.96939      ZW        99          U -20.940917   \n",
       "\n",
       "         LONGNUM     ALT  \n",
       "0      19.946651    33.8  \n",
       "1      19.976494    94.9  \n",
       "2      19.925487   276.5  \n",
       "3      20.045771   250.1  \n",
       "4      20.064258   245.4  \n",
       "...          ...     ...  \n",
       "68179  29.890007  1151.0  \n",
       "68180  30.645874   504.0  \n",
       "68181  29.773865  1412.0  \n",
       "68182  28.513421  1388.0  \n",
       "68183  29.031395  1009.0  \n",
       "\n",
       "[68184 rows x 8 columns]"
      ]
     },
     "execution_count": 1,
     "metadata": {},
     "output_type": "execute_result"
    }
   ],
   "source": [
    "import pandas as pd\n",
    "\n",
    "train = pd.read_csv('WI_per_clusters.csv')\n",
    "train"
   ]
  },
  {
   "cell_type": "code",
   "execution_count": 2,
   "id": "a3f5ca36-b490-4230-9caa-f109ebda2336",
   "metadata": {},
   "outputs": [
    {
     "data": {
      "text/plain": [
       "(0.3727560718057022, 0.6272439281942978)"
      ]
     },
     "execution_count": 2,
     "metadata": {},
     "output_type": "execute_result"
    }
   ],
   "source": [
    "r, u = train.URBAN_RURA.value_counts()\n",
    "(u/len(train),r/len(train))"
   ]
  },
  {
   "cell_type": "code",
   "execution_count": 3,
   "id": "dacb5e2a-b131-4bb6-8f18-19be73028735",
   "metadata": {},
   "outputs": [
    {
     "data": {
      "text/plain": [
       "country\n",
       "IA    30170\n",
       "CO     4866\n",
       "EG     1836\n",
       "KE     1691\n",
       "NG     1389\n",
       "PH     1247\n",
       "MR     1200\n",
       "HN     1148\n",
       "PE     1132\n",
       "BO     1000\n",
       "JO      970\n",
       "GU      858\n",
       "MW      850\n",
       "ZA      746\n",
       "AL      715\n",
       "UG      696\n",
       "MD      650\n",
       "TZ      628\n",
       "AO      625\n",
       "TD      624\n",
       "GH      618\n",
       "MZ      617\n",
       "SL      576\n",
       "PK      561\n",
       "BJ      555\n",
       "BU      554\n",
       "NM      550\n",
       "ZM      545\n",
       "CI      539\n",
       "CD      536\n",
       "BF      514\n",
       "RW      500\n",
       "NP      476\n",
       "NI      476\n",
       "TL      455\n",
       "HT      450\n",
       "MM      441\n",
       "CM      430\n",
       "GN      401\n",
       "ZW      400\n",
       "MB      400\n",
       "LS      399\n",
       "GA      390\n",
       "TJ      366\n",
       "ML      345\n",
       "TG      330\n",
       "LB      325\n",
       "GY      325\n",
       "KY      316\n",
       "AM      313\n",
       "ET      305\n",
       "GM      280\n",
       "SZ      275\n",
       "KM      252\n",
       "SN      214\n",
       "DR      114\n",
       "Name: count, dtype: int64"
      ]
     },
     "execution_count": 3,
     "metadata": {},
     "output_type": "execute_result"
    }
   ],
   "source": [
    "train.country.value_counts()"
   ]
  },
  {
   "cell_type": "code",
   "execution_count": 4,
   "id": "f8fc733c-025b-416b-ba4a-77fa7e284e1d",
   "metadata": {},
   "outputs": [],
   "source": [
    "tenere = ['country_cluster', 'URBAN_RURA', 'LATNUM', 'LONGNUM']\n",
    "train = train[tenere]"
   ]
  },
  {
   "cell_type": "markdown",
   "id": "b0509ec2-26ad-42d3-9d05-b4f84e135803",
   "metadata": {},
   "source": [
    "Below we describe the process of defining the closer 2x2 grid for the first urban cluster of the dataset.\n",
    "We use pyquadkey2's nearby() function to get a list of all the tiles near the (alleged) cluster's own tile. Then, we use the to_geo() function to retrieve each nearby tile's centroid cooordinates."
   ]
  },
  {
   "cell_type": "code",
   "execution_count": 79,
   "id": "cea7216e-6e59-4232-b3d5-8956e4810383",
   "metadata": {},
   "outputs": [
    {
     "name": "stdout",
     "output_type": "stream",
     "text": [
      "12201110021011 ['12201110021102', '12201110021012', '12201110021011', '12201110021100', '12201110021010', '12201110003233', '12201110003322', '12201110021013', '12201110003232']\n"
     ]
    }
   ],
   "source": [
    "from pyquadkey2 import quadkey\n",
    "x = train.loc[0, 'LONGNUM']\n",
    "y = train.loc[0, 'LATNUM']\n",
    "\n",
    "quad1 = quadkey.from_geo((y,x),14)\n",
    "plausibles = quad1.nearby()\n",
    "\n",
    "print(quad1, plausibles)"
   ]
  },
  {
   "cell_type": "code",
   "execution_count": 80,
   "id": "3ff12414-21f4-4127-840a-23c0b51e3238",
   "metadata": {},
   "outputs": [],
   "source": [
    "from pyquadkey2.quadkey import TileAnchor\n",
    "\n",
    "coord = {}\n",
    "\n",
    "for qu in plausibles:\n",
    "    ye, xe = quadkey.from_str(qu).to_geo(anchor = TileAnchor.ANCHOR_CENTER)\n",
    "    if qu != str(quad1):\n",
    "        coord[qu] = (ye,xe)"
   ]
  },
  {
   "cell_type": "code",
   "execution_count": 81,
   "id": "cb8adcfd-5abd-4770-8a26-4a4dc90f1516",
   "metadata": {},
   "outputs": [
    {
     "data": {
      "text/plain": [
       "(40.7104396765, 19.9466514633)"
      ]
     },
     "execution_count": 81,
     "metadata": {},
     "output_type": "execute_result"
    }
   ],
   "source": [
    "y,x"
   ]
  },
  {
   "cell_type": "code",
   "execution_count": 82,
   "id": "23fc2a84-02d0-46af-8aa6-eb5c6357b335",
   "metadata": {},
   "outputs": [
    {
     "data": {
      "text/plain": [
       "{'12201110021102': (40.688969037624, 19.962158203125),\n",
       " '12201110021012': (40.688969037624, 19.918212890625),\n",
       " '12201110021100': (40.705627938205, 19.962158203125),\n",
       " '12201110021010': (40.705627938205, 19.918212890625),\n",
       " '12201110003233': (40.722282672831, 19.940185546875),\n",
       " '12201110003322': (40.722282672831, 19.962158203125),\n",
       " '12201110021013': (40.688969037624, 19.940185546875),\n",
       " '12201110003232': (40.722282672831, 19.918212890625)}"
      ]
     },
     "execution_count": 82,
     "metadata": {},
     "output_type": "execute_result"
    }
   ],
   "source": [
    "coord"
   ]
  },
  {
   "cell_type": "markdown",
   "id": "754b0fbb-0ab0-46ea-b013-f3590ee03176",
   "metadata": {},
   "source": [
    "It's important to note that we can't just take the three nearest tiles to our cluster's alleged location, since it could generate a 'T' shaped grid as opposed to the square grid we want. We instead see if the point is nearer to its northern or southern tile, and then the same between its eastern or western tile. Picking those two tiles is the same as picking the two nearest tiles, but instead of picking the third closest tile, which would usually be to the opposite end of the nearest tile, thus not guaranteeing a square grid, we take the tile which is moved by 1 both vertically and horizontally (ie: if the two nearest tiles are west and north to the cluster's alleged tile, we will pick the tile that its both 1 north and 1 west to the cluster, thus ensuring we generate a square grid)"
   ]
  },
  {
   "cell_type": "code",
   "execution_count": 83,
   "id": "cb43d839-4511-469e-9112-e07bab3f2398",
   "metadata": {},
   "outputs": [],
   "source": [
    "##capire se devi andare a 'destra' o 'sinistra' e 'sopra' o 'sotto'\n",
    "import math\n",
    "def calc(c1, c2):\n",
    "    dir = -1\n",
    "    if c1 >=c2:\n",
    "        dir = 1\n",
    "    return (abs(c1-c2), dir)\n",
    "\n",
    "sigmax = []\n",
    "sigmay = []\n",
    "point = (y,x)\n",
    "for qu, points in coord.items():\n",
    "    sigmax.append(calc(points[1], point[1]))\n",
    "    sigmay.append(calc(points[0], point[0]))\n",
    "\n",
    "sigmax.sort(key=lambda x: x[0])\n",
    "sigmay.sort(key = lambda x: x[0])"
   ]
  },
  {
   "cell_type": "code",
   "execution_count": 84,
   "id": "ec15a790-5b79-4593-af57-da45f6aa579f",
   "metadata": {},
   "outputs": [
    {
     "data": {
      "text/plain": [
       "((0.006465916425000273, -1), (0.00481173829500392, -1))"
      ]
     },
     "execution_count": 84,
     "metadata": {},
     "output_type": "execute_result"
    }
   ],
   "source": [
    "sigmax[0], sigmay[0]"
   ]
  },
  {
   "cell_type": "code",
   "execution_count": 86,
   "id": "0119382a-0b8e-4f81-9868-3e59890945b0",
   "metadata": {},
   "outputs": [
    {
     "data": {
      "text/plain": [
       "((9099, 6160), 14)"
      ]
     },
     "execution_count": 86,
     "metadata": {},
     "output_type": "execute_result"
    }
   ],
   "source": [
    "q = quad1.to_tile()\n",
    "q"
   ]
  },
  {
   "cell_type": "code",
   "execution_count": 87,
   "id": "101b6e8e-bd80-4799-86bf-9f7b493ae031",
   "metadata": {},
   "outputs": [
    {
     "data": {
      "text/plain": [
       "12201110003232"
      ]
     },
     "execution_count": 87,
     "metadata": {},
     "output_type": "execute_result"
    }
   ],
   "source": [
    "quadkey.from_tile((9098,6159), 14)"
   ]
  },
  {
   "cell_type": "markdown",
   "id": "ed66c4d6-fb56-4d46-be46-5aea511318e9",
   "metadata": {},
   "source": [
    "By using pyquadkey2's to_tile() function, we can now establish the three other tiles and return them as a list."
   ]
  },
  {
   "cell_type": "code",
   "execution_count": 8,
   "id": "994e30cb-ea60-4821-9c68-cd73eba036f4",
   "metadata": {},
   "outputs": [],
   "source": [
    "def trova_vicini(quad, sopra, destra):\n",
    "    (y, x), zoom = quad.to_tile()\n",
    "    yn = y + sopra\n",
    "    xn = x + destra\n",
    "    lista = [quadkey.from_tile((yn,x), zoom), quadkey.from_tile((y,xn),zoom), quadkey.from_tile((yn,xn),zoom)]\n",
    "    return [str(l) for l in lista]"
   ]
  },
  {
   "cell_type": "code",
   "execution_count": 90,
   "id": "ae448350-c1e5-4716-9aff-6cf4ca68a1a5",
   "metadata": {},
   "outputs": [
    {
     "data": {
      "text/plain": [
       "['12201110021010', '12201110003233', '12201110003232']"
      ]
     },
     "execution_count": 90,
     "metadata": {},
     "output_type": "execute_result"
    }
   ],
   "source": [
    "trova_vicini(quad1, sigmax[0][1], sigmay[0][1])"
   ]
  },
  {
   "cell_type": "markdown",
   "id": "c4781d9b-eb92-4c29-9868-7ea31645ba8d",
   "metadata": {},
   "source": [
    "We create a function to automate the process. We want it to return the 4 quadkeys as a string separating each key with a comma."
   ]
  },
  {
   "cell_type": "code",
   "execution_count": 91,
   "id": "4e5aa908-8238-4cee-b48d-11258fff7239",
   "metadata": {},
   "outputs": [],
   "source": [
    "def near(lon, lat, zoom:int = 14):\n",
    "    point = (lon,lat)\n",
    "    quad1 = quadkey.from_geo(point, zoom)\n",
    "    plausibles = quad1.nearby()\n",
    "\n",
    "    coord = {}\n",
    "    for qu in plausibles:\n",
    "        ye, xe = quadkey.from_str(qu).to_geo(anchor = TileAnchor.ANCHOR_CENTER)\n",
    "        if qu != str(quad1):\n",
    "            coord[qu] = (ye,xe)\n",
    "    sigmax = []\n",
    "    sigmay = []\n",
    "        \n",
    "    for qu, points in coord.items():\n",
    "        sigmax.append(calc(points[1], point[1]))\n",
    "        sigmay.append(calc(points[0], point[0]))\n",
    "    \n",
    "    sigmax.sort(key=lambda x: x[0])\n",
    "    sigmay.sort(key = lambda x: x[0])\n",
    "\n",
    "    sopra = sigmay[0][1]\n",
    "    destra = sigmax[0][1]\n",
    "\n",
    "    vicini = trova_vicini(quad1, sopra, destra)\n",
    "\n",
    "    l = [str(quad1)]\n",
    "    l += vicini\n",
    "    \n",
    "    return ','.join(l)"
   ]
  },
  {
   "cell_type": "code",
   "execution_count": 58,
   "id": "e1c821cb-0218-4300-bef7-d716067c6ee5",
   "metadata": {},
   "outputs": [
    {
     "data": {
      "text/plain": [
       "'12201110021011,12201110021010,12201110003233,12201110003232'"
      ]
     },
     "execution_count": 58,
     "metadata": {},
     "output_type": "execute_result"
    }
   ],
   "source": [
    "near(y,x)"
   ]
  },
  {
   "cell_type": "code",
   "execution_count": 92,
   "id": "9808c9ab-e5f2-468f-ac36-bcfa316ba1a2",
   "metadata": {},
   "outputs": [
    {
     "data": {
      "text/plain": [
       "'12201110021011,12201110021010,12201110003233,12201110003232'"
      ]
     },
     "execution_count": 92,
     "metadata": {},
     "output_type": "execute_result"
    }
   ],
   "source": [
    "near(y,x)"
   ]
  },
  {
   "cell_type": "code",
   "execution_count": 93,
   "id": "e1c34399-2382-4a5b-8e48-0b808e17e4f7",
   "metadata": {},
   "outputs": [
    {
     "name": "stdout",
     "output_type": "stream",
     "text": [
      "12231102133322,12231102133323,12231102311100,12231102311101\n",
      "elapsed time: 0.0s\n"
     ]
    }
   ],
   "source": [
    "import time\n",
    "start = time.time()\n",
    "yk = train.loc[1, 'LONGNUM']\n",
    "xk = train.loc[1, 'LATNUM']\n",
    "print(near(yk, xk))\n",
    "end = time.time()\n",
    "print(f'elapsed time: {end-start}s')"
   ]
  },
  {
   "cell_type": "markdown",
   "id": "f9f9147b-1011-4be2-a3c8-bd0d383f645a",
   "metadata": {},
   "source": [
    "We apply the function to all the urban areas."
   ]
  },
  {
   "cell_type": "code",
   "execution_count": 94,
   "id": "dd2f80bb-28c6-427d-8fbd-9b5305019d22",
   "metadata": {},
   "outputs": [
    {
     "name": "stdout",
     "output_type": "stream",
     "text": [
      "25416\n",
      "elapsed time: 5.8580591678619385\n"
     ]
    },
    {
     "name": "stderr",
     "output_type": "stream",
     "text": [
      "C:\\Users\\Luca\\AppData\\Local\\Temp\\ipykernel_17744\\2302885750.py:5: SettingWithCopyWarning: \n",
      "A value is trying to be set on a copy of a slice from a DataFrame.\n",
      "Try using .loc[row_indexer,col_indexer] = value instead\n",
      "\n",
      "See the caveats in the documentation: https://pandas.pydata.org/pandas-docs/stable/user_guide/indexing.html#returning-a-view-versus-a-copy\n",
      "  urban['nearests'] = urban.apply(lambda x: near(x['LATNUM'], x['LONGNUM']), axis = 1)\n"
     ]
    }
   ],
   "source": [
    "import time\n",
    "start = time.time()\n",
    "urban = train.loc[train.URBAN_RURA == 'U', :]\n",
    "print(len(urban))\n",
    "urban['nearests'] = urban.apply(lambda x: near(x['LATNUM'], x['LONGNUM']), axis = 1)\n",
    "end = time.time()\n",
    "print(f'elapsed time: {end - start}')"
   ]
  },
  {
   "cell_type": "code",
   "execution_count": 95,
   "id": "82f1d61b-4df6-4a30-a56c-6201699bd72f",
   "metadata": {},
   "outputs": [
    {
     "data": {
      "text/html": [
       "<div>\n",
       "<style scoped>\n",
       "    .dataframe tbody tr th:only-of-type {\n",
       "        vertical-align: middle;\n",
       "    }\n",
       "\n",
       "    .dataframe tbody tr th {\n",
       "        vertical-align: top;\n",
       "    }\n",
       "\n",
       "    .dataframe thead th {\n",
       "        text-align: right;\n",
       "    }\n",
       "</style>\n",
       "<table border=\"1\" class=\"dataframe\">\n",
       "  <thead>\n",
       "    <tr style=\"text-align: right;\">\n",
       "      <th></th>\n",
       "      <th>country_cluster</th>\n",
       "      <th>URBAN_RURA</th>\n",
       "      <th>LATNUM</th>\n",
       "      <th>LONGNUM</th>\n",
       "      <th>nearests</th>\n",
       "    </tr>\n",
       "  </thead>\n",
       "  <tbody>\n",
       "    <tr>\n",
       "      <th>0</th>\n",
       "      <td>AL1</td>\n",
       "      <td>U</td>\n",
       "      <td>40.710440</td>\n",
       "      <td>19.946651</td>\n",
       "      <td>12201110021011,12201110021010,12201110003233,1...</td>\n",
       "    </tr>\n",
       "    <tr>\n",
       "      <th>1</th>\n",
       "      <td>AL10</td>\n",
       "      <td>U</td>\n",
       "      <td>40.703271</td>\n",
       "      <td>19.976494</td>\n",
       "      <td>12201110021101,12201110021110,12201110021103,1...</td>\n",
       "    </tr>\n",
       "    <tr>\n",
       "      <th>12</th>\n",
       "      <td>AL11</td>\n",
       "      <td>U</td>\n",
       "      <td>40.689990</td>\n",
       "      <td>19.975658</td>\n",
       "      <td>12201110021103,12201110021102,12201110021121,1...</td>\n",
       "    </tr>\n",
       "    <tr>\n",
       "      <th>15</th>\n",
       "      <td>AL112</td>\n",
       "      <td>U</td>\n",
       "      <td>41.323535</td>\n",
       "      <td>19.468450</td>\n",
       "      <td>12023323312132,12023323312123,12023323312310,1...</td>\n",
       "    </tr>\n",
       "    <tr>\n",
       "      <th>16</th>\n",
       "      <td>AL113</td>\n",
       "      <td>U</td>\n",
       "      <td>41.326573</td>\n",
       "      <td>19.432670</td>\n",
       "      <td>12023323312122,12023323312033,12023323312300,1...</td>\n",
       "    </tr>\n",
       "    <tr>\n",
       "      <th>...</th>\n",
       "      <td>...</td>\n",
       "      <td>...</td>\n",
       "      <td>...</td>\n",
       "      <td>...</td>\n",
       "      <td>...</td>\n",
       "    </tr>\n",
       "    <tr>\n",
       "      <th>68179</th>\n",
       "      <td>ZW95</td>\n",
       "      <td>U</td>\n",
       "      <td>-18.341095</td>\n",
       "      <td>29.890007</td>\n",
       "      <td>30012303030002,30012303021113,30012303030020,3...</td>\n",
       "    </tr>\n",
       "    <tr>\n",
       "      <th>68180</th>\n",
       "      <td>ZW96</td>\n",
       "      <td>U</td>\n",
       "      <td>-21.357135</td>\n",
       "      <td>30.645874</td>\n",
       "      <td>30012323310032,30012323310023,30012323310030,3...</td>\n",
       "    </tr>\n",
       "    <tr>\n",
       "      <th>68181</th>\n",
       "      <td>ZW97</td>\n",
       "      <td>U</td>\n",
       "      <td>-19.452031</td>\n",
       "      <td>29.773865</td>\n",
       "      <td>30012321001231,30012321001320,30012321001233,3...</td>\n",
       "    </tr>\n",
       "    <tr>\n",
       "      <th>68182</th>\n",
       "      <td>ZW98</td>\n",
       "      <td>U</td>\n",
       "      <td>-20.131983</td>\n",
       "      <td>28.513421</td>\n",
       "      <td>30012320210223,30012320210232,30012320210221,3...</td>\n",
       "    </tr>\n",
       "    <tr>\n",
       "      <th>68183</th>\n",
       "      <td>ZW99</td>\n",
       "      <td>U</td>\n",
       "      <td>-20.940917</td>\n",
       "      <td>29.031395</td>\n",
       "      <td>30012322103223,30012322103232,30012322121001,3...</td>\n",
       "    </tr>\n",
       "  </tbody>\n",
       "</table>\n",
       "<p>25416 rows × 5 columns</p>\n",
       "</div>"
      ],
      "text/plain": [
       "      country_cluster URBAN_RURA     LATNUM    LONGNUM  \\\n",
       "0                 AL1          U  40.710440  19.946651   \n",
       "1                AL10          U  40.703271  19.976494   \n",
       "12               AL11          U  40.689990  19.975658   \n",
       "15              AL112          U  41.323535  19.468450   \n",
       "16              AL113          U  41.326573  19.432670   \n",
       "...               ...        ...        ...        ...   \n",
       "68179            ZW95          U -18.341095  29.890007   \n",
       "68180            ZW96          U -21.357135  30.645874   \n",
       "68181            ZW97          U -19.452031  29.773865   \n",
       "68182            ZW98          U -20.131983  28.513421   \n",
       "68183            ZW99          U -20.940917  29.031395   \n",
       "\n",
       "                                                nearests  \n",
       "0      12201110021011,12201110021010,12201110003233,1...  \n",
       "1      12201110021101,12201110021110,12201110021103,1...  \n",
       "12     12201110021103,12201110021102,12201110021121,1...  \n",
       "15     12023323312132,12023323312123,12023323312310,1...  \n",
       "16     12023323312122,12023323312033,12023323312300,1...  \n",
       "...                                                  ...  \n",
       "68179  30012303030002,30012303021113,30012303030020,3...  \n",
       "68180  30012323310032,30012323310023,30012323310030,3...  \n",
       "68181  30012321001231,30012321001320,30012321001233,3...  \n",
       "68182  30012320210223,30012320210232,30012320210221,3...  \n",
       "68183  30012322103223,30012322103232,30012322121001,3...  \n",
       "\n",
       "[25416 rows x 5 columns]"
      ]
     },
     "execution_count": 95,
     "metadata": {},
     "output_type": "execute_result"
    }
   ],
   "source": [
    "urban"
   ]
  },
  {
   "cell_type": "code",
   "execution_count": 96,
   "id": "d169bb47-57ba-4925-af75-1bc6e0cb3b78",
   "metadata": {},
   "outputs": [
    {
     "name": "stdout",
     "output_type": "stream",
     "text": [
      "25416\n",
      "25416\n"
     ]
    },
    {
     "name": "stderr",
     "output_type": "stream",
     "text": [
      "C:\\Users\\Luca\\AppData\\Local\\Temp\\ipykernel_17744\\3439752568.py:3: SettingWithCopyWarning: \n",
      "A value is trying to be set on a copy of a slice from a DataFrame\n",
      "\n",
      "See the caveats in the documentation: https://pandas.pydata.org/pandas-docs/stable/user_guide/indexing.html#returning-a-view-versus-a-copy\n",
      "  temp.drop_duplicates(inplace = True)\n"
     ]
    }
   ],
   "source": [
    "temp = urban[['country_cluster', 'LONGNUM', 'LATNUM', 'nearests']]\n",
    "print(len(temp))\n",
    "temp.drop_duplicates(inplace = True)\n",
    "print(len(temp))\n",
    "temp.to_csv(\"C:\\\\Users\\\\Luca\\\\Downloads\\\\RWI\\\\spatial_join_urban.csv\", index = False)"
   ]
  },
  {
   "cell_type": "markdown",
   "id": "d41f51cc-0b9a-43f7-89d7-e6d6535a8610",
   "metadata": {},
   "source": [
    "The rural areas need a wider range of quadkey tiles to choose from. We can get it by using the nearby() function at an higher distance (this time, it will return the 24 tiles that are at most 2 tiles away) and repeat the same steps. The 'direction' problem now is how to expand the 3x3 grid (which would be guaranteed by taking the 8 closest tiles), but is easily done by seeing in which direction does the ninth-most closest longitude (latitude) tile is (its the same as saying the third different longitude/latitude distance, as there are 4 tiles that have the same latitude/longitude distance for each direction)."
   ]
  },
  {
   "cell_type": "code",
   "execution_count": 9,
   "id": "1ccad3e6-1009-4f00-906a-339ec98def88",
   "metadata": {},
   "outputs": [
    {
     "data": {
      "text/html": [
       "<div>\n",
       "<style scoped>\n",
       "    .dataframe tbody tr th:only-of-type {\n",
       "        vertical-align: middle;\n",
       "    }\n",
       "\n",
       "    .dataframe tbody tr th {\n",
       "        vertical-align: top;\n",
       "    }\n",
       "\n",
       "    .dataframe thead th {\n",
       "        text-align: right;\n",
       "    }\n",
       "</style>\n",
       "<table border=\"1\" class=\"dataframe\">\n",
       "  <thead>\n",
       "    <tr style=\"text-align: right;\">\n",
       "      <th></th>\n",
       "      <th>index</th>\n",
       "      <th>country_cluster</th>\n",
       "      <th>URBAN_RURA</th>\n",
       "      <th>LATNUM</th>\n",
       "      <th>LONGNUM</th>\n",
       "    </tr>\n",
       "  </thead>\n",
       "  <tbody>\n",
       "    <tr>\n",
       "      <th>0</th>\n",
       "      <td>2</td>\n",
       "      <td>AL100</td>\n",
       "      <td>R</td>\n",
       "      <td>41.645007</td>\n",
       "      <td>19.925487</td>\n",
       "    </tr>\n",
       "    <tr>\n",
       "      <th>1</th>\n",
       "      <td>3</td>\n",
       "      <td>AL101</td>\n",
       "      <td>R</td>\n",
       "      <td>41.664977</td>\n",
       "      <td>20.045771</td>\n",
       "    </tr>\n",
       "    <tr>\n",
       "      <th>2</th>\n",
       "      <td>4</td>\n",
       "      <td>AL102</td>\n",
       "      <td>R</td>\n",
       "      <td>41.529707</td>\n",
       "      <td>20.064258</td>\n",
       "    </tr>\n",
       "    <tr>\n",
       "      <th>3</th>\n",
       "      <td>5</td>\n",
       "      <td>AL103</td>\n",
       "      <td>R</td>\n",
       "      <td>41.463585</td>\n",
       "      <td>20.091683</td>\n",
       "    </tr>\n",
       "    <tr>\n",
       "      <th>4</th>\n",
       "      <td>6</td>\n",
       "      <td>AL104</td>\n",
       "      <td>R</td>\n",
       "      <td>41.537868</td>\n",
       "      <td>20.127118</td>\n",
       "    </tr>\n",
       "    <tr>\n",
       "      <th>...</th>\n",
       "      <td>...</td>\n",
       "      <td>...</td>\n",
       "      <td>...</td>\n",
       "      <td>...</td>\n",
       "      <td>...</td>\n",
       "    </tr>\n",
       "    <tr>\n",
       "      <th>42763</th>\n",
       "      <td>68172</td>\n",
       "      <td>ZW89</td>\n",
       "      <td>R</td>\n",
       "      <td>-18.251363</td>\n",
       "      <td>31.264714</td>\n",
       "    </tr>\n",
       "    <tr>\n",
       "      <th>42764</th>\n",
       "      <td>68174</td>\n",
       "      <td>ZW90</td>\n",
       "      <td>R</td>\n",
       "      <td>-17.252286</td>\n",
       "      <td>30.914214</td>\n",
       "    </tr>\n",
       "    <tr>\n",
       "      <th>42765</th>\n",
       "      <td>68176</td>\n",
       "      <td>ZW92</td>\n",
       "      <td>R</td>\n",
       "      <td>-17.935135</td>\n",
       "      <td>31.118093</td>\n",
       "    </tr>\n",
       "    <tr>\n",
       "      <th>42766</th>\n",
       "      <td>68177</td>\n",
       "      <td>ZW93</td>\n",
       "      <td>R</td>\n",
       "      <td>-17.664349</td>\n",
       "      <td>31.168450</td>\n",
       "    </tr>\n",
       "    <tr>\n",
       "      <th>42767</th>\n",
       "      <td>68178</td>\n",
       "      <td>ZW94</td>\n",
       "      <td>R</td>\n",
       "      <td>-19.643233</td>\n",
       "      <td>27.741884</td>\n",
       "    </tr>\n",
       "  </tbody>\n",
       "</table>\n",
       "<p>42768 rows × 5 columns</p>\n",
       "</div>"
      ],
      "text/plain": [
       "       index country_cluster URBAN_RURA     LATNUM    LONGNUM\n",
       "0          2           AL100          R  41.645007  19.925487\n",
       "1          3           AL101          R  41.664977  20.045771\n",
       "2          4           AL102          R  41.529707  20.064258\n",
       "3          5           AL103          R  41.463585  20.091683\n",
       "4          6           AL104          R  41.537868  20.127118\n",
       "...      ...             ...        ...        ...        ...\n",
       "42763  68172            ZW89          R -18.251363  31.264714\n",
       "42764  68174            ZW90          R -17.252286  30.914214\n",
       "42765  68176            ZW92          R -17.935135  31.118093\n",
       "42766  68177            ZW93          R -17.664349  31.168450\n",
       "42767  68178            ZW94          R -19.643233  27.741884\n",
       "\n",
       "[42768 rows x 5 columns]"
      ]
     },
     "execution_count": 9,
     "metadata": {},
     "output_type": "execute_result"
    }
   ],
   "source": [
    "rural = train.loc[train.URBAN_RURA == 'R', :].reset_index()\n",
    "rural"
   ]
  },
  {
   "cell_type": "code",
   "execution_count": 11,
   "id": "3a21a0e0-1759-44a5-bd18-08cedadec931",
   "metadata": {},
   "outputs": [
    {
     "data": {
      "text/plain": [
       "(12023332021232,\n",
       " ['12023332021223',\n",
       "  '12023332021320',\n",
       "  '12023332023102',\n",
       "  '12023332021202',\n",
       "  '12023332023000',\n",
       "  '12023332021212',\n",
       "  '12023332023010',\n",
       "  '12023332021233',\n",
       "  '12023332021221',\n",
       "  '12023332021302',\n",
       "  '12023332023003',\n",
       "  '12023332023100',\n",
       "  '12023332021232',\n",
       "  '12023332021222',\n",
       "  '12023332021231',\n",
       "  '12023332023013',\n",
       "  '12023332021203',\n",
       "  '12023332023001',\n",
       "  '12023332021322',\n",
       "  '12023332021220',\n",
       "  '12023332021213',\n",
       "  '12023332023002',\n",
       "  '12023332021230',\n",
       "  '12023332023011',\n",
       "  '12023332023012'])"
      ]
     },
     "execution_count": 11,
     "metadata": {},
     "output_type": "execute_result"
    }
   ],
   "source": [
    "from pyquadkey2 import quadkey\n",
    "\n",
    "y = rural.loc[0, 'LATNUM']\n",
    "x = rural.loc[0, 'LONGNUM']\n",
    "\n",
    "quad1 = quadkey.from_geo((y,x), 14)\n",
    "plausibles = quad1.nearby(n = 2)\n",
    "quad1, plausibles"
   ]
  },
  {
   "cell_type": "code",
   "execution_count": 13,
   "id": "e832dc61-82eb-47e7-9bee-a7ac41039e94",
   "metadata": {},
   "outputs": [
    {
     "data": {
      "text/plain": [
       "{'12023332021223': (41.648288312595, 19.896240234375),\n",
       " '12023332021320': (41.664705030092, 19.962158203125),\n",
       " '12023332023102': (41.615442324681, 19.962158203125),\n",
       " '12023332021202': (41.681117562906, 19.874267578125),\n",
       " '12023332023000': (41.631867410697, 19.874267578125),\n",
       " '12023332021212': (41.681117562906, 19.918212890625),\n",
       " '12023332023010': (41.631867410697, 19.918212890625),\n",
       " '12023332021233': (41.648288312595, 19.940185546875),\n",
       " '12023332021221': (41.664705030092, 19.896240234375),\n",
       " '12023332021302': (41.681117562906, 19.962158203125),\n",
       " '12023332023003': (41.615442324681, 19.896240234375),\n",
       " '12023332023100': (41.631867410697, 19.962158203125),\n",
       " '12023332021222': (41.648288312595, 19.874267578125),\n",
       " '12023332021231': (41.664705030092, 19.940185546875),\n",
       " '12023332023013': (41.615442324681, 19.940185546875),\n",
       " '12023332021203': (41.681117562906, 19.896240234375),\n",
       " '12023332023001': (41.631867410697, 19.896240234375),\n",
       " '12023332021322': (41.648288312595, 19.962158203125),\n",
       " '12023332021220': (41.664705030092, 19.874267578125),\n",
       " '12023332021213': (41.681117562906, 19.940185546875),\n",
       " '12023332023002': (41.615442324681, 19.874267578125),\n",
       " '12023332021230': (41.664705030092, 19.918212890625),\n",
       " '12023332023011': (41.631867410697, 19.940185546875),\n",
       " '12023332023012': (41.615442324681, 19.918212890625)}"
      ]
     },
     "execution_count": 13,
     "metadata": {},
     "output_type": "execute_result"
    }
   ],
   "source": [
    "from pyquadkey2.quadkey import TileAnchor\n",
    "coord = {}\n",
    "\n",
    "for qu in plausibles:\n",
    "    ye, xe = quadkey.from_str(qu).to_geo(anchor = TileAnchor.ANCHOR_CENTER)\n",
    "    if qu != str(quad1):\n",
    "        coord[qu] = (ye,xe)\n",
    "coord"
   ]
  },
  {
   "cell_type": "code",
   "execution_count": 15,
   "id": "547dcc34-e058-4003-9aec-23b4ad538da4",
   "metadata": {},
   "outputs": [
    {
     "data": {
      "text/plain": [
       "([(0.007274473275000304, -1),\n",
       "  (0.007274473275000304, -1),\n",
       "  (0.007274473275000304, -1),\n",
       "  (0.007274473275000304, -1),\n",
       "  (0.014698182974999696, 1),\n",
       "  (0.014698182974999696, 1),\n",
       "  (0.014698182974999696, 1),\n",
       "  (0.014698182974999696, 1),\n",
       "  (0.014698182974999696, 1),\n",
       "  (0.029247129525000304, -1)],\n",
       " [(0.0032815961950021233, 1),\n",
       "  (0.0032815961950021233, 1),\n",
       "  (0.0032815961950021233, 1),\n",
       "  (0.0032815961950021233, 1),\n",
       "  (0.013139305702999593, -1),\n",
       "  (0.013139305702999593, -1),\n",
       "  (0.013139305702999593, -1),\n",
       "  (0.013139305702999593, -1),\n",
       "  (0.013139305702999593, -1),\n",
       "  (0.01969831369200392, 1)])"
      ]
     },
     "execution_count": 15,
     "metadata": {},
     "output_type": "execute_result"
    }
   ],
   "source": [
    "##ora si decide in quale direzione ci sono due tasselli invece che uno\n",
    "import math\n",
    "def calc(c1, c2):\n",
    "    dir = -1\n",
    "    if c1 >=c2:\n",
    "        dir = 1\n",
    "    return (abs(c1-c2), dir)\n",
    "\n",
    "\n",
    "sigmax = []\n",
    "sigmay = []\n",
    "point = (y,x)\n",
    "for qu, points in coord.items():\n",
    "    sigmax.append(calc(points[1], point[1]))\n",
    "    sigmay.append(calc(points[0], point[0]))\n",
    "\n",
    "sigmax.sort(key=lambda x: x[0])\n",
    "sigmay.sort(key = lambda x: x[0])\n",
    "\n",
    "sigmax[:10], sigmay[:10]"
   ]
  },
  {
   "cell_type": "code",
   "execution_count": 16,
   "id": "bde6ac6c-9219-4ac0-8c2a-9ba959f4908a",
   "metadata": {},
   "outputs": [
    {
     "data": {
      "text/plain": [
       "(1, -1)"
      ]
     },
     "execution_count": 16,
     "metadata": {},
     "output_type": "execute_result"
    }
   ],
   "source": [
    "destra = sigmax[9][1]\n",
    "sopra = sigmay[9][1]\n",
    "\n",
    "sopra,destra"
   ]
  },
  {
   "cell_type": "code",
   "execution_count": 17,
   "id": "e46732a5-911c-46c9-90ca-aacfe0f97346",
   "metadata": {},
   "outputs": [],
   "source": [
    "import numpy as np\n",
    "def trova_vicini_rur(quad, sopra, destra):\n",
    "    (y, x), zoom = quad.to_tile()\n",
    "    yn1 = y + 1\n",
    "    xn1 = x + 1\n",
    "    yn2 = y - 1\n",
    "    xn2 = x - 1\n",
    "    yn3 = y + 2*sopra\n",
    "    xn3 = x + 2*destra\n",
    "\n",
    "    yl = [y, yn1, yn2, yn3]\n",
    "    xl = [x, xn1, xn2, xn3]\n",
    "\n",
    "    yl,xl = np.meshgrid(yl, xl)\n",
    "    yl = yl.flatten()\n",
    "    xl = xl.flatten()\n",
    "\n",
    "    lista = []\n",
    "    i = 0\n",
    "    for vert in yl:\n",
    "        p = (vert, xl[i])\n",
    "        lista.append(quadkey.from_tile(p, zoom))\n",
    "        i += 1\n",
    "    \n",
    "    return [str(l) for l in lista]"
   ]
  },
  {
   "cell_type": "code",
   "execution_count": 18,
   "id": "c8f05273-954d-4176-9326-9eae2b633735",
   "metadata": {},
   "outputs": [
    {
     "data": {
      "text/plain": [
       "['12023332021232',\n",
       " '12023332021233',\n",
       " '12023332021223',\n",
       " '12023332021322',\n",
       " '12023332023010',\n",
       " '12023332023011',\n",
       " '12023332023001',\n",
       " '12023332023100',\n",
       " '12023332021230',\n",
       " '12023332021231',\n",
       " '12023332021221',\n",
       " '12023332021320',\n",
       " '12023332021212',\n",
       " '12023332021213',\n",
       " '12023332021203',\n",
       " '12023332021302']"
      ]
     },
     "execution_count": 18,
     "metadata": {},
     "output_type": "execute_result"
    }
   ],
   "source": [
    "trova_vicini_rur(quad1, sopra, destra)"
   ]
  },
  {
   "cell_type": "markdown",
   "id": "0aee91f5-f3ff-4bbc-8289-253f3bac5af7",
   "metadata": {},
   "source": [
    "The rural areas join is just a slightly more complicated function of the urban areas one."
   ]
  },
  {
   "cell_type": "code",
   "execution_count": 19,
   "id": "0284dc26-6d96-430d-ba54-5b6a0edc76c1",
   "metadata": {},
   "outputs": [],
   "source": [
    "def near_rur(lon, lat, zoom:int = 14):\n",
    "    point = (lon,lat)\n",
    "    quad1 = quadkey.from_geo(point, zoom)\n",
    "    plausibles = quad1.nearby(n = 2)\n",
    "\n",
    "    coord = {}\n",
    "    for qu in plausibles:\n",
    "        ye, xe = quadkey.from_str(qu).to_geo(anchor = TileAnchor.ANCHOR_CENTER)\n",
    "        if qu != str(quad1):\n",
    "            coord[qu] = (ye,xe)\n",
    "    sigmax = []\n",
    "    sigmay = []\n",
    "        \n",
    "    for qu, points in coord.items():\n",
    "        sigmax.append(calc(points[1], point[1]))\n",
    "        sigmay.append(calc(points[0], point[0]))\n",
    "    \n",
    "    sigmax.sort(key=lambda x: x[0])\n",
    "    sigmay.sort(key = lambda x: x[0])\n",
    "\n",
    "    sopra = sigmay[9][1]\n",
    "    destra = sigmax[9][1]\n",
    "\n",
    "    vicini = trova_vicini_rur(quad1, sopra, destra)\n",
    "    \n",
    "    return ','.join(vicini)"
   ]
  },
  {
   "cell_type": "code",
   "execution_count": 20,
   "id": "52eaf6d3-c936-447f-9115-f181cddfd7e9",
   "metadata": {},
   "outputs": [
    {
     "data": {
      "text/plain": [
       "'12023332021232,12023332021233,12023332021223,12023332021322,12023332023010,12023332023011,12023332023001,12023332023100,12023332021230,12023332021231,12023332021221,12023332021320,12023332021212,12023332021213,12023332021203,12023332021302'"
      ]
     },
     "execution_count": 20,
     "metadata": {},
     "output_type": "execute_result"
    }
   ],
   "source": [
    "near_rur(y,x)"
   ]
  },
  {
   "cell_type": "code",
   "execution_count": 22,
   "id": "8db16e6f-1686-4fab-9c09-b15044020127",
   "metadata": {},
   "outputs": [
    {
     "name": "stdout",
     "output_type": "stream",
     "text": [
      "42768\n",
      "elapsed time: 31.46090316772461\n"
     ]
    }
   ],
   "source": [
    "import time\n",
    "start = time.time()\n",
    "print(len(rural))\n",
    "rural['nearests'] = rural.apply(lambda x: near_rur(x['LATNUM'], x['LONGNUM']), axis = 1)\n",
    "end = time.time()\n",
    "print(f'elapsed time: {end - start}')"
   ]
  },
  {
   "cell_type": "code",
   "execution_count": 24,
   "id": "d008983f-1801-40a1-87ea-f3504bb2e5c1",
   "metadata": {},
   "outputs": [],
   "source": [
    "rural.drop('index', axis = 1, inplace = True)"
   ]
  },
  {
   "cell_type": "code",
   "execution_count": 25,
   "id": "548957cd-405c-44b2-a17c-3bf479f5da3d",
   "metadata": {},
   "outputs": [
    {
     "data": {
      "text/html": [
       "<div>\n",
       "<style scoped>\n",
       "    .dataframe tbody tr th:only-of-type {\n",
       "        vertical-align: middle;\n",
       "    }\n",
       "\n",
       "    .dataframe tbody tr th {\n",
       "        vertical-align: top;\n",
       "    }\n",
       "\n",
       "    .dataframe thead th {\n",
       "        text-align: right;\n",
       "    }\n",
       "</style>\n",
       "<table border=\"1\" class=\"dataframe\">\n",
       "  <thead>\n",
       "    <tr style=\"text-align: right;\">\n",
       "      <th></th>\n",
       "      <th>country_cluster</th>\n",
       "      <th>URBAN_RURA</th>\n",
       "      <th>LATNUM</th>\n",
       "      <th>LONGNUM</th>\n",
       "      <th>nearests</th>\n",
       "    </tr>\n",
       "  </thead>\n",
       "  <tbody>\n",
       "    <tr>\n",
       "      <th>0</th>\n",
       "      <td>AL100</td>\n",
       "      <td>R</td>\n",
       "      <td>41.645007</td>\n",
       "      <td>19.925487</td>\n",
       "      <td>12023332021232,12023332021233,12023332021223,1...</td>\n",
       "    </tr>\n",
       "    <tr>\n",
       "      <th>1</th>\n",
       "      <td>AL101</td>\n",
       "      <td>R</td>\n",
       "      <td>41.664977</td>\n",
       "      <td>20.045771</td>\n",
       "      <td>12023332030220,12023332030221,12023332021331,1...</td>\n",
       "    </tr>\n",
       "    <tr>\n",
       "      <th>2</th>\n",
       "      <td>AL102</td>\n",
       "      <td>R</td>\n",
       "      <td>41.529707</td>\n",
       "      <td>20.064258</td>\n",
       "      <td>12023332032221,12023332032230,12023332032220,1...</td>\n",
       "    </tr>\n",
       "    <tr>\n",
       "      <th>3</th>\n",
       "      <td>AL103</td>\n",
       "      <td>R</td>\n",
       "      <td>41.463585</td>\n",
       "      <td>20.091683</td>\n",
       "      <td>12023332210030,12023332210031,12023332210021,1...</td>\n",
       "    </tr>\n",
       "    <tr>\n",
       "      <th>4</th>\n",
       "      <td>AL104</td>\n",
       "      <td>R</td>\n",
       "      <td>41.537868</td>\n",
       "      <td>20.127118</td>\n",
       "      <td>12023332032320,12023332032321,12023332032231,1...</td>\n",
       "    </tr>\n",
       "    <tr>\n",
       "      <th>...</th>\n",
       "      <td>...</td>\n",
       "      <td>...</td>\n",
       "      <td>...</td>\n",
       "      <td>...</td>\n",
       "      <td>...</td>\n",
       "    </tr>\n",
       "    <tr>\n",
       "      <th>42763</th>\n",
       "      <td>ZW89</td>\n",
       "      <td>R</td>\n",
       "      <td>-18.251363</td>\n",
       "      <td>31.264714</td>\n",
       "      <td>30012312003312,30012312003313,30012312003303,3...</td>\n",
       "    </tr>\n",
       "    <tr>\n",
       "      <th>42764</th>\n",
       "      <td>ZW90</td>\n",
       "      <td>R</td>\n",
       "      <td>-17.252286</td>\n",
       "      <td>30.914214</td>\n",
       "      <td>30012301133312,30012301133313,30012301133303,3...</td>\n",
       "    </tr>\n",
       "    <tr>\n",
       "      <th>42765</th>\n",
       "      <td>ZW92</td>\n",
       "      <td>R</td>\n",
       "      <td>-17.935135</td>\n",
       "      <td>31.118093</td>\n",
       "      <td>30012310223202,30012310223203,30012310222313,3...</td>\n",
       "    </tr>\n",
       "    <tr>\n",
       "      <th>42766</th>\n",
       "      <td>ZW93</td>\n",
       "      <td>R</td>\n",
       "      <td>-17.664349</td>\n",
       "      <td>31.168450</td>\n",
       "      <td>30012310221010,30012310221011,30012310221001,3...</td>\n",
       "    </tr>\n",
       "    <tr>\n",
       "      <th>42767</th>\n",
       "      <td>ZW94</td>\n",
       "      <td>R</td>\n",
       "      <td>-19.643233</td>\n",
       "      <td>27.741884</td>\n",
       "      <td>30012231121110,30012231121111,30012231121101,3...</td>\n",
       "    </tr>\n",
       "  </tbody>\n",
       "</table>\n",
       "<p>42768 rows × 5 columns</p>\n",
       "</div>"
      ],
      "text/plain": [
       "      country_cluster URBAN_RURA     LATNUM    LONGNUM  \\\n",
       "0               AL100          R  41.645007  19.925487   \n",
       "1               AL101          R  41.664977  20.045771   \n",
       "2               AL102          R  41.529707  20.064258   \n",
       "3               AL103          R  41.463585  20.091683   \n",
       "4               AL104          R  41.537868  20.127118   \n",
       "...               ...        ...        ...        ...   \n",
       "42763            ZW89          R -18.251363  31.264714   \n",
       "42764            ZW90          R -17.252286  30.914214   \n",
       "42765            ZW92          R -17.935135  31.118093   \n",
       "42766            ZW93          R -17.664349  31.168450   \n",
       "42767            ZW94          R -19.643233  27.741884   \n",
       "\n",
       "                                                nearests  \n",
       "0      12023332021232,12023332021233,12023332021223,1...  \n",
       "1      12023332030220,12023332030221,12023332021331,1...  \n",
       "2      12023332032221,12023332032230,12023332032220,1...  \n",
       "3      12023332210030,12023332210031,12023332210021,1...  \n",
       "4      12023332032320,12023332032321,12023332032231,1...  \n",
       "...                                                  ...  \n",
       "42763  30012312003312,30012312003313,30012312003303,3...  \n",
       "42764  30012301133312,30012301133313,30012301133303,3...  \n",
       "42765  30012310223202,30012310223203,30012310222313,3...  \n",
       "42766  30012310221010,30012310221011,30012310221001,3...  \n",
       "42767  30012231121110,30012231121111,30012231121101,3...  \n",
       "\n",
       "[42768 rows x 5 columns]"
      ]
     },
     "execution_count": 25,
     "metadata": {},
     "output_type": "execute_result"
    }
   ],
   "source": [
    "rural"
   ]
  },
  {
   "cell_type": "code",
   "execution_count": 26,
   "id": "92f8c6c5-1fb8-4ccc-8a18-22a709bc73f0",
   "metadata": {},
   "outputs": [
    {
     "name": "stdout",
     "output_type": "stream",
     "text": [
      "42768\n",
      "42768\n"
     ]
    },
    {
     "name": "stderr",
     "output_type": "stream",
     "text": [
      "C:\\Users\\Luca\\AppData\\Local\\Temp\\ipykernel_22308\\3506463750.py:3: SettingWithCopyWarning: \n",
      "A value is trying to be set on a copy of a slice from a DataFrame\n",
      "\n",
      "See the caveats in the documentation: https://pandas.pydata.org/pandas-docs/stable/user_guide/indexing.html#returning-a-view-versus-a-copy\n",
      "  temp.drop_duplicates(inplace = True)\n"
     ]
    }
   ],
   "source": [
    "temp = rural[['country_cluster', 'LONGNUM', 'LATNUM', 'nearests']]\n",
    "print(len(temp))\n",
    "temp.drop_duplicates(inplace = True)\n",
    "print(len(temp))\n",
    "temp.to_csv(\"C:\\\\Users\\\\Luca\\\\Downloads\\\\RWI\\\\spatial_join_rural.csv\", index = False)"
   ]
  },
  {
   "cell_type": "markdown",
   "id": "7a14b795-a223-466a-bcdd-2354c38fe8c7",
   "metadata": {},
   "source": [
    "We concatenate the datasets back together and export the dataset as one."
   ]
  },
  {
   "cell_type": "code",
   "execution_count": 125,
   "id": "03a7464d-6381-48f4-9afb-516a3b2238d9",
   "metadata": {},
   "outputs": [
    {
     "data": {
      "text/html": [
       "<div>\n",
       "<style scoped>\n",
       "    .dataframe tbody tr th:only-of-type {\n",
       "        vertical-align: middle;\n",
       "    }\n",
       "\n",
       "    .dataframe tbody tr th {\n",
       "        vertical-align: top;\n",
       "    }\n",
       "\n",
       "    .dataframe thead th {\n",
       "        text-align: right;\n",
       "    }\n",
       "</style>\n",
       "<table border=\"1\" class=\"dataframe\">\n",
       "  <thead>\n",
       "    <tr style=\"text-align: right;\">\n",
       "      <th></th>\n",
       "      <th>country_cluster</th>\n",
       "      <th>URBAN_RURA</th>\n",
       "      <th>LATNUM</th>\n",
       "      <th>LONGNUM</th>\n",
       "      <th>nearests</th>\n",
       "    </tr>\n",
       "  </thead>\n",
       "  <tbody>\n",
       "    <tr>\n",
       "      <th>0</th>\n",
       "      <td>AL1</td>\n",
       "      <td>U</td>\n",
       "      <td>40.710440</td>\n",
       "      <td>19.946651</td>\n",
       "      <td>12201110021011,12201110021010,12201110003233,1...</td>\n",
       "    </tr>\n",
       "    <tr>\n",
       "      <th>1</th>\n",
       "      <td>AL10</td>\n",
       "      <td>U</td>\n",
       "      <td>40.703271</td>\n",
       "      <td>19.976494</td>\n",
       "      <td>12201110021101,12201110021110,12201110021103,1...</td>\n",
       "    </tr>\n",
       "    <tr>\n",
       "      <th>2</th>\n",
       "      <td>AL11</td>\n",
       "      <td>U</td>\n",
       "      <td>40.689990</td>\n",
       "      <td>19.975658</td>\n",
       "      <td>12201110021103,12201110021102,12201110021121,1...</td>\n",
       "    </tr>\n",
       "    <tr>\n",
       "      <th>3</th>\n",
       "      <td>AL112</td>\n",
       "      <td>U</td>\n",
       "      <td>41.323535</td>\n",
       "      <td>19.468450</td>\n",
       "      <td>12023323312132,12023323312123,12023323312310,1...</td>\n",
       "    </tr>\n",
       "    <tr>\n",
       "      <th>4</th>\n",
       "      <td>AL113</td>\n",
       "      <td>U</td>\n",
       "      <td>41.326573</td>\n",
       "      <td>19.432670</td>\n",
       "      <td>12023323312122,12023323312033,12023323312300,1...</td>\n",
       "    </tr>\n",
       "    <tr>\n",
       "      <th>...</th>\n",
       "      <td>...</td>\n",
       "      <td>...</td>\n",
       "      <td>...</td>\n",
       "      <td>...</td>\n",
       "      <td>...</td>\n",
       "    </tr>\n",
       "    <tr>\n",
       "      <th>68179</th>\n",
       "      <td>ZW89</td>\n",
       "      <td>R</td>\n",
       "      <td>-18.251363</td>\n",
       "      <td>31.264714</td>\n",
       "      <td>30012312003312,30012312003303,30012312003310,3...</td>\n",
       "    </tr>\n",
       "    <tr>\n",
       "      <th>68180</th>\n",
       "      <td>ZW90</td>\n",
       "      <td>R</td>\n",
       "      <td>-17.252286</td>\n",
       "      <td>30.914214</td>\n",
       "      <td>30012301133312,30012301133303,30012301133310,3...</td>\n",
       "    </tr>\n",
       "    <tr>\n",
       "      <th>68181</th>\n",
       "      <td>ZW92</td>\n",
       "      <td>R</td>\n",
       "      <td>-17.935135</td>\n",
       "      <td>31.118093</td>\n",
       "      <td>30012310223202,30012310223203,30012310223220,3...</td>\n",
       "    </tr>\n",
       "    <tr>\n",
       "      <th>68182</th>\n",
       "      <td>ZW93</td>\n",
       "      <td>R</td>\n",
       "      <td>-17.664349</td>\n",
       "      <td>31.168450</td>\n",
       "      <td>30012310221010,30012310221011,30012310203232,3...</td>\n",
       "    </tr>\n",
       "    <tr>\n",
       "      <th>68183</th>\n",
       "      <td>ZW94</td>\n",
       "      <td>R</td>\n",
       "      <td>-19.643233</td>\n",
       "      <td>27.741884</td>\n",
       "      <td>30012231121110,30012231121101,30012231103332,3...</td>\n",
       "    </tr>\n",
       "  </tbody>\n",
       "</table>\n",
       "<p>68184 rows × 5 columns</p>\n",
       "</div>"
      ],
      "text/plain": [
       "      country_cluster URBAN_RURA     LATNUM    LONGNUM  \\\n",
       "0                 AL1          U  40.710440  19.946651   \n",
       "1                AL10          U  40.703271  19.976494   \n",
       "2                AL11          U  40.689990  19.975658   \n",
       "3               AL112          U  41.323535  19.468450   \n",
       "4               AL113          U  41.326573  19.432670   \n",
       "...               ...        ...        ...        ...   \n",
       "68179            ZW89          R -18.251363  31.264714   \n",
       "68180            ZW90          R -17.252286  30.914214   \n",
       "68181            ZW92          R -17.935135  31.118093   \n",
       "68182            ZW93          R -17.664349  31.168450   \n",
       "68183            ZW94          R -19.643233  27.741884   \n",
       "\n",
       "                                                nearests  \n",
       "0      12201110021011,12201110021010,12201110003233,1...  \n",
       "1      12201110021101,12201110021110,12201110021103,1...  \n",
       "2      12201110021103,12201110021102,12201110021121,1...  \n",
       "3      12023323312132,12023323312123,12023323312310,1...  \n",
       "4      12023323312122,12023323312033,12023323312300,1...  \n",
       "...                                                  ...  \n",
       "68179  30012312003312,30012312003303,30012312003310,3...  \n",
       "68180  30012301133312,30012301133303,30012301133310,3...  \n",
       "68181  30012310223202,30012310223203,30012310223220,3...  \n",
       "68182  30012310221010,30012310221011,30012310203232,3...  \n",
       "68183  30012231121110,30012231121101,30012231103332,3...  \n",
       "\n",
       "[68184 rows x 5 columns]"
      ]
     },
     "execution_count": 125,
     "metadata": {},
     "output_type": "execute_result"
    }
   ],
   "source": [
    "total = pd.concat([urban, rural], ignore_index = True)\n",
    "total"
   ]
  },
  {
   "cell_type": "code",
   "execution_count": 127,
   "id": "70249ebd-e8e5-47f0-b1f9-f11ff851a9a7",
   "metadata": {},
   "outputs": [
    {
     "data": {
      "text/plain": [
       "68184"
      ]
     },
     "execution_count": 127,
     "metadata": {},
     "output_type": "execute_result"
    }
   ],
   "source": [
    "len(total.country_cluster.unique())"
   ]
  },
  {
   "cell_type": "code",
   "execution_count": 128,
   "id": "6eff2acb-df7e-4bb2-8076-35aa2621a15f",
   "metadata": {},
   "outputs": [],
   "source": [
    "total.to_csv(\"C:\\\\Users\\\\Luca\\\\Downloads\\\\RWI\\\\spatial_join.csv\", index = False)"
   ]
  }
 ],
 "metadata": {
  "kernelspec": {
   "display_name": "Python 3 (ipykernel)",
   "language": "python",
   "name": "python3"
  },
  "language_info": {
   "codemirror_mode": {
    "name": "ipython",
    "version": 3
   },
   "file_extension": ".py",
   "mimetype": "text/x-python",
   "name": "python",
   "nbconvert_exporter": "python",
   "pygments_lexer": "ipython3",
   "version": "3.10.5"
  }
 },
 "nbformat": 4,
 "nbformat_minor": 5
}

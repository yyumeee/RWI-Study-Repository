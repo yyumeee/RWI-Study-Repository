{
 "cells": [
  {
   "cell_type": "markdown",
   "id": "9d8ead54-7bab-499a-bc50-7cc21e8e4f29",
   "metadata": {},
   "source": [
    "As much as the Relative Wealth Index is an effective method of measuring wealth for low and middle income countries at a very granular level, it's current structure is only tied to the country's overall wealth; it's also important to note that more populated poor areas should be highlighted more than others, but we should also take into account that different areas bear different population densities; we wouldn't want to incorrectly label an area as low-density if it's the most populated in a low populated, smaller area of the nation.\n",
    "This short notebook allows to get a better perspective of a microarea's wealth relative to a more specific area that entiles it.\n",
    "The code is very heavily inspired by META's approach on the matter https://dataforgood.facebook.com/dfg/docs/tutorial-calculating-population-weighted-relative-wealth-index, and it should in no way be implied to be the work of the notebook's author"
   ]
  },
  {
   "cell_type": "code",
   "execution_count": 1,
   "id": "ee488dd8-deb0-4d05-b86c-92fd34eb705a",
   "metadata": {},
   "outputs": [],
   "source": [
    "import pandas as pd \n",
    "import geopandas as gpd \n",
    "from shapely.geometry import Point \n",
    "from shapely.geometry.polygon import Polygon \n",
    "from pyquadkey2 import quadkey\n",
    "import os\n",
    "import fsspec"
   ]
  },
  {
   "cell_type": "markdown",
   "id": "05cabd6c-295f-4051-a22d-b9fd8a6fc5b4",
   "metadata": {},
   "source": [
    "The code aims to give weighted RWI scores based to a certain granularity within a nation (going from gdi = 0, which usually has regions as the administrative unit, towards more granular units as the gdi increases).\n",
    "The code requires the original RWI outputs for the given nation, the nation's population density estimates (both available here https://data.humdata.org/dataset), and a document containing all the administrative areas of the nation (available here https://gadm.org/data.html). It should be noted that the given data of the administrative areas is a .zip file containing multiple shapefiles of various partitionings of the country; it is required to only take the files with the higher number, as it contains the highest granularity possible, while also keeping the info about the lower level granularities."
   ]
  },
  {
   "cell_type": "markdown",
   "id": "ba148941-6704-4b86-bb87-870210fb97ad",
   "metadata": {},
   "source": [
    "The functions reads the administrative division files (at the granular level desired) and creates a geodataframe containing the different administrative areas that divide the country and their geometries; after that, every RWI estimate is joint to its administrative area (worth noting that if no area is found, the estimate is dropped from calculations). Then, the quadkey14 tile population value is estimated via the sum of population of all the points in the tile. The population value of an administrative unit is calculated by joining population and RWI datasets and taking the sum of all quadkey tiles in the administrative unit. In the end, we can calculate a tile's population weight over the administrative area, and consequentially calculate the weighted RWI as the original RWI times the tile's population weight."
   ]
  },
  {
   "cell_type": "code",
   "execution_count": 6,
   "id": "f5becd58-7374-4deb-bc28-bc1c0f67174a",
   "metadata": {},
   "outputs": [],
   "source": [
    "def get_point_in_polygon(lat, lon, polygons):\n",
    "    \"\"\" @param lat: double @param lon: double @param polygons: dict @return geo_id: str \"\"\" \n",
    "    point = Point(lon, lat) \n",
    "    for geo_id in polygons: \n",
    "        polygon = polygons[geo_id] \n",
    "        if polygon.contains(point): \n",
    "            return geo_id \n",
    "            \n",
    "    return 'null'"
   ]
  },
  {
   "cell_type": "code",
   "execution_count": 7,
   "id": "213b9dff-12b5-4ecd-8fc0-bfdc1e23f195",
   "metadata": {},
   "outputs": [],
   "source": [
    "def rwi_pond(country: str, gid: int):\n",
    "    os.chdir(\"C:\\\\Users\\\\Luca\\\\Downloads\")\n",
    "    path = f'gadm41_{country}_shp.zip'\n",
    "    with fsspec.open(path) as file:\n",
    "        shapefile = gpd.read_file(file) \n",
    "    \n",
    "    polygons = dict(zip(shapefile[f'GID_{gid}'], shapefile['geometry'])) \n",
    "    print(f'shapefile shape: {shapefile.shape}') \n",
    "\n",
    "    os.chdir(\"C:\\\\Users\\\\Luca\\\\Downloads\\\\Relative_Wealth_Index\")\n",
    "    rwi = pd.read_csv(f'{country}_relative_wealth_index.csv')\n",
    "\n",
    "    rwi['geo_id'] = rwi.apply(lambda x: get_point_in_polygon(x['latitude'], x['longitude'], polygons), axis=1) \n",
    "    rwi = rwi[rwi['geo_id'] != 'null'] \n",
    "    rwi = rwi.astype({'quadkey': str})\n",
    "    print(f'rwi shape: {rwi.shape}')\n",
    "\n",
    "    population = pd.read_csv(f\"C:\\\\Users\\\\Luca\\\\Downloads\\\\{country.lower()}_general_2020.csv\")\n",
    "    population = population.rename(columns={f'{country.lower()}_general_2020': 'pop_2020'})\n",
    "\n",
    "    population['quadkey'] = population.apply(lambda x: str(quadkey.from_geo((x['latitude'], x['longitude']), 14)), axis=1)\n",
    "    print(f'population shape: {population.shape}')\n",
    "\n",
    "    bing_tile_z14_pop = population.groupby('quadkey', as_index=False)['pop_2020'].sum()\n",
    "    \n",
    "    rwi_pop = rwi.merge(bing_tile_z14_pop, on='quadkey', how='inner')\n",
    "    \n",
    "    geo_pop = rwi_pop.groupby('geo_id', as_index=False)['pop_2020'].sum()\n",
    "    geo_pop = geo_pop.rename(columns={'pop_2020': 'geo_2020'})\n",
    "    \n",
    "    rwi_pop = rwi_pop.merge(geo_pop, on='geo_id', how='inner')\n",
    "\n",
    "    rwi_pop['pop_weight'] = rwi_pop['pop_2020'] / rwi_pop['geo_2020']\n",
    "    rwi_pop['rwi_weight'] = rwi_pop['rwi'] * rwi_pop['pop_weight']\n",
    "\n",
    "    geo_rwi = rwi_pop.groupby('geo_id', as_index=False)['rwi_weight'].sum()\n",
    "    rwi = rwi.merge(geo_rwi, on = 'geo_id', how = 'left')\n",
    "\n",
    "    return rwi"
   ]
  },
  {
   "cell_type": "markdown",
   "id": "ddfe464a-3602-48b3-a1ac-fa78a0bd5f24",
   "metadata": {},
   "source": [
    "To call the function, refer to a nation by its 3 letters ISO code in uppercase, and input the desired granularity level. The output is a dataset containing both the initial RWI estimate and its weighted estimate. \n",
    "Below, an example for the country of Albania. We can see, for example, that the third tile seems poorer than the first, but after weighting for the population density, the first tile is relatively poorer given how it has a higher density of people relative to its administrative area then the third tile."
   ]
  },
  {
   "cell_type": "code",
   "execution_count": 8,
   "id": "06a54f0f-d386-409a-a770-e6ae82620dcd",
   "metadata": {},
   "outputs": [
    {
     "name": "stdout",
     "output_type": "stream",
     "text": [
      "shapefile shape: (378, 17)\n",
      "rwi shape: (344, 6)\n",
      "population shape: (2356844, 4)\n",
      "(344, 7)\n"
     ]
    },
    {
     "data": {
      "text/html": [
       "<div>\n",
       "<style scoped>\n",
       "    .dataframe tbody tr th:only-of-type {\n",
       "        vertical-align: middle;\n",
       "    }\n",
       "\n",
       "    .dataframe tbody tr th {\n",
       "        vertical-align: top;\n",
       "    }\n",
       "\n",
       "    .dataframe thead th {\n",
       "        text-align: right;\n",
       "    }\n",
       "</style>\n",
       "<table border=\"1\" class=\"dataframe\">\n",
       "  <thead>\n",
       "    <tr style=\"text-align: right;\">\n",
       "      <th></th>\n",
       "      <th>quadkey</th>\n",
       "      <th>latitude</th>\n",
       "      <th>longitude</th>\n",
       "      <th>rwi</th>\n",
       "      <th>error</th>\n",
       "      <th>geo_id</th>\n",
       "      <th>rwi_weight</th>\n",
       "    </tr>\n",
       "  </thead>\n",
       "  <tbody>\n",
       "    <tr>\n",
       "      <th>0</th>\n",
       "      <td>12023332300002</td>\n",
       "      <td>41.483891</td>\n",
       "      <td>20.401611</td>\n",
       "      <td>-0.400</td>\n",
       "      <td>0.453</td>\n",
       "      <td>ALB.2.1_1</td>\n",
       "      <td>-0.172335</td>\n",
       "    </tr>\n",
       "    <tr>\n",
       "      <th>1</th>\n",
       "      <td>12023321313221</td>\n",
       "      <td>42.317939</td>\n",
       "      <td>19.544678</td>\n",
       "      <td>0.110</td>\n",
       "      <td>0.465</td>\n",
       "      <td>ALB.10.1_1</td>\n",
       "      <td>-0.005419</td>\n",
       "    </tr>\n",
       "    <tr>\n",
       "      <th>2</th>\n",
       "      <td>12201110021131</td>\n",
       "      <td>40.672306</td>\n",
       "      <td>20.028076</td>\n",
       "      <td>-0.549</td>\n",
       "      <td>0.431</td>\n",
       "      <td>ALB.1.1_1</td>\n",
       "      <td>-0.093296</td>\n",
       "    </tr>\n",
       "    <tr>\n",
       "      <th>3</th>\n",
       "      <td>12201110130133</td>\n",
       "      <td>40.655638</td>\n",
       "      <td>20.906982</td>\n",
       "      <td>-0.407</td>\n",
       "      <td>0.471</td>\n",
       "      <td>ALB.7.1_1</td>\n",
       "      <td>0.116587</td>\n",
       "    </tr>\n",
       "    <tr>\n",
       "      <th>4</th>\n",
       "      <td>12201110021331</td>\n",
       "      <td>40.605612</td>\n",
       "      <td>20.028076</td>\n",
       "      <td>-0.802</td>\n",
       "      <td>0.440</td>\n",
       "      <td>ALB.1.1_1</td>\n",
       "      <td>-0.093296</td>\n",
       "    </tr>\n",
       "  </tbody>\n",
       "</table>\n",
       "</div>"
      ],
      "text/plain": [
       "          quadkey   latitude  longitude    rwi  error      geo_id  rwi_weight\n",
       "0  12023332300002  41.483891  20.401611 -0.400  0.453   ALB.2.1_1   -0.172335\n",
       "1  12023321313221  42.317939  19.544678  0.110  0.465  ALB.10.1_1   -0.005419\n",
       "2  12201110021131  40.672306  20.028076 -0.549  0.431   ALB.1.1_1   -0.093296\n",
       "3  12201110130133  40.655638  20.906982 -0.407  0.471   ALB.7.1_1    0.116587\n",
       "4  12201110021331  40.605612  20.028076 -0.802  0.440   ALB.1.1_1   -0.093296"
      ]
     },
     "execution_count": 8,
     "metadata": {},
     "output_type": "execute_result"
    }
   ],
   "source": [
    "albania = rwi_pond('ALB', 2)\n",
    "print(albania.shape)\n",
    "albania.head()"
   ]
  }
 ],
 "metadata": {
  "kernelspec": {
   "display_name": "Python 3 (ipykernel)",
   "language": "python",
   "name": "python3"
  },
  "language_info": {
   "codemirror_mode": {
    "name": "ipython",
    "version": 3
   },
   "file_extension": ".py",
   "mimetype": "text/x-python",
   "name": "python",
   "nbconvert_exporter": "python",
   "pygments_lexer": "ipython3",
   "version": "3.10.5"
  }
 },
 "nbformat": 4,
 "nbformat_minor": 5
}
